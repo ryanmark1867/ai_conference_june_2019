{
 "cells": [
  {
   "cell_type": "markdown",
   "metadata": {},
   "source": [
    "# Streetcar Delay Prediction - Data Preparation\n",
    "\n",
    "Use dataset covering Toronto Transit Commission (TTC) streetcar delays 2014 - present to predict future delays and come up with recommendations for avoiding delays.\n",
    "\n",
    "Source dataset: : https://www.toronto.ca/city-government/data-research-maps/open-data/open-data-catalogue/#e8f359f0-2f47-3058-bf64-6ec488de52da\n",
    "\n",
    "This notebook contains the common data loading and preparation steps:\n",
    "- load data from all the tabs of all the XLS files into a single dataframe\n",
    "- correct type issues\n",
    "- fix missing values\n",
    "- clean up anomalies in the location, direction and vehicle columns"
   ]
  },
  {
   "cell_type": "markdown",
   "metadata": {},
   "source": [
    "# Streetcar routes\n",
    "\n",
    "From https://www.ttc.ca/Routes/Streetcars.jsp\n",
    "\n",
    "<table style=\"border: none\" align=\"left\">\n",
    "   </tr>\n",
    "   <tr style=\"border: none\">\n",
    "       <th style=\"border: none\"><img src=\"https://raw.githubusercontent.com/ryanmark1867/streetcarnov3/master/streetcar%20routes.jpg\" width=\"600\" alt=\"Icon\"> </th>\n",
    "   </tr>\n",
    "</table>"
   ]
  },
  {
   "cell_type": "markdown",
   "metadata": {},
   "source": [
    "# Streetcar vehicle IDs CLRV/ALRV\n",
    "\n",
    "From https://en.wikipedia.org/wiki/Toronto_streetcar_system_rolling_stock#CLRVs_and_ALRVs\n",
    "\n",
    "<table style=\"border: none\" align=\"left\">\n",
    "   </tr>\n",
    "   <tr style=\"border: none\">\n",
    "       <th style=\"border: none\"><img src=\"https://raw.githubusercontent.com/ryanmark1867/streetcarnov3/master/streetcarCLRV.jpg\" width=\"600\" alt=\"Icon\"> </th>\n",
    "   </tr>\n",
    "</table>"
   ]
  },
  {
   "cell_type": "code",
   "execution_count": 1,
   "metadata": {},
   "outputs": [
    {
     "name": "stdout",
     "output_type": "stream",
     "text": [
      "valid streetcars [4000, 4001, 4002, 4003, 4004, 4010, 4011, 4012, 4013, 4014, 4015, 4016, 4017, 4018, 4019, 4020, 4021, 4022, 4023, 4024, 4025, 4026, 4027, 4028, 4029, 4030, 4031, 4032, 4033, 4034, 4035, 4036, 4037, 4038, 4039, 4040, 4041, 4042, 4043, 4044, 4045, 4046, 4047, 4048, 4049, 4050, 4051, 4052, 4053, 4054, 4055, 4056, 4057, 4058, 4059, 4060, 4061, 4062, 4063, 4064, 4065, 4066, 4067, 4068, 4069, 4070, 4071, 4072, 4073, 4074, 4075, 4076, 4077, 4078, 4079, 4080, 4081, 4082, 4083, 4084, 4085, 4086, 4087, 4088, 4089, 4090, 4091, 4092, 4093, 4094, 4095, 4096, 4097, 4098, 4099, 4100, 4101, 4102, 4103, 4104, 4105, 4106, 4107, 4108, 4109, 4110, 4111, 4112, 4113, 4114, 4115, 4116, 4117, 4118, 4119, 4120, 4121, 4122, 4123, 4124, 4125, 4126, 4127, 4128, 4129, 4130, 4131, 4132, 4133, 4134, 4135, 4136, 4137, 4138, 4139, 4140, 4141, 4142, 4143, 4144, 4145, 4146, 4147, 4148, 4149, 4150, 4151, 4152, 4153, 4154, 4155, 4156, 4157, 4158, 4159, 4160, 4161, 4162, 4163, 4164, 4165, 4166, 4167, 4168, 4169, 4170, 4171, 4172, 4173, 4174, 4175, 4176, 4177, 4178, 4179, 4180, 4181, 4182, 4183, 4184, 4185, 4186, 4187, 4188, 4189, 4190, 4191, 4192, 4193, 4194, 4195, 4196, 4197, 4198, 4199, 4200, 4201, 4202, 4203, 4204, 4205, 4206, 4207, 4208, 4209, 4210, 4211, 4212, 4213, 4214, 4215, 4216, 4217, 4218, 4219, 4220, 4221, 4222, 4223, 4224, 4225, 4226, 4227, 4228, 4229, 4230, 4231, 4232, 4233, 4234, 4235, 4236, 4237, 4238, 4239, 4240, 4241, 4242, 4243, 4244, 4245, 4246, 4247, 4248, 4249, 4250, 4251, 4900, 4400, 4402, 4403, 4404, 4405, 4406, 4407, 4408, 4409, 4410, 4411, 4412, 4413, 4414, 4415, 4416, 4417, 4418, 4419, 4420, 4421, 4422, 4423, 4424, 4425, 4426, 4427, 4428, 4429, 4430, 4431, 4432, 4433, 4434, 4435, 4436, 4437, 4438, 4439, 4440, 4441, 4442, 4443, 4444, 4445, 4446, 4447, 4448, 4449, 4450, 4451, 4452, 4453, 4454, 4455, 4456, 4457, 4458, 4459, 4460, 4461, 4462, 4463, 4464, 4465, 4466, 4467, 4468, 4469, 4470, 4471, 4472, 4473, 4474, 4475, 4476, 4477, 4478, 4479, 4480, 4481, 4482, 4483, 4484, 4485, 4486, 4487, 4488, 4489, 4490, 4491, 4492, 4493, 4494, 4495, 4496, 4497, 4498, 4499, 4500, 4501, 4502, 4503, 4504, 4505, 4506, 4507]\n"
     ]
    }
   ],
   "source": [
    "streetcar_vehicles = list(range(4000,4005))+ list(range(4010,4200)) +  list(range(4200,4252)) + [4900]\n",
    "streetcar_vehicles = streetcar_vehicles + [4400] + list(range(4402,4508))\n",
    "print(\"valid streetcars\",streetcar_vehicles)"
   ]
  },
  {
   "cell_type": "markdown",
   "metadata": {},
   "source": [
    "# Streetcar vehicle IDs Flexity\n",
    "\n",
    "From https://en.wikipedia.org/wiki/Toronto_streetcar_system_rolling_stock#CLRVs_and_ALRVs\n",
    "\n",
    "<table style=\"border: none\" align=\"left\">\n",
    "   </tr>\n",
    "   <tr style=\"border: none\">\n",
    "       <th style=\"border: none\"><img src=\"https://raw.githubusercontent.com/ryanmark1867/streetcarnov3/master/streetcarflexity.jpg\" width=\"600\" alt=\"Icon\"> </th>\n",
    "   </tr>\n",
    "</table>"
   ]
  },
  {
   "cell_type": "markdown",
   "metadata": {},
   "source": [
    "# Bus identification\n",
    "The following links define the valid non-streetcar vehicles that can be delayed by streetcar incidents\n",
    "\n",
    "- Buses 1xxx: https://cptdb.ca/wiki/index.php/Toronto_Transit_Commission_1000-1149\n",
    "- Buses 2xxx: https://cptdb.ca/wiki/index.php/Toronto_Transit_Commission_2000-2110,_2150-2155,_2240-2485,_2600-2619,_2700-2765,_2767-2858\n",
    "- Buses 70xx: https://cptdb.ca/wiki/index.php/Toronto_Transit_Commission_7000-7134\n",
    "- Buses 74xx: https://cptdb.ca/wiki/index.php/Toronto_Transit_Commission_7400-7499,_7500-7619,_7620-7881\n",
    "- Buses 8xxx: https://cptdb.ca/wiki/index.php/Toronto_Transit_Commission_8000-8099\n",
    "- Buses 9xxx: https://cptdb.ca/wiki/index.php/Toronto_Transit_Commission_9000-9026\n",
    "\n",
    "\n",
    "\n",
    "\n",
    "\n"
   ]
  },
  {
   "cell_type": "code",
   "execution_count": 2,
   "metadata": {},
   "outputs": [
    {
     "name": "stdout",
     "output_type": "stream",
     "text": [
      "valid vehicles [4000, 4001, 4002, 4003, 4004, 4010, 4011, 4012, 4013, 4014, 4015, 4016, 4017, 4018, 4019, 4020, 4021, 4022, 4023, 4024, 4025, 4026, 4027, 4028, 4029, 4030, 4031, 4032, 4033, 4034, 4035, 4036, 4037, 4038, 4039, 4040, 4041, 4042, 4043, 4044, 4045, 4046, 4047, 4048, 4049, 4050, 4051, 4052, 4053, 4054, 4055, 4056, 4057, 4058, 4059, 4060, 4061, 4062, 4063, 4064, 4065, 4066, 4067, 4068, 4069, 4070, 4071, 4072, 4073, 4074, 4075, 4076, 4077, 4078, 4079, 4080, 4081, 4082, 4083, 4084, 4085, 4086, 4087, 4088, 4089, 4090, 4091, 4092, 4093, 4094, 4095, 4096, 4097, 4098, 4099, 4100, 4101, 4102, 4103, 4104, 4105, 4106, 4107, 4108, 4109, 4110, 4111, 4112, 4113, 4114, 4115, 4116, 4117, 4118, 4119, 4120, 4121, 4122, 4123, 4124, 4125, 4126, 4127, 4128, 4129, 4130, 4131, 4132, 4133, 4134, 4135, 4136, 4137, 4138, 4139, 4140, 4141, 4142, 4143, 4144, 4145, 4146, 4147, 4148, 4149, 4150, 4151, 4152, 4153, 4154, 4155, 4156, 4157, 4158, 4159, 4160, 4161, 4162, 4163, 4164, 4165, 4166, 4167, 4168, 4169, 4170, 4171, 4172, 4173, 4174, 4175, 4176, 4177, 4178, 4179, 4180, 4181, 4182, 4183, 4184, 4185, 4186, 4187, 4188, 4189, 4190, 4191, 4192, 4193, 4194, 4195, 4196, 4197, 4198, 4199, 4200, 4201, 4202, 4203, 4204, 4205, 4206, 4207, 4208, 4209, 4210, 4211, 4212, 4213, 4214, 4215, 4216, 4217, 4218, 4219, 4220, 4221, 4222, 4223, 4224, 4225, 4226, 4227, 4228, 4229, 4230, 4231, 4232, 4233, 4234, 4235, 4236, 4237, 4238, 4239, 4240, 4241, 4242, 4243, 4244, 4245, 4246, 4247, 4248, 4249, 4250, 4251, 4900, 4400, 4402, 4403, 4404, 4405, 4406, 4407, 4408, 4409, 4410, 4411, 4412, 4413, 4414, 4415, 4416, 4417, 4418, 4419, 4420, 4421, 4422, 4423, 4424, 4425, 4426, 4427, 4428, 4429, 4430, 4431, 4432, 4433, 4434, 4435, 4436, 4437, 4438, 4439, 4440, 4441, 4442, 4443, 4444, 4445, 4446, 4447, 4448, 4449, 4450, 4451, 4452, 4453, 4454, 4455, 4456, 4457, 4458, 4459, 4460, 4461, 4462, 4463, 4464, 4465, 4466, 4467, 4468, 4469, 4470, 4471, 4472, 4473, 4474, 4475, 4476, 4477, 4478, 4479, 4480, 4481, 4482, 4483, 4484, 4485, 4486, 4487, 4488, 4489, 4490, 4491, 4492, 4493, 4494, 4495, 4496, 4497, 4498, 4499, 4500, 4501, 4502, 4503, 4504, 4505, 4506, 4507, 1000, 1001, 1002, 1003, 1004, 1005, 1006, 1007, 1008, 1009, 1010, 1011, 1012, 1013, 1014, 1015, 1016, 1017, 1018, 1019, 1020, 1021, 1022, 1023, 1024, 1025, 1026, 1027, 1028, 1029, 1030, 1031, 1032, 1033, 1034, 1035, 1036, 1037, 1038, 1039, 1040, 1041, 1042, 1043, 1044, 1045, 1046, 1047, 1048, 1049, 1050, 1051, 1052, 1053, 1054, 1055, 1056, 1057, 1058, 1059, 1060, 1061, 1062, 1063, 1064, 1065, 1066, 1067, 1068, 1069, 1070, 1071, 1072, 1073, 1074, 1075, 1076, 1077, 1078, 1079, 1080, 1081, 1082, 1083, 1084, 1085, 1086, 1087, 1088, 1089, 1090, 1091, 1092, 1093, 1094, 1095, 1096, 1097, 1098, 1099, 1100, 1101, 1102, 1103, 1104, 1105, 1106, 1107, 1108, 1109, 1110, 1111, 1112, 1113, 1114, 1115, 1116, 1117, 1118, 1119, 1120, 1121, 1122, 1123, 1124, 1125, 1126, 1127, 1128, 1129, 1130, 1131, 1132, 1133, 1134, 1135, 1136, 1137, 1138, 1139, 1140, 1141, 1142, 1143, 1144, 1145, 1146, 1147, 1148, 1149, 2000, 2001, 2002, 2003, 2004, 2005, 2006, 2007, 2008, 2009, 2010, 2011, 2012, 2013, 2014, 2015, 2016, 2017, 2018, 2019, 2020, 2021, 2022, 2023, 2024, 2025, 2026, 2027, 2028, 2029, 2030, 2031, 2032, 2033, 2034, 2035, 2036, 2037, 2038, 2039, 2040, 2041, 2042, 2043, 2044, 2045, 2046, 2047, 2048, 2049, 2050, 2051, 2052, 2053, 2054, 2055, 2056, 2057, 2058, 2059, 2060, 2061, 2062, 2063, 2064, 2065, 2066, 2067, 2068, 2069, 2070, 2071, 2072, 2073, 2074, 2075, 2076, 2077, 2078, 2079, 2080, 2081, 2082, 2083, 2084, 2085, 2086, 2087, 2088, 2089, 2090, 2091, 2092, 2093, 2094, 2095, 2096, 2097, 2098, 2099, 2100, 2101, 2102, 2103, 2104, 2105, 2106, 2107, 2108, 2109, 2110, 2150, 2151, 2152, 2153, 2154, 2155, 2240, 2241, 2242, 2243, 2244, 2245, 2246, 2247, 2248, 2249, 2250, 2251, 2252, 2253, 2254, 2255, 2256, 2257, 2258, 2259, 2260, 2261, 2262, 2263, 2264, 2265, 2266, 2267, 2268, 2269, 2270, 2271, 2272, 2273, 2274, 2275, 2276, 2277, 2278, 2279, 2280, 2281, 2282, 2283, 2284, 2285, 2286, 2287, 2288, 2289, 2290, 2291, 2292, 2293, 2294, 2295, 2296, 2297, 2298, 2299, 2300, 2301, 2302, 2303, 2304, 2305, 2306, 2307, 2308, 2309, 2310, 2311, 2312, 2313, 2314, 2315, 2316, 2317, 2318, 2319, 2320, 2321, 2322, 2323, 2324, 2325, 2326, 2327, 2328, 2329, 2330, 2331, 2332, 2333, 2334, 2335, 2336, 2337, 2338, 2339, 2340, 2341, 2342, 2343, 2344, 2345, 2346, 2347, 2348, 2349, 2350, 2351, 2352, 2353, 2354, 2355, 2356, 2357, 2358, 2359, 2360, 2361, 2362, 2363, 2364, 2365, 2366, 2367, 2368, 2369, 2370, 2371, 2372, 2373, 2374, 2375, 2376, 2377, 2378, 2379, 2380, 2381, 2382, 2383, 2384, 2385, 2386, 2387, 2388, 2389, 2390, 2391, 2392, 2393, 2394, 2395, 2396, 2397, 2398, 2399, 2400, 2401, 2402, 2403, 2404, 2405, 2406, 2407, 2408, 2409, 2410, 2411, 2412, 2413, 2414, 2415, 2416, 2417, 2418, 2419, 2420, 2421, 2422, 2423, 2424, 2425, 2426, 2427, 2428, 2429, 2430, 2431, 2432, 2433, 2434, 2435, 2436, 2437, 2438, 2439, 2440, 2441, 2442, 2443, 2444, 2445, 2446, 2447, 2448, 2449, 2450, 2451, 2452, 2453, 2454, 2455, 2456, 2457, 2458, 2459, 2460, 2461, 2462, 2463, 2464, 2465, 2466, 2467, 2468, 2469, 2470, 2471, 2472, 2473, 2474, 2475, 2476, 2477, 2478, 2479, 2480, 2481, 2482, 2483, 2484, 2485, 2600, 2601, 2602, 2603, 2604, 2605, 2606, 2607, 2608, 2609, 2610, 2611, 2612, 2613, 2614, 2615, 2616, 2617, 2618, 2619, 2700, 2701, 2702, 2703, 2704, 2705, 2706, 2707, 2708, 2709, 2710, 2711, 2712, 2713, 2714, 2715, 2716, 2717, 2718, 2719, 2720, 2721, 2722, 2723, 2724, 2725, 2726, 2727, 2728, 2729, 2730, 2731, 2732, 2733, 2734, 2735, 2736, 2737, 2738, 2739, 2740, 2741, 2742, 2743, 2744, 2745, 2746, 2747, 2748, 2749, 2750, 2751, 2752, 2753, 2754, 2755, 2756, 2757, 2758, 2759, 2760, 2761, 2762, 2763, 2764, 2765, 2767, 2768, 2769, 2770, 2771, 2772, 2773, 2774, 2775, 2776, 2777, 2778, 2779, 2780, 2781, 2782, 2783, 2784, 2785, 2786, 2787, 2788, 2789, 2790, 2791, 2792, 2793, 2794, 2795, 2796, 2797, 2798, 2799, 2800, 2801, 2802, 2803, 2804, 2805, 2806, 2807, 2808, 2809, 2810, 2811, 2812, 2813, 2814, 2815, 2816, 2817, 2818, 2819, 2820, 2821, 2822, 2823, 2824, 2825, 2826, 2827, 2828, 2829, 2830, 2831, 2832, 2833, 2834, 2835, 2836, 2837, 2838, 2839, 2840, 2841, 2842, 2843, 2844, 2845, 2846, 2847, 2848, 2849, 2850, 2851, 2852, 2853, 2854, 2855, 2856, 2857, 2858, 7000, 7001, 7002, 7003, 7004, 7005, 7006, 7007, 7008, 7009, 7010, 7011, 7012, 7013, 7014, 7015, 7016, 7017, 7018, 7019, 7020, 7021, 7022, 7023, 7024, 7025, 7026, 7027, 7028, 7029, 7030, 7031, 7032, 7033, 7034, 7035, 7036, 7037, 7038, 7039, 7040, 7041, 7042, 7043, 7044, 7045, 7046, 7047, 7048, 7049, 7050, 7051, 7052, 7053, 7054, 7055, 7056, 7057, 7058, 7059, 7060, 7061, 7062, 7063, 7064, 7065, 7066, 7067, 7068, 7069, 7070, 7071, 7072, 7073, 7074, 7075, 7076, 7077, 7078, 7079, 7080, 7081, 7082, 7083, 7084, 7085, 7086, 7087, 7088, 7089, 7090, 7091, 7092, 7093, 7094, 7095, 7096, 7097, 7098, 7099, 7100, 7101, 7102, 7103, 7104, 7105, 7106, 7107, 7108, 7109, 7110, 7111, 7112, 7113, 7114, 7115, 7116, 7117, 7118, 7119, 7120, 7121, 7122, 7123, 7124, 7125, 7126, 7127, 7128, 7129, 7130, 7131, 7132, 7133, 7134, 7400, 7401, 7402, 7403, 7404, 7405, 7406, 7407, 7408, 7409, 7410, 7411, 7412, 7413, 7414, 7415, 7416, 7417, 7418, 7419, 7420, 7421, 7422, 7423, 7424, 7425, 7426, 7427, 7428, 7429, 7430, 7431, 7432, 7433, 7434, 7435, 7436, 7437, 7438, 7439, 7440, 7441, 7442, 7443, 7444, 7445, 7446, 7447, 7448, 7449, 7500, 7501, 7502, 7503, 7504, 7505, 7506, 7507, 7508, 7509, 7510, 7511, 7512, 7513, 7514, 7515, 7516, 7517, 7518, 7519, 7520, 7521, 7522, 7523, 7524, 7525, 7526, 7527, 7528, 7529, 7530, 7531, 7532, 7533, 7534, 7535, 7536, 7537, 7538, 7539, 7540, 7541, 7542, 7543, 7544, 7545, 7546, 7547, 7548, 7549, 7550, 7551, 7552, 7553, 7554, 7555, 7556, 7557, 7558, 7559, 7560, 7561, 7562, 7563, 7564, 7565, 7566, 7567, 7568, 7569, 7570, 7571, 7572, 7573, 7574, 7575, 7576, 7577, 7578, 7579, 7580, 7581, 7582, 7583, 7584, 7585, 7586, 7587, 7588, 7589, 7590, 7591, 7592, 7593, 7594, 7595, 7596, 7597, 7598, 7599, 7600, 7601, 7602, 7603, 7604, 7605, 7606, 7607, 7608, 7609, 7610, 7611, 7612, 7613, 7614, 7615, 7616, 7617, 7618, 7619, 7620, 7621, 7622, 7623, 7624, 7625, 7626, 7627, 7628, 7629, 7630, 7631, 7632, 7633, 7634, 7635, 7636, 7637, 7638, 7639, 7640, 7641, 7642, 7643, 7644, 7645, 7646, 7647, 7648, 7649, 7650, 7651, 7652, 7653, 7654, 7655, 7656, 7657, 7658, 7659, 7660, 7661, 7662, 7663, 7664, 7665, 7666, 7667, 7668, 7669, 7670, 7671, 7672, 7673, 7674, 7675, 7676, 7677, 7678, 7679, 7680, 7681, 7682, 7683, 7684, 7685, 7686, 7687, 7688, 7689, 7690, 7691, 7692, 7693, 7694, 7695, 7696, 7697, 7698, 7699, 7700, 7701, 7702, 7703, 7704, 7705, 7706, 7707, 7708, 7709, 7710, 7711, 7712, 7713, 7714, 7715, 7716, 7717, 7718, 7719, 7720, 7721, 7722, 7723, 7724, 7725, 7726, 7727, 7728, 7729, 7730, 7731, 7732, 7733, 7734, 7735, 7736, 7737, 7738, 7739, 7740, 7741, 7742, 7743, 7744, 7745, 7746, 7747, 7748, 7749, 7750, 7751, 7752, 7753, 7754, 7755, 7756, 7757, 7758, 7759, 7760, 7761, 7762, 7763, 7764, 7765, 7766, 7767, 7768, 7769, 7770, 7771, 7772, 7773, 7774, 7775, 7776, 7777, 7778, 7779, 7780, 7781, 7782, 7783, 7784, 7785, 7786, 7787, 7788, 7789, 7790, 7791, 7792, 7793, 7794, 7795, 7796, 7797, 7798, 7799, 7800, 7801, 7802, 7803, 7804, 7805, 7806, 7807, 7808, 7809, 7810, 7811, 7812, 7813, 7814, 7815, 7816, 7817, 7818, 7819, 7820, 7821, 7822, 7823, 7824, 7825, 7826, 7827, 7828, 7829, 7830, 7831, 7832, 7833, 7834, 7835, 7836, 7837, 7838, 7839, 7840, 7841, 7842, 7843, 7844, 7845, 7846, 7847, 7848, 7849, 7850, 7851, 7852, 7853, 7854, 7855, 7856, 7857, 7858, 7859, 7860, 7861, 7862, 7863, 7864, 7865, 7866, 7867, 7868, 7869, 7870, 7871, 7872, 7873, 7874, 7875, 7876, 7877, 7878, 7879, 7880, 7881, 8000, 8001, 8002, 8003, 8004, 8005, 8006, 8007, 8008, 8009, 8010, 8011, 8012, 8013, 8014, 8015, 8016, 8017, 8018, 8019, 8020, 8021, 8022, 8023, 8024, 8025, 8026, 8027, 8028, 8029, 8030, 8031, 8032, 8033, 8034, 8035, 8036, 8037, 8038, 8039, 8040, 8041, 8042, 8043, 8044, 8045, 8046, 8047, 8048, 8049, 8050, 8051, 8052, 8053, 8054, 8055, 8056, 8057, 8058, 8059, 8060, 8061, 8062, 8063, 8064, 8065, 8066, 8067, 8068, 8069, 8070, 8071, 8072, 8073, 8074, 8075, 8076, 8077, 8078, 8079, 8080, 8081, 8082, 8083, 8084, 8085, 8086, 8087, 8088, 8089, 8090, 8091, 8092, 8093, 8094, 8095, 8096, 8097, 8098, 8099, 9000, 9001, 9002, 9003, 9004, 9005, 9006, 9007, 9008, 9009, 9010, 9011, 9012, 9013, 9014, 9015, 9016, 9017, 9018, 9019, 9020, 9021, 9022, 9023, 9024, 9025, 9026]\n"
     ]
    }
   ],
   "source": [
    "bus_vehicles = list(range(1000,1150))+ list(range(2000,2111)) + list(range(2150,2156)) + list(range(2240,2486))\n",
    "bus_vehicles = bus_vehicles + list(range(2600,2620)) + list(range(2700,2766)) + list(range(2767,2859))\n",
    "bus_vehicles = bus_vehicles + list(range(7000,7135)) + list(range(7400,7450)) + list(range(7500,7620)) + list(range(7620,7882))\n",
    "bus_vehicles = bus_vehicles + list(range(8000,8100)) + list(range(9000,9027))\n",
    "valid_vehicles = streetcar_vehicles + bus_vehicles\n",
    "print(\"valid vehicles\",valid_vehicles)"
   ]
  },
  {
   "cell_type": "markdown",
   "metadata": {},
   "source": [
    "# Vehicles that are not legitimate subjects of streetcar incidents\n",
    "The following vehicles are not legitimate subjects of streetcar incidents because they run on completely separate tracks (RT and subway) or they have been retired (6xxx buses).\n",
    "\n",
    "- RT cars 3xxx: https://cptdb.ca/wiki/index.php/Toronto_Transit_Commission_3000-3027\n",
    "- Subway cars 5xxx https://cptdb.ca/wiki/index.php/Toronto_Transit_Commission_5000-5371\n",
    "- Retired Buses 6xxx: https://cptdb.ca/wiki/index.php/Toronto_Transit_Commission_6000-6122\n"
   ]
  },
  {
   "cell_type": "code",
   "execution_count": 3,
   "metadata": {},
   "outputs": [],
   "source": [
    "# load the valid list of TTC Streetcar routes\n",
    "valid_routes = ['501','502','503','504','505','506','509','510','511','512','301','304','306','310']"
   ]
  },
  {
   "cell_type": "code",
   "execution_count": 4,
   "metadata": {},
   "outputs": [
    {
     "data": {
      "text/plain": [
       "['501',\n",
       " '502',\n",
       " '503',\n",
       " '504',\n",
       " '505',\n",
       " '506',\n",
       " '509',\n",
       " '510',\n",
       " '511',\n",
       " '512',\n",
       " '301',\n",
       " '304',\n",
       " '306',\n",
       " '310']"
      ]
     },
     "execution_count": 4,
     "metadata": {},
     "output_type": "execute_result"
    }
   ],
   "source": [
    "valid_routes"
   ]
  },
  {
   "cell_type": "code",
   "execution_count": 5,
   "metadata": {},
   "outputs": [],
   "source": [
    "# original valid directions\n",
    "# valid_directions = ['E/B','W/B','N/B','S/B','B/W']\n",
    "# revised valid directions to include lowercasing and removal of '/' and simplify to single letter\n",
    "valid_directions = ['e','w','n','s','b']"
   ]
  },
  {
   "cell_type": "code",
   "execution_count": 6,
   "metadata": {},
   "outputs": [],
   "source": [
    "valid_days = ['Monday','Tuesday','Wednesday','Thursday','Friday','Saturday','Sunday']"
   ]
  },
  {
   "cell_type": "code",
   "execution_count": 7,
   "metadata": {},
   "outputs": [
    {
     "name": "stdout",
     "output_type": "stream",
     "text": [
      "/storage/manning/notebooks\r\n"
     ]
    }
   ],
   "source": [
    "! pwd"
   ]
  },
  {
   "cell_type": "markdown",
   "metadata": {},
   "source": [
    "# Load and Save Data\n",
    "- parse list of XLS files \n",
    "- load XLS files, tab by tab, into dataframe\n",
    "- pickle dataframe for future runs"
   ]
  },
  {
   "cell_type": "code",
   "execution_count": 71,
   "metadata": {},
   "outputs": [],
   "source": [
    "# variables to control function of this notebook\n",
    "# control whether to load data from scratch from original source or from saved dataframe\n",
    "load_from_scratch = False\n",
    "# control whether to save dataframe with transformed data\n",
    "save_transformed_dataframe = True\n",
    "# control whether rows containing erroneous values are removed from the saved dataset\n",
    "remove_bad_values = True"
   ]
  },
  {
   "cell_type": "code",
   "execution_count": 17,
   "metadata": {},
   "outputs": [],
   "source": [
    "import numpy as np # linear algebra\n",
    "import pandas as pd # data processing, CSV file I/O (e.g. pd.read_csv)\n",
    "import matplotlib.pyplot as plt\n",
    "# import seaborn as sns\n",
    "import datetime\n",
    "import os\n"
   ]
  },
  {
   "cell_type": "code",
   "execution_count": 72,
   "metadata": {},
   "outputs": [
    {
     "name": "stdout",
     "output_type": "stream",
     "text": [
      "raw path is /storage/manning/notebooks\n"
     ]
    }
   ],
   "source": [
    "# get the directory for that this notebook is in\n",
    "rawpath = os.getcwd()\n",
    "print(\"raw path is\",rawpath)"
   ]
  },
  {
   "cell_type": "code",
   "execution_count": 73,
   "metadata": {},
   "outputs": [
    {
     "name": "stdout",
     "output_type": "stream",
     "text": [
      "path is /storage/manning/data/\n"
     ]
    }
   ],
   "source": [
    "# data is in a directory called \"data\" that is a sibling to the directory containing the notebook\n",
    "# this code assumes you have copied to this directory all the XLS files from the source dataset: https://www.toronto.ca/city-government/data-research-maps/open-data/open-data-catalogue/#e8f359f0-2f47-3058-bf64-6ec488de52da\n",
    "path = os.path.abspath(os.path.join(rawpath, '..', 'data')) + \"/\"\n",
    "print(\"path is\", path)"
   ]
  },
  {
   "cell_type": "code",
   "execution_count": 74,
   "metadata": {},
   "outputs": [],
   "source": [
    "# pickled_dataframe = '20142018_df.pkl'\n",
    "pickled_input_dataframe = '2014_2018.pkl'\n",
    "# pickled_output_dataframe = '2014_2018_df.pkl'\n",
    "pickled_output_dataframe = '2014_2018_df_cleaned_remove_bad_apr23.pkl'\n",
    "# path,picklename,firstfile, firstsheet\n",
    "\n"
   ]
  },
  {
   "cell_type": "code",
   "execution_count": 75,
   "metadata": {},
   "outputs": [],
   "source": [
    "# given a path return the list of xls files in the directory\n",
    "def get_xls_list(path):\n",
    "    files = os.listdir(path)\n",
    "    files_xls = [f for f in files if f[-4:] == 'xlsx']\n",
    "    print(files)\n",
    "    print(files_xls)\n",
    "    return(files_xls)\n"
   ]
  },
  {
   "cell_type": "code",
   "execution_count": 76,
   "metadata": {},
   "outputs": [],
   "source": [
    "# load all the tabs of all the XLS files in a list of XLS files, minus tab that has seeded dataframe\n",
    "def load_xls(path, files_xls, firstfile, firstsheet, df):\n",
    "    for f in files_xls:\n",
    "        print(\"file name\",f)\n",
    "        xlsf = pd.ExcelFile(path+f)\n",
    "        # iterate through sheets\n",
    "        for sheet_name in xlsf.sheet_names:\n",
    "            print(\"sheet_name\",sheet_name)\n",
    "            if (f != firstfile) or (sheet_name != firstsheet):\n",
    "                print(\"sheet_name in loop\",sheet_name)\n",
    "                data = pd.read_excel(path+f,sheetname=sheet_name)    \n",
    "                df = df.append(data)\n",
    "    return (df)"
   ]
  },
  {
   "cell_type": "code",
   "execution_count": 77,
   "metadata": {},
   "outputs": [],
   "source": [
    "# given a path and a filename, load all the XLS files in the path into a dataframe and save\n",
    "# to the dataframe to the filename\n",
    "def reloader(path,picklename):\n",
    "    # get list of all xls files in the path\n",
    "    files_xls = get_xls_list(path)\n",
    "    print(\"list of xls\",files_xls)\n",
    "    # seed initial tab on initial xls file\n",
    "    dfnew = pd.read_excel(path+files_xls[0])\n",
    "    # get the list of sheets in the first file\n",
    "    xlsf = pd.ExcelFile(path+files_xls[0])\n",
    "    # load the remaining tabs from all the other xls\n",
    "    # pass the first file (files_xls[0]) and the first tab in that file (xlsf[0]) explicitly\n",
    "    dflatest = load_xls(path,files_xls,files_xls[0],xlsf.sheet_names[0], dfnew)\n",
    "    # save dataframe to pickle\n",
    "    dflatest.to_pickle(path+ picklename)\n",
    "    # return dataframe loaded with all tabs of all xls files\n",
    "    return(dflatest)\n",
    "    "
   ]
  },
  {
   "cell_type": "code",
   "execution_count": 78,
   "metadata": {},
   "outputs": [],
   "source": [
    "# define categories for input columns\n",
    "def define_feature_categories(df):\n",
    "    allcols = list(df)\n",
    "    print(\"all cols\",allcols)\n",
    "    textcols = ['Incident','Location'] # \n",
    "    continuouscols = ['Min Delay','Min Gap'] \n",
    "                      # columns to deal with as continuous values - no embeddings\n",
    "    timecols = ['Report Date','Time']\n",
    "    collist = ['Day','Vehicle','Route','Direction']\n",
    "    for col in continuouscols:\n",
    "        df[col] = df[col].astype(float)\n",
    "    print('texcols: ',textcols)\n",
    "    print('continuouscols: ',continuouscols)\n",
    "    print('timecols: ',timecols)\n",
    "    print('collist: ',collist)\n",
    "    return(allcols,textcols,continuouscols,timecols,collist)"
   ]
  },
  {
   "cell_type": "code",
   "execution_count": 79,
   "metadata": {},
   "outputs": [],
   "source": [
    "# fill missing values according to the column category\n",
    "def fill_missing(dataset):\n",
    "    print(\"before mv\")\n",
    "    for col in collist:\n",
    "        dataset[col].fillna(value=\"missing\", inplace=True)\n",
    "    for col in continuouscols:\n",
    "        dataset[col].fillna(value=0.0,inplace=True)\n",
    "    for col in textcols:\n",
    "        dataset[col].fillna(value=\"missing\", inplace=True)\n",
    "    return (dataset)"
   ]
  },
  {
   "cell_type": "markdown",
   "metadata": {},
   "source": [
    "# Load dataframe\n",
    "- load pickled dataframe\n",
    "- show info about the dataset\n"
   ]
  },
  {
   "cell_type": "code",
   "execution_count": 80,
   "metadata": {},
   "outputs": [],
   "source": [
    "# read in previously pickled dataframe containing data from s/s 2014 - 2018\n",
    "if load_from_scratch:\n",
    "    unpickled_df = reloader(path,pickled_input_dataframe)\n",
    "    print(\"reloader done\")\n",
    "    #unpickled_df = pd.read_pickle(path+pickled_data_file)\n",
    "else:\n",
    "    unpickled_df = pd.read_pickle(path+pickled_input_dataframe)"
   ]
  },
  {
   "cell_type": "code",
   "execution_count": 81,
   "metadata": {},
   "outputs": [
    {
     "data": {
      "text/html": [
       "<div>\n",
       "<style scoped>\n",
       "    .dataframe tbody tr th:only-of-type {\n",
       "        vertical-align: middle;\n",
       "    }\n",
       "\n",
       "    .dataframe tbody tr th {\n",
       "        vertical-align: top;\n",
       "    }\n",
       "\n",
       "    .dataframe thead th {\n",
       "        text-align: right;\n",
       "    }\n",
       "</style>\n",
       "<table border=\"1\" class=\"dataframe\">\n",
       "  <thead>\n",
       "    <tr style=\"text-align: right;\">\n",
       "      <th></th>\n",
       "      <th>Report Date</th>\n",
       "      <th>Route</th>\n",
       "      <th>Time</th>\n",
       "      <th>Day</th>\n",
       "      <th>Location</th>\n",
       "      <th>Incident</th>\n",
       "      <th>Min Delay</th>\n",
       "      <th>Min Gap</th>\n",
       "      <th>Direction</th>\n",
       "      <th>Vehicle</th>\n",
       "    </tr>\n",
       "  </thead>\n",
       "  <tbody>\n",
       "    <tr>\n",
       "      <th>0</th>\n",
       "      <td>2016-01-01</td>\n",
       "      <td>505</td>\n",
       "      <td>00:00:00</td>\n",
       "      <td>Friday</td>\n",
       "      <td>Dundas West stnt to Broadview stn</td>\n",
       "      <td>General Delay</td>\n",
       "      <td>7.0</td>\n",
       "      <td>14.0</td>\n",
       "      <td>W/B</td>\n",
       "      <td>4028.0</td>\n",
       "    </tr>\n",
       "    <tr>\n",
       "      <th>1</th>\n",
       "      <td>2016-01-01</td>\n",
       "      <td>511</td>\n",
       "      <td>02:14:00</td>\n",
       "      <td>Friday</td>\n",
       "      <td>Fleet St. and Strachan Ave.</td>\n",
       "      <td>Mechanical</td>\n",
       "      <td>10.0</td>\n",
       "      <td>20.0</td>\n",
       "      <td>E/B</td>\n",
       "      <td>4018.0</td>\n",
       "    </tr>\n",
       "    <tr>\n",
       "      <th>2</th>\n",
       "      <td>2016-01-01</td>\n",
       "      <td>301</td>\n",
       "      <td>02:22:00</td>\n",
       "      <td>Friday</td>\n",
       "      <td>Queen St. West and Roncesvalles Ave.</td>\n",
       "      <td>Mechanical</td>\n",
       "      <td>9.0</td>\n",
       "      <td>18.0</td>\n",
       "      <td>W/B</td>\n",
       "      <td>4201.0</td>\n",
       "    </tr>\n",
       "    <tr>\n",
       "      <th>3</th>\n",
       "      <td>2016-01-01</td>\n",
       "      <td>301</td>\n",
       "      <td>03:28:00</td>\n",
       "      <td>Friday</td>\n",
       "      <td>Lake Shore Blvd. and Superior St.</td>\n",
       "      <td>Mechanical</td>\n",
       "      <td>20.0</td>\n",
       "      <td>40.0</td>\n",
       "      <td>E/B</td>\n",
       "      <td>4251.0</td>\n",
       "    </tr>\n",
       "    <tr>\n",
       "      <th>4</th>\n",
       "      <td>2016-01-01</td>\n",
       "      <td>501</td>\n",
       "      <td>14:28:00</td>\n",
       "      <td>Friday</td>\n",
       "      <td>Roncy to Neville Park</td>\n",
       "      <td>Mechanical</td>\n",
       "      <td>6.0</td>\n",
       "      <td>12.0</td>\n",
       "      <td>E/B</td>\n",
       "      <td>4242.0</td>\n",
       "    </tr>\n",
       "  </tbody>\n",
       "</table>\n",
       "</div>"
      ],
      "text/plain": [
       "  Report Date  Route      Time     Day                              Location  \\\n",
       "0  2016-01-01    505  00:00:00  Friday     Dundas West stnt to Broadview stn   \n",
       "1  2016-01-01    511  02:14:00  Friday           Fleet St. and Strachan Ave.   \n",
       "2  2016-01-01    301  02:22:00  Friday  Queen St. West and Roncesvalles Ave.   \n",
       "3  2016-01-01    301  03:28:00  Friday     Lake Shore Blvd. and Superior St.   \n",
       "4  2016-01-01    501  14:28:00  Friday                 Roncy to Neville Park   \n",
       "\n",
       "        Incident  Min Delay  Min Gap Direction  Vehicle  \n",
       "0  General Delay        7.0     14.0       W/B   4028.0  \n",
       "1     Mechanical       10.0     20.0       E/B   4018.0  \n",
       "2     Mechanical        9.0     18.0       W/B   4201.0  \n",
       "3     Mechanical       20.0     40.0       E/B   4251.0  \n",
       "4     Mechanical        6.0     12.0       E/B   4242.0  "
      ]
     },
     "execution_count": 81,
     "metadata": {},
     "output_type": "execute_result"
    }
   ],
   "source": [
    "df = unpickled_df\n",
    "df.head()"
   ]
  },
  {
   "cell_type": "markdown",
   "metadata": {},
   "source": [
    "# General cleanup\n",
    "- correct types for Route and Vehicle\n",
    "- fill missing values\n",
    "- create report-date-time index"
   ]
  },
  {
   "cell_type": "code",
   "execution_count": 82,
   "metadata": {},
   "outputs": [
    {
     "data": {
      "text/html": [
       "<div>\n",
       "<style scoped>\n",
       "    .dataframe tbody tr th:only-of-type {\n",
       "        vertical-align: middle;\n",
       "    }\n",
       "\n",
       "    .dataframe tbody tr th {\n",
       "        vertical-align: top;\n",
       "    }\n",
       "\n",
       "    .dataframe thead th {\n",
       "        text-align: right;\n",
       "    }\n",
       "</style>\n",
       "<table border=\"1\" class=\"dataframe\">\n",
       "  <thead>\n",
       "    <tr style=\"text-align: right;\">\n",
       "      <th></th>\n",
       "      <th>Report Date</th>\n",
       "      <th>Route</th>\n",
       "      <th>Time</th>\n",
       "      <th>Day</th>\n",
       "      <th>Location</th>\n",
       "      <th>Incident</th>\n",
       "      <th>Min Delay</th>\n",
       "      <th>Min Gap</th>\n",
       "      <th>Direction</th>\n",
       "      <th>Vehicle</th>\n",
       "    </tr>\n",
       "  </thead>\n",
       "  <tbody>\n",
       "    <tr>\n",
       "      <th>0</th>\n",
       "      <td>2016-01-01</td>\n",
       "      <td>505</td>\n",
       "      <td>00:00:00</td>\n",
       "      <td>Friday</td>\n",
       "      <td>Dundas West stnt to Broadview stn</td>\n",
       "      <td>General Delay</td>\n",
       "      <td>7.0</td>\n",
       "      <td>14.0</td>\n",
       "      <td>W/B</td>\n",
       "      <td>4028</td>\n",
       "    </tr>\n",
       "    <tr>\n",
       "      <th>1</th>\n",
       "      <td>2016-01-01</td>\n",
       "      <td>511</td>\n",
       "      <td>02:14:00</td>\n",
       "      <td>Friday</td>\n",
       "      <td>Fleet St. and Strachan Ave.</td>\n",
       "      <td>Mechanical</td>\n",
       "      <td>10.0</td>\n",
       "      <td>20.0</td>\n",
       "      <td>E/B</td>\n",
       "      <td>4018</td>\n",
       "    </tr>\n",
       "    <tr>\n",
       "      <th>2</th>\n",
       "      <td>2016-01-01</td>\n",
       "      <td>301</td>\n",
       "      <td>02:22:00</td>\n",
       "      <td>Friday</td>\n",
       "      <td>Queen St. West and Roncesvalles Ave.</td>\n",
       "      <td>Mechanical</td>\n",
       "      <td>9.0</td>\n",
       "      <td>18.0</td>\n",
       "      <td>W/B</td>\n",
       "      <td>4201</td>\n",
       "    </tr>\n",
       "    <tr>\n",
       "      <th>3</th>\n",
       "      <td>2016-01-01</td>\n",
       "      <td>301</td>\n",
       "      <td>03:28:00</td>\n",
       "      <td>Friday</td>\n",
       "      <td>Lake Shore Blvd. and Superior St.</td>\n",
       "      <td>Mechanical</td>\n",
       "      <td>20.0</td>\n",
       "      <td>40.0</td>\n",
       "      <td>E/B</td>\n",
       "      <td>4251</td>\n",
       "    </tr>\n",
       "    <tr>\n",
       "      <th>4</th>\n",
       "      <td>2016-01-01</td>\n",
       "      <td>501</td>\n",
       "      <td>14:28:00</td>\n",
       "      <td>Friday</td>\n",
       "      <td>Roncy to Neville Park</td>\n",
       "      <td>Mechanical</td>\n",
       "      <td>6.0</td>\n",
       "      <td>12.0</td>\n",
       "      <td>E/B</td>\n",
       "      <td>4242</td>\n",
       "    </tr>\n",
       "  </tbody>\n",
       "</table>\n",
       "</div>"
      ],
      "text/plain": [
       "  Report Date Route      Time     Day                              Location  \\\n",
       "0  2016-01-01   505  00:00:00  Friday     Dundas West stnt to Broadview stn   \n",
       "1  2016-01-01   511  02:14:00  Friday           Fleet St. and Strachan Ave.   \n",
       "2  2016-01-01   301  02:22:00  Friday  Queen St. West and Roncesvalles Ave.   \n",
       "3  2016-01-01   301  03:28:00  Friday     Lake Shore Blvd. and Superior St.   \n",
       "4  2016-01-01   501  14:28:00  Friday                 Roncy to Neville Park   \n",
       "\n",
       "        Incident  Min Delay  Min Gap Direction Vehicle  \n",
       "0  General Delay        7.0     14.0       W/B    4028  \n",
       "1     Mechanical       10.0     20.0       E/B    4018  \n",
       "2     Mechanical        9.0     18.0       W/B    4201  \n",
       "3     Mechanical       20.0     40.0       E/B    4251  \n",
       "4     Mechanical        6.0     12.0       E/B    4242  "
      ]
     },
     "execution_count": 82,
     "metadata": {},
     "output_type": "execute_result"
    }
   ],
   "source": [
    "# ensure Route and Vehicle are strings, not numeric\n",
    "# df = df.astype({\"Route\": str, \"Vehicle\": int})\n",
    "df['Route'] = df['Route'].astype(str)\n",
    "df['Vehicle'] = df['Vehicle'].astype(str)\n",
    "# df['filename'] = df['filename'].str[:-4]\n",
    "df['Vehicle'] = df['Vehicle'].str[:-2]\n",
    "df.head()"
   ]
  },
  {
   "cell_type": "code",
   "execution_count": 83,
   "metadata": {},
   "outputs": [
    {
     "name": "stdout",
     "output_type": "stream",
     "text": [
      "all cols ['Report Date', 'Route', 'Time', 'Day', 'Location', 'Incident', 'Min Delay', 'Min Gap', 'Direction', 'Vehicle']\n",
      "texcols:  ['Incident', 'Location']\n",
      "continuouscols:  ['Min Delay', 'Min Gap']\n",
      "timecols:  ['Report Date', 'Time']\n",
      "collist:  ['Day', 'Vehicle', 'Route', 'Direction']\n"
     ]
    }
   ],
   "source": [
    "# define categories\n",
    "allcols,textcols,continuouscols,timecols,collist = define_feature_categories(df) "
   ]
  },
  {
   "cell_type": "code",
   "execution_count": 84,
   "metadata": {},
   "outputs": [
    {
     "data": {
      "text/plain": [
       "Report Date      0\n",
       "Route            0\n",
       "Time             0\n",
       "Day              0\n",
       "Location       234\n",
       "Incident         0\n",
       "Min Delay       54\n",
       "Min Gap         75\n",
       "Direction      210\n",
       "Vehicle          0\n",
       "dtype: int64"
      ]
     },
     "execution_count": 84,
     "metadata": {},
     "output_type": "execute_result"
    }
   ],
   "source": [
    "# get the number of missing values for the columns\n",
    "df.isnull().sum(axis = 0)"
   ]
  },
  {
   "cell_type": "code",
   "execution_count": 85,
   "metadata": {},
   "outputs": [
    {
     "name": "stdout",
     "output_type": "stream",
     "text": [
      "before mv\n"
     ]
    }
   ],
   "source": [
    "# fill in missing values\n",
    "df = fill_missing(df)"
   ]
  },
  {
   "cell_type": "code",
   "execution_count": 86,
   "metadata": {},
   "outputs": [
    {
     "name": "stdout",
     "output_type": "stream",
     "text": [
      "<class 'pandas.core.frame.DataFrame'>\n",
      "Int64Index: 69603 entries, 0 to 873\n",
      "Data columns (total 10 columns):\n",
      "Report Date    69603 non-null datetime64[ns]\n",
      "Route          69603 non-null object\n",
      "Time           69603 non-null object\n",
      "Day            69603 non-null object\n",
      "Location       69603 non-null object\n",
      "Incident       69603 non-null object\n",
      "Min Delay      69603 non-null float64\n",
      "Min Gap        69603 non-null float64\n",
      "Direction      69603 non-null object\n",
      "Vehicle        69603 non-null object\n",
      "dtypes: datetime64[ns](1), float64(2), object(7)\n",
      "memory usage: 5.8+ MB\n"
     ]
    }
   ],
   "source": [
    "# getting some information about dataset\n",
    "df.info()"
   ]
  },
  {
   "cell_type": "code",
   "execution_count": 87,
   "metadata": {},
   "outputs": [
    {
     "data": {
      "text/plain": [
       "(69603, 10)"
      ]
     },
     "execution_count": 87,
     "metadata": {},
     "output_type": "execute_result"
    }
   ],
   "source": [
    "# getting some information about dataset\n",
    "df.shape"
   ]
  },
  {
   "cell_type": "code",
   "execution_count": 88,
   "metadata": {},
   "outputs": [
    {
     "data": {
      "text/html": [
       "<div>\n",
       "<style scoped>\n",
       "    .dataframe tbody tr th:only-of-type {\n",
       "        vertical-align: middle;\n",
       "    }\n",
       "\n",
       "    .dataframe tbody tr th {\n",
       "        vertical-align: top;\n",
       "    }\n",
       "\n",
       "    .dataframe thead th {\n",
       "        text-align: right;\n",
       "    }\n",
       "</style>\n",
       "<table border=\"1\" class=\"dataframe\">\n",
       "  <thead>\n",
       "    <tr style=\"text-align: right;\">\n",
       "      <th></th>\n",
       "      <th>Min Delay</th>\n",
       "      <th>Min Gap</th>\n",
       "    </tr>\n",
       "  </thead>\n",
       "  <tbody>\n",
       "    <tr>\n",
       "      <th>count</th>\n",
       "      <td>69603.000000</td>\n",
       "      <td>69603.000000</td>\n",
       "    </tr>\n",
       "    <tr>\n",
       "      <th>mean</th>\n",
       "      <td>12.687672</td>\n",
       "      <td>18.127926</td>\n",
       "    </tr>\n",
       "    <tr>\n",
       "      <th>std</th>\n",
       "      <td>29.772404</td>\n",
       "      <td>33.610537</td>\n",
       "    </tr>\n",
       "    <tr>\n",
       "      <th>min</th>\n",
       "      <td>0.000000</td>\n",
       "      <td>0.000000</td>\n",
       "    </tr>\n",
       "    <tr>\n",
       "      <th>25%</th>\n",
       "      <td>5.000000</td>\n",
       "      <td>9.000000</td>\n",
       "    </tr>\n",
       "    <tr>\n",
       "      <th>50%</th>\n",
       "      <td>6.000000</td>\n",
       "      <td>12.000000</td>\n",
       "    </tr>\n",
       "    <tr>\n",
       "      <th>75%</th>\n",
       "      <td>12.000000</td>\n",
       "      <td>20.000000</td>\n",
       "    </tr>\n",
       "    <tr>\n",
       "      <th>max</th>\n",
       "      <td>1400.000000</td>\n",
       "      <td>4216.000000</td>\n",
       "    </tr>\n",
       "  </tbody>\n",
       "</table>\n",
       "</div>"
      ],
      "text/plain": [
       "          Min Delay       Min Gap\n",
       "count  69603.000000  69603.000000\n",
       "mean      12.687672     18.127926\n",
       "std       29.772404     33.610537\n",
       "min        0.000000      0.000000\n",
       "25%        5.000000      9.000000\n",
       "50%        6.000000     12.000000\n",
       "75%       12.000000     20.000000\n",
       "max     1400.000000   4216.000000"
      ]
     },
     "execution_count": 88,
     "metadata": {},
     "output_type": "execute_result"
    }
   ],
   "source": [
    "# further Analysis \n",
    "df.describe()"
   ]
  },
  {
   "cell_type": "code",
   "execution_count": 89,
   "metadata": {},
   "outputs": [
    {
     "data": {
      "text/plain": [
       "Report Date    datetime64[ns]\n",
       "Route                  object\n",
       "Time                   object\n",
       "Day                    object\n",
       "Location               object\n",
       "Incident               object\n",
       "Min Delay             float64\n",
       "Min Gap               float64\n",
       "Direction              object\n",
       "Vehicle                object\n",
       "dtype: object"
      ]
     },
     "execution_count": 89,
     "metadata": {},
     "output_type": "execute_result"
    }
   ],
   "source": [
    "df.dtypes"
   ]
  },
  {
   "cell_type": "code",
   "execution_count": 90,
   "metadata": {},
   "outputs": [
    {
     "data": {
      "text/html": [
       "<div>\n",
       "<style scoped>\n",
       "    .dataframe tbody tr th:only-of-type {\n",
       "        vertical-align: middle;\n",
       "    }\n",
       "\n",
       "    .dataframe tbody tr th {\n",
       "        vertical-align: top;\n",
       "    }\n",
       "\n",
       "    .dataframe thead th {\n",
       "        text-align: right;\n",
       "    }\n",
       "</style>\n",
       "<table border=\"1\" class=\"dataframe\">\n",
       "  <thead>\n",
       "    <tr style=\"text-align: right;\">\n",
       "      <th></th>\n",
       "      <th>Report Date</th>\n",
       "      <th>Route</th>\n",
       "      <th>Time</th>\n",
       "      <th>Day</th>\n",
       "      <th>Location</th>\n",
       "      <th>Incident</th>\n",
       "      <th>Min Delay</th>\n",
       "      <th>Min Gap</th>\n",
       "      <th>Direction</th>\n",
       "      <th>Vehicle</th>\n",
       "      <th>Report Date Time</th>\n",
       "    </tr>\n",
       "    <tr>\n",
       "      <th>Report Date Time</th>\n",
       "      <th></th>\n",
       "      <th></th>\n",
       "      <th></th>\n",
       "      <th></th>\n",
       "      <th></th>\n",
       "      <th></th>\n",
       "      <th></th>\n",
       "      <th></th>\n",
       "      <th></th>\n",
       "      <th></th>\n",
       "      <th></th>\n",
       "    </tr>\n",
       "  </thead>\n",
       "  <tbody>\n",
       "    <tr>\n",
       "      <th>2016-01-01 00:00:00</th>\n",
       "      <td>2016-01-01</td>\n",
       "      <td>505</td>\n",
       "      <td>00:00:00</td>\n",
       "      <td>Friday</td>\n",
       "      <td>Dundas West stnt to Broadview stn</td>\n",
       "      <td>General Delay</td>\n",
       "      <td>7.0</td>\n",
       "      <td>14.0</td>\n",
       "      <td>W/B</td>\n",
       "      <td>4028</td>\n",
       "      <td>2016-01-01 00:00:00</td>\n",
       "    </tr>\n",
       "    <tr>\n",
       "      <th>2016-01-01 02:14:00</th>\n",
       "      <td>2016-01-01</td>\n",
       "      <td>511</td>\n",
       "      <td>02:14:00</td>\n",
       "      <td>Friday</td>\n",
       "      <td>Fleet St. and Strachan Ave.</td>\n",
       "      <td>Mechanical</td>\n",
       "      <td>10.0</td>\n",
       "      <td>20.0</td>\n",
       "      <td>E/B</td>\n",
       "      <td>4018</td>\n",
       "      <td>2016-01-01 02:14:00</td>\n",
       "    </tr>\n",
       "    <tr>\n",
       "      <th>2016-01-01 02:22:00</th>\n",
       "      <td>2016-01-01</td>\n",
       "      <td>301</td>\n",
       "      <td>02:22:00</td>\n",
       "      <td>Friday</td>\n",
       "      <td>Queen St. West and Roncesvalles Ave.</td>\n",
       "      <td>Mechanical</td>\n",
       "      <td>9.0</td>\n",
       "      <td>18.0</td>\n",
       "      <td>W/B</td>\n",
       "      <td>4201</td>\n",
       "      <td>2016-01-01 02:22:00</td>\n",
       "    </tr>\n",
       "    <tr>\n",
       "      <th>2016-01-01 03:28:00</th>\n",
       "      <td>2016-01-01</td>\n",
       "      <td>301</td>\n",
       "      <td>03:28:00</td>\n",
       "      <td>Friday</td>\n",
       "      <td>Lake Shore Blvd. and Superior St.</td>\n",
       "      <td>Mechanical</td>\n",
       "      <td>20.0</td>\n",
       "      <td>40.0</td>\n",
       "      <td>E/B</td>\n",
       "      <td>4251</td>\n",
       "      <td>2016-01-01 03:28:00</td>\n",
       "    </tr>\n",
       "    <tr>\n",
       "      <th>2016-01-01 14:28:00</th>\n",
       "      <td>2016-01-01</td>\n",
       "      <td>501</td>\n",
       "      <td>14:28:00</td>\n",
       "      <td>Friday</td>\n",
       "      <td>Roncy to Neville Park</td>\n",
       "      <td>Mechanical</td>\n",
       "      <td>6.0</td>\n",
       "      <td>12.0</td>\n",
       "      <td>E/B</td>\n",
       "      <td>4242</td>\n",
       "      <td>2016-01-01 14:28:00</td>\n",
       "    </tr>\n",
       "  </tbody>\n",
       "</table>\n",
       "</div>"
      ],
      "text/plain": [
       "                    Report Date Route      Time     Day  \\\n",
       "Report Date Time                                          \n",
       "2016-01-01 00:00:00  2016-01-01   505  00:00:00  Friday   \n",
       "2016-01-01 02:14:00  2016-01-01   511  02:14:00  Friday   \n",
       "2016-01-01 02:22:00  2016-01-01   301  02:22:00  Friday   \n",
       "2016-01-01 03:28:00  2016-01-01   301  03:28:00  Friday   \n",
       "2016-01-01 14:28:00  2016-01-01   501  14:28:00  Friday   \n",
       "\n",
       "                                                 Location       Incident  \\\n",
       "Report Date Time                                                           \n",
       "2016-01-01 00:00:00     Dundas West stnt to Broadview stn  General Delay   \n",
       "2016-01-01 02:14:00           Fleet St. and Strachan Ave.     Mechanical   \n",
       "2016-01-01 02:22:00  Queen St. West and Roncesvalles Ave.     Mechanical   \n",
       "2016-01-01 03:28:00     Lake Shore Blvd. and Superior St.     Mechanical   \n",
       "2016-01-01 14:28:00                 Roncy to Neville Park     Mechanical   \n",
       "\n",
       "                     Min Delay  Min Gap Direction Vehicle    Report Date Time  \n",
       "Report Date Time                                                               \n",
       "2016-01-01 00:00:00        7.0     14.0       W/B    4028 2016-01-01 00:00:00  \n",
       "2016-01-01 02:14:00       10.0     20.0       E/B    4018 2016-01-01 02:14:00  \n",
       "2016-01-01 02:22:00        9.0     18.0       W/B    4201 2016-01-01 02:22:00  \n",
       "2016-01-01 03:28:00       20.0     40.0       E/B    4251 2016-01-01 03:28:00  \n",
       "2016-01-01 14:28:00        6.0     12.0       E/B    4242 2016-01-01 14:28:00  "
      ]
     },
     "execution_count": 90,
     "metadata": {},
     "output_type": "execute_result"
    }
   ],
   "source": [
    "# create new column combing date + time (needed for resampling) and make it the index\n",
    "\n",
    "df['Report Date Time'] = pd.to_datetime(df['Report Date'].astype(str) + ' ' + df['Time'].astype(str))\n",
    "df.index = df['Report Date Time']\n",
    "df.head()"
   ]
  },
  {
   "cell_type": "markdown",
   "metadata": {},
   "source": [
    "# Clean up selected columns\n",
    "Some values in the input dataset were entered \"free form\" when they should have been constricted to a pick list. Columns with this problem include:\n",
    "\n",
    "- Route\n",
    "- Vehicle\n",
    "- Direction\n",
    "- Location\n",
    "\n",
    "\n",
    "Each of these have a finite set of valid values. We have to fix the data in these columns where multiple tokens have been used to signify the same real-world entity (e.g. \"roncesvalles yard.\" and \"roncesvalles carhouse\", or where incorrect values have been entered (e.g. Direction that does not correspond with a compass point)"
   ]
  },
  {
   "cell_type": "markdown",
   "metadata": {},
   "source": [
    "# Clean up Route"
   ]
  },
  {
   "cell_type": "code",
   "execution_count": 91,
   "metadata": {},
   "outputs": [],
   "source": [
    "def check_route (x):\n",
    "    if x in valid_routes:\n",
    "        return(x)\n",
    "    else:\n",
    "        return(\"bad route\")"
   ]
  },
  {
   "cell_type": "code",
   "execution_count": 92,
   "metadata": {},
   "outputs": [
    {
     "name": "stdout",
     "output_type": "stream",
     "text": [
      "route count 106\n"
     ]
    },
    {
     "data": {
      "text/plain": [
       "501    17384\n",
       "504    13416\n",
       "506     9434\n",
       "505     7471\n",
       "512     5327\n",
       "510     4516\n",
       "511     3550\n",
       "509     2457\n",
       "514     1500\n",
       "502     1488\n",
       "503      917\n",
       "301      750\n",
       "306      312\n",
       "705      189\n",
       "304      171\n",
       "805      149\n",
       "508      137\n",
       "50        45\n",
       "535       41\n",
       "310       40\n",
       "317       37\n",
       "51        20\n",
       "5         20\n",
       "807       20\n",
       "1         16\n",
       "500       10\n",
       "4          9\n",
       "3          8\n",
       "11         8\n",
       "201        7\n",
       "       ...  \n",
       "205        1\n",
       "999        1\n",
       "594        1\n",
       "513        1\n",
       "701        1\n",
       "13         1\n",
       "403        1\n",
       "31         1\n",
       "519        1\n",
       "68         1\n",
       "405        1\n",
       "80         1\n",
       "45         1\n",
       "60         1\n",
       "21         1\n",
       "596        1\n",
       "595        1\n",
       "204        1\n",
       "64         1\n",
       "86         1\n",
       "111        1\n",
       "28         1\n",
       "53         1\n",
       "830        1\n",
       "57         1\n",
       "210        1\n",
       "93         1\n",
       "81         1\n",
       "375        1\n",
       "85         1\n",
       "Name: Route, Length: 106, dtype: int64"
      ]
     },
     "execution_count": 92,
     "metadata": {},
     "output_type": "execute_result"
    }
   ],
   "source": [
    "print(\"route count\",df['Route'].nunique())\n",
    "df['Route'].value_counts()"
   ]
  },
  {
   "cell_type": "code",
   "execution_count": 93,
   "metadata": {},
   "outputs": [
    {
     "name": "stdout",
     "output_type": "stream",
     "text": [
      "route count pre cleanup 106\n"
     ]
    }
   ],
   "source": [
    "print(\"route count pre cleanup\",df['Route'].nunique())"
   ]
  },
  {
   "cell_type": "code",
   "execution_count": 94,
   "metadata": {},
   "outputs": [],
   "source": [
    "# apply(lambda x:findEmpty(x) df['Route'].apply(lambda x:check_route(x))\n",
    "df['Route'] = df['Route'].apply(lambda x:check_route(x))"
   ]
  },
  {
   "cell_type": "code",
   "execution_count": 95,
   "metadata": {},
   "outputs": [
    {
     "name": "stdout",
     "output_type": "stream",
     "text": [
      "route count post cleanup 15\n"
     ]
    },
    {
     "data": {
      "text/plain": [
       "501          17384\n",
       "504          13416\n",
       "506           9434\n",
       "505           7471\n",
       "512           5327\n",
       "510           4516\n",
       "511           3550\n",
       "509           2457\n",
       "bad route     2370\n",
       "502           1488\n",
       "503            917\n",
       "301            750\n",
       "306            312\n",
       "304            171\n",
       "310             40\n",
       "Name: Route, dtype: int64"
      ]
     },
     "execution_count": 95,
     "metadata": {},
     "output_type": "execute_result"
    }
   ],
   "source": [
    "print(\"route count post cleanup\",df['Route'].nunique())\n",
    "df['Route'].value_counts()"
   ]
  },
  {
   "cell_type": "markdown",
   "metadata": {},
   "source": [
    "# Clean up Vehicle"
   ]
  },
  {
   "cell_type": "code",
   "execution_count": 96,
   "metadata": {},
   "outputs": [
    {
     "data": {
      "text/plain": [
       "4461"
      ]
     },
     "execution_count": 96,
     "metadata": {},
     "output_type": "execute_result"
    }
   ],
   "source": [
    "df[df.Vehicle == 'n'].shape[0]"
   ]
  },
  {
   "cell_type": "code",
   "execution_count": 97,
   "metadata": {},
   "outputs": [
    {
     "data": {
      "text/plain": [
       "69603"
      ]
     },
     "execution_count": 97,
     "metadata": {},
     "output_type": "execute_result"
    }
   ],
   "source": [
    "df['Vehicle'].shape[0]"
   ]
  },
  {
   "cell_type": "code",
   "execution_count": 98,
   "metadata": {},
   "outputs": [],
   "source": [
    "def check_vehicle (x):\n",
    "    if str.isdigit(x):\n",
    "        if int(x) in valid_vehicles:\n",
    "            return x\n",
    "        else:\n",
    "            return(\"bad vehicle\")\n",
    "    else:\n",
    "        return(\"bad vehicle\")"
   ]
  },
  {
   "cell_type": "code",
   "execution_count": 99,
   "metadata": {},
   "outputs": [
    {
     "data": {
      "text/plain": [
       "n       4461\n",
       "4074     275\n",
       "4101     269\n",
       "4199     263\n",
       "4115     259\n",
       "4247     257\n",
       "4209     254\n",
       "4144     253\n",
       "4147     251\n",
       "4176     249\n",
       "4001     248\n",
       "4218     247\n",
       "4185     246\n",
       "4141     246\n",
       "4149     246\n",
       "4222     244\n",
       "4050     244\n",
       "4111     243\n",
       "4229     243\n",
       "4403     243\n",
       "4110     242\n",
       "4189     241\n",
       "4048     240\n",
       "4012     240\n",
       "4214     240\n",
       "4204     239\n",
       "4200     238\n",
       "4077     237\n",
       "4215     237\n",
       "4184     237\n",
       "        ... \n",
       "5918       1\n",
       "1328       1\n",
       "7920       1\n",
       "1266       1\n",
       "7360       1\n",
       "5163       1\n",
       "8586       1\n",
       "406        1\n",
       "1232       1\n",
       "7610       1\n",
       "8694       1\n",
       "6875       1\n",
       "1321       1\n",
       "7562       1\n",
       "8504       1\n",
       "7572       1\n",
       "8690       1\n",
       "7688       1\n",
       "7656       1\n",
       "7520       1\n",
       "7310       1\n",
       "7312       1\n",
       "7449       1\n",
       "8425       1\n",
       "7352       1\n",
       "8696       1\n",
       "7583       1\n",
       "4009       1\n",
       "8680       1\n",
       "5041       1\n",
       "Name: Vehicle, Length: 2438, dtype: int64"
      ]
     },
     "execution_count": 99,
     "metadata": {},
     "output_type": "execute_result"
    }
   ],
   "source": [
    "df['Vehicle'].value_counts()"
   ]
  },
  {
   "cell_type": "code",
   "execution_count": 100,
   "metadata": {},
   "outputs": [
    {
     "name": "stdout",
     "output_type": "stream",
     "text": [
      "vehicle count pre cleanup 2438\n",
      "vehicle count post cleanup 1017\n"
     ]
    },
    {
     "data": {
      "text/plain": [
       "bad vehicle    11221\n",
       "4074             275\n",
       "4101             269\n",
       "4199             263\n",
       "4115             259\n",
       "4247             257\n",
       "4209             254\n",
       "4144             253\n",
       "4147             251\n",
       "4176             249\n",
       "4001             248\n",
       "4218             247\n",
       "4141             246\n",
       "4149             246\n",
       "4185             246\n",
       "4222             244\n",
       "4050             244\n",
       "4229             243\n",
       "4111             243\n",
       "4403             243\n",
       "4110             242\n",
       "4189             241\n",
       "4012             240\n",
       "4214             240\n",
       "4048             240\n",
       "4204             239\n",
       "4200             238\n",
       "4077             237\n",
       "4215             237\n",
       "4184             237\n",
       "               ...  \n",
       "7613               1\n",
       "7615               1\n",
       "7692               1\n",
       "2342               1\n",
       "7408               1\n",
       "1106               1\n",
       "7028               1\n",
       "8066               1\n",
       "7428               1\n",
       "1088               1\n",
       "7417               1\n",
       "7619               1\n",
       "7597               1\n",
       "7645               1\n",
       "7663               1\n",
       "7688               1\n",
       "7558               1\n",
       "7684               1\n",
       "7519               1\n",
       "7623               1\n",
       "7129               1\n",
       "7554               1\n",
       "7420               1\n",
       "7541               1\n",
       "7407               1\n",
       "8011               1\n",
       "7440               1\n",
       "7438               1\n",
       "7404               1\n",
       "7432               1\n",
       "Name: Vehicle, Length: 1017, dtype: int64"
      ]
     },
     "execution_count": 100,
     "metadata": {},
     "output_type": "execute_result"
    }
   ],
   "source": [
    "print(\"vehicle count pre cleanup\",df['Vehicle'].nunique())\n",
    "df['Vehicle'] = df['Vehicle'].apply(lambda x:check_vehicle(x))\n",
    "print(\"vehicle count post cleanup\",df['Vehicle'].nunique())\n",
    "df['Vehicle'].value_counts()"
   ]
  },
  {
   "cell_type": "markdown",
   "metadata": {},
   "source": [
    "# Clean up Direction"
   ]
  },
  {
   "cell_type": "code",
   "execution_count": 101,
   "metadata": {},
   "outputs": [],
   "source": [
    "def check_direction (x):\n",
    "    if x in valid_directions:\n",
    "        return(x)\n",
    "    else:\n",
    "        return(\"bad direction\")"
   ]
  },
  {
   "cell_type": "code",
   "execution_count": 102,
   "metadata": {},
   "outputs": [
    {
     "data": {
      "text/plain": [
       "69603"
      ]
     },
     "execution_count": 102,
     "metadata": {},
     "output_type": "execute_result"
    }
   ],
   "source": [
    "df['Direction'].shape[0]"
   ]
  },
  {
   "cell_type": "code",
   "execution_count": 103,
   "metadata": {},
   "outputs": [
    {
     "data": {
      "text/plain": [
       "W/B                            27493\n",
       "E/B                            26889\n",
       "N/B                             4946\n",
       "S/B                             4743\n",
       "B/W                             4613\n",
       "missing                          210\n",
       "eb                               164\n",
       "EB                               135\n",
       "WB                               102\n",
       "wb                                98\n",
       "SB                                16\n",
       "nb                                16\n",
       "NB                                15\n",
       "EW                                11\n",
       "sb                                11\n",
       "eastbound                          8\n",
       "bw                                 7\n",
       "w/b                                6\n",
       "5                                  6\n",
       "w                                  6\n",
       "E                                  4\n",
       "BW                                 4\n",
       "ew                                 3\n",
       "b/w                                3\n",
       "10                                 3\n",
       "Service adjusted.                  3\n",
       "8                                  3\n",
       "W                                  3\n",
       "2                                  3\n",
       "s                                  3\n",
       "                               ...  \n",
       "N                                  1\n",
       "EB/WB                              1\n",
       "12                                 1\n",
       ".                                  1\n",
       "14                                 1\n",
       "gap                                1\n",
       "s/b                                1\n",
       "ee                                 1\n",
       "southbound                         1\n",
       "20                                 1\n",
       "n/b                                1\n",
       "sw                                 1\n",
       "Relief Operator. Ga                1\n",
       "5                       W/B        1\n",
       "510                                1\n",
       "1573                               1\n",
       "\\5                                 1\n",
       "eb``                               1\n",
       "N/S                                1\n",
       "(Ref                               1\n",
       "13                                 1\n",
       "`                                  1\n",
       "1114                               1\n",
       "\\                                  1\n",
       "wruiter adv                        1\n",
       "e/w                                1\n",
       "7                                  1\n",
       "0                                  1\n",
       "68029                              1\n",
       "E5                                 1\n",
       "Name: Direction, Length: 95, dtype: int64"
      ]
     },
     "execution_count": 103,
     "metadata": {},
     "output_type": "execute_result"
    }
   ],
   "source": [
    "# prior to cleanup of the Direction column, get a look at the values\n",
    "df['Direction'].value_counts()"
   ]
  },
  {
   "cell_type": "code",
   "execution_count": 104,
   "metadata": {},
   "outputs": [
    {
     "name": "stdout",
     "output_type": "stream",
     "text": [
      "Unique directions before cleanup: 95\n",
      "Unique directions after cleanup: 6\n"
     ]
    }
   ],
   "source": [
    "# to have consistent checking of directions: lowercase and remove '/'\n",
    "print(\"Unique directions before cleanup:\",df['Direction'].nunique())\n",
    "df['Direction'] = df['Direction'].str.lower()\n",
    "df['Direction'] = df['Direction'].str.replace('/','')\n",
    "df['Direction'] = df['Direction'].replace({'eb':'e','wb':'w','sb':'s','nb':'n','bw':'b'})\n",
    "df['Direction'] = df['Direction'].replace({'eastbound':'e','westbound':'w','southbound':'s','northbound':'n'})\n",
    "# replace any remaining bad Direction values with a common token\n",
    "df['Direction'] = df['Direction'].apply(lambda x:check_direction(x))\n",
    "print(\"Unique directions after cleanup:\",df['Direction'].nunique())"
   ]
  },
  {
   "cell_type": "code",
   "execution_count": 105,
   "metadata": {},
   "outputs": [
    {
     "name": "stdout",
     "output_type": "stream",
     "text": [
      "Unique directions after cleanup: 6\n"
     ]
    }
   ],
   "source": [
    "print(\"Unique directions after cleanup:\",df['Direction'].nunique())"
   ]
  },
  {
   "cell_type": "code",
   "execution_count": 106,
   "metadata": {},
   "outputs": [
    {
     "name": "stdout",
     "output_type": "stream",
     "text": [
      "direction count 6\n"
     ]
    },
    {
     "data": {
      "text/plain": [
       "w                27712\n",
       "e                27205\n",
       "n                 4980\n",
       "s                 4775\n",
       "b                 4629\n",
       "bad direction      302\n",
       "Name: Direction, dtype: int64"
      ]
     },
     "execution_count": 106,
     "metadata": {},
     "output_type": "execute_result"
    }
   ],
   "source": [
    "print(\"direction count\",df['Direction'].nunique())\n",
    "df['Direction'].value_counts()"
   ]
  },
  {
   "cell_type": "code",
   "execution_count": 107,
   "metadata": {},
   "outputs": [
    {
     "data": {
      "text/html": [
       "<div>\n",
       "<style scoped>\n",
       "    .dataframe tbody tr th:only-of-type {\n",
       "        vertical-align: middle;\n",
       "    }\n",
       "\n",
       "    .dataframe tbody tr th {\n",
       "        vertical-align: top;\n",
       "    }\n",
       "\n",
       "    .dataframe thead th {\n",
       "        text-align: right;\n",
       "    }\n",
       "</style>\n",
       "<table border=\"1\" class=\"dataframe\">\n",
       "  <thead>\n",
       "    <tr style=\"text-align: right;\">\n",
       "      <th></th>\n",
       "      <th>Report Date</th>\n",
       "      <th>Route</th>\n",
       "      <th>Time</th>\n",
       "      <th>Day</th>\n",
       "      <th>Location</th>\n",
       "      <th>Incident</th>\n",
       "      <th>Min Delay</th>\n",
       "      <th>Min Gap</th>\n",
       "      <th>Direction</th>\n",
       "      <th>Vehicle</th>\n",
       "      <th>Report Date Time</th>\n",
       "    </tr>\n",
       "    <tr>\n",
       "      <th>Report Date Time</th>\n",
       "      <th></th>\n",
       "      <th></th>\n",
       "      <th></th>\n",
       "      <th></th>\n",
       "      <th></th>\n",
       "      <th></th>\n",
       "      <th></th>\n",
       "      <th></th>\n",
       "      <th></th>\n",
       "      <th></th>\n",
       "      <th></th>\n",
       "    </tr>\n",
       "  </thead>\n",
       "  <tbody>\n",
       "    <tr>\n",
       "      <th>2016-01-01 00:00:00</th>\n",
       "      <td>2016-01-01</td>\n",
       "      <td>505</td>\n",
       "      <td>00:00:00</td>\n",
       "      <td>Friday</td>\n",
       "      <td>Dundas West stnt to Broadview stn</td>\n",
       "      <td>General Delay</td>\n",
       "      <td>7.0</td>\n",
       "      <td>14.0</td>\n",
       "      <td>w</td>\n",
       "      <td>4028</td>\n",
       "      <td>2016-01-01 00:00:00</td>\n",
       "    </tr>\n",
       "    <tr>\n",
       "      <th>2016-01-01 02:14:00</th>\n",
       "      <td>2016-01-01</td>\n",
       "      <td>511</td>\n",
       "      <td>02:14:00</td>\n",
       "      <td>Friday</td>\n",
       "      <td>Fleet St. and Strachan Ave.</td>\n",
       "      <td>Mechanical</td>\n",
       "      <td>10.0</td>\n",
       "      <td>20.0</td>\n",
       "      <td>e</td>\n",
       "      <td>4018</td>\n",
       "      <td>2016-01-01 02:14:00</td>\n",
       "    </tr>\n",
       "    <tr>\n",
       "      <th>2016-01-01 02:22:00</th>\n",
       "      <td>2016-01-01</td>\n",
       "      <td>301</td>\n",
       "      <td>02:22:00</td>\n",
       "      <td>Friday</td>\n",
       "      <td>Queen St. West and Roncesvalles Ave.</td>\n",
       "      <td>Mechanical</td>\n",
       "      <td>9.0</td>\n",
       "      <td>18.0</td>\n",
       "      <td>w</td>\n",
       "      <td>4201</td>\n",
       "      <td>2016-01-01 02:22:00</td>\n",
       "    </tr>\n",
       "    <tr>\n",
       "      <th>2016-01-01 03:28:00</th>\n",
       "      <td>2016-01-01</td>\n",
       "      <td>301</td>\n",
       "      <td>03:28:00</td>\n",
       "      <td>Friday</td>\n",
       "      <td>Lake Shore Blvd. and Superior St.</td>\n",
       "      <td>Mechanical</td>\n",
       "      <td>20.0</td>\n",
       "      <td>40.0</td>\n",
       "      <td>e</td>\n",
       "      <td>4251</td>\n",
       "      <td>2016-01-01 03:28:00</td>\n",
       "    </tr>\n",
       "    <tr>\n",
       "      <th>2016-01-01 14:28:00</th>\n",
       "      <td>2016-01-01</td>\n",
       "      <td>501</td>\n",
       "      <td>14:28:00</td>\n",
       "      <td>Friday</td>\n",
       "      <td>Roncy to Neville Park</td>\n",
       "      <td>Mechanical</td>\n",
       "      <td>6.0</td>\n",
       "      <td>12.0</td>\n",
       "      <td>e</td>\n",
       "      <td>4242</td>\n",
       "      <td>2016-01-01 14:28:00</td>\n",
       "    </tr>\n",
       "  </tbody>\n",
       "</table>\n",
       "</div>"
      ],
      "text/plain": [
       "                    Report Date Route      Time     Day  \\\n",
       "Report Date Time                                          \n",
       "2016-01-01 00:00:00  2016-01-01   505  00:00:00  Friday   \n",
       "2016-01-01 02:14:00  2016-01-01   511  02:14:00  Friday   \n",
       "2016-01-01 02:22:00  2016-01-01   301  02:22:00  Friday   \n",
       "2016-01-01 03:28:00  2016-01-01   301  03:28:00  Friday   \n",
       "2016-01-01 14:28:00  2016-01-01   501  14:28:00  Friday   \n",
       "\n",
       "                                                 Location       Incident  \\\n",
       "Report Date Time                                                           \n",
       "2016-01-01 00:00:00     Dundas West stnt to Broadview stn  General Delay   \n",
       "2016-01-01 02:14:00           Fleet St. and Strachan Ave.     Mechanical   \n",
       "2016-01-01 02:22:00  Queen St. West and Roncesvalles Ave.     Mechanical   \n",
       "2016-01-01 03:28:00     Lake Shore Blvd. and Superior St.     Mechanical   \n",
       "2016-01-01 14:28:00                 Roncy to Neville Park     Mechanical   \n",
       "\n",
       "                     Min Delay  Min Gap Direction Vehicle    Report Date Time  \n",
       "Report Date Time                                                               \n",
       "2016-01-01 00:00:00        7.0     14.0         w    4028 2016-01-01 00:00:00  \n",
       "2016-01-01 02:14:00       10.0     20.0         e    4018 2016-01-01 02:14:00  \n",
       "2016-01-01 02:22:00        9.0     18.0         w    4201 2016-01-01 02:22:00  \n",
       "2016-01-01 03:28:00       20.0     40.0         e    4251 2016-01-01 03:28:00  \n",
       "2016-01-01 14:28:00        6.0     12.0         e    4242 2016-01-01 14:28:00  "
      ]
     },
     "execution_count": 107,
     "metadata": {},
     "output_type": "execute_result"
    }
   ],
   "source": [
    "df.head()"
   ]
  },
  {
   "cell_type": "markdown",
   "metadata": {},
   "source": [
    "# Clean up Location"
   ]
  },
  {
   "cell_type": "code",
   "execution_count": 108,
   "metadata": {},
   "outputs": [],
   "source": [
    "def clean_conjunction(intersection):\n",
    "    # make conjunctions in intersections consistent\n",
    "    if \" and \" not in intersection:\n",
    "        if \"&\" in intersection:\n",
    "            if \" & \" in intersection:\n",
    "                intersection.replace(\" & \",\" and \")\n",
    "            else:\n",
    "                if \"&\" in intersection:\n",
    "                    intersection.replace(\"&\",\" and \")\n",
    "        else:\n",
    "            if \" / \" in intersection:\n",
    "                intersection.replace(\" / \",\" and \")\n",
    "            else:\n",
    "                if \"/\" in intersection:\n",
    "                    intersection.replace(\"/\",\" and \")\n",
    "    return(intersection)"
   ]
  },
  {
   "cell_type": "code",
   "execution_count": 109,
   "metadata": {},
   "outputs": [],
   "source": [
    "def order_location(intersection):\n",
    "    # for any string with the format \"* and *\" if the value before the and is alphabetically\n",
    "    # higher than the value after the and, swap the values\n",
    "    conj = \" and \"\n",
    "    alpha_ordered_intersection = intersection\n",
    "    if conj in intersection:\n",
    "        end_first_street = intersection.find(conj)\n",
    "        if (end_first_street > 0) and (len(intersection) > (end_first_street + len(conj))):\n",
    "            start_second_street = intersection.find(conj) + len(conj)\n",
    "            first_street = intersection[0:end_first_street]\n",
    "            second_street = intersection[start_second_street:]\n",
    "            alpha_ordered_intersection = min(first_street,second_street)+conj+max(first_street,second_street)\n",
    "    return(alpha_ordered_intersection)"
   ]
  },
  {
   "cell_type": "code",
   "execution_count": 110,
   "metadata": {
    "scrolled": false
   },
   "outputs": [
    {
     "data": {
      "text/plain": [
       "Russell Yard                 1070\n",
       "Queen and Connaught           980\n",
       "Leslie Barns                  790\n",
       "Roncesvalles Yard             776\n",
       "Queen and Roncesvalles        749\n",
       "Roncesvalles and Queen        729\n",
       "Roncy Yard                    630\n",
       "Queen at Connaught            539\n",
       "Broadview and Queen           506\n",
       "Broadview Station             479\n",
       "Dundas West Station           458\n",
       "Humber Loop                   451\n",
       "CNE Loop                      414\n",
       "Broadview Stn                 398\n",
       "Spadina and King              397\n",
       "Queen and Broadview           372\n",
       "Roncesvalles Yard.            371\n",
       "Coxwell and Gerrard           342\n",
       "King and Spadina              340\n",
       "Neville Loop                  323\n",
       "Queen at Roncesvalles         319\n",
       "Main Station                  303\n",
       "Bingham Loop                  297\n",
       "Broadview and Dundas          292\n",
       "Russell yard                  279\n",
       "Ronc. Carhouse.               268\n",
       "Bathurst Station              258\n",
       "Roncy yard                    257\n",
       "Spadina Station               242\n",
       "Exhibition Loop               239\n",
       "                             ... \n",
       "CNE LOOP                      112\n",
       "Dundas and Broadview          111\n",
       "Wilson Garage                 111\n",
       "Queen and Church              111\n",
       "Roncesvalles yard             111\n",
       "Queensway at Roncesvalles     111\n",
       "College and Spadina           107\n",
       "Queen St E and Leslie St      107\n",
       "King and Church               105\n",
       "Dundas and Parliament         104\n",
       "Dundas and Bathurst           102\n",
       "Queen and Shaw                101\n",
       "Russell Carhouse               98\n",
       "Queen and Dufferin             97\n",
       "Spadina and Dundas             96\n",
       "St Clair West Station          96\n",
       "King and Sumach                95\n",
       "Queen at Broadview             95\n",
       "Main Stn                       94\n",
       "Spadina and Queens Quay        92\n",
       "Bathurst and Dundas            90\n",
       "Roncesvalles at Queen          89\n",
       "Queen & Connaught              89\n",
       "King/Spadina                   89\n",
       "Birchmount Garage              88\n",
       "Sunnyside Loop                 88\n",
       "Broadview and Danforth         87\n",
       "Lansdowne                      87\n",
       "Queen and Coxwell              86\n",
       "Dundas west station            85\n",
       "Name: Location, Length: 100, dtype: int64"
      ]
     },
     "execution_count": 110,
     "metadata": {},
     "output_type": "execute_result"
    }
   ],
   "source": [
    "df['Location'].value_counts().head(100)"
   ]
  },
  {
   "cell_type": "code",
   "execution_count": 111,
   "metadata": {
    "scrolled": true
   },
   "outputs": [
    {
     "name": "stdout",
     "output_type": "stream",
     "text": [
      "Location count pre cleanup: 15691\n",
      "Route count pre cleanup: 15\n",
      "Direction count pre cleanup: 6\n",
      "Vehicle count pre cleanup: 1017\n",
      "Unique Location values after lcasing: 13263\n"
     ]
    },
    {
     "data": {
      "text/plain": [
       "russell yard                 1436\n",
       "queen and connaught          1045\n",
       "roncy yard                    936\n",
       "roncesvalles yard             905\n",
       "leslie barns                  841\n",
       "queen and roncesvalles        768\n",
       "roncesvalles and queen        766\n",
       "broadview station             703\n",
       "dundas west station           694\n",
       "cne loop                      688\n",
       "humber loop                   619\n",
       "broadview stn                 562\n",
       "queen at connaught            549\n",
       "broadview and queen           534\n",
       "roncesvalles yard.            425\n",
       "spadina and king              424\n",
       "main station                  405\n",
       "coxwell and gerrard           392\n",
       "queen and broadview           388\n",
       "neville loop                  385\n",
       "king and spadina              376\n",
       "dundas west stn               371\n",
       "bathurst station              370\n",
       "bingham loop                  366\n",
       "spadina station               358\n",
       "queen at roncesvalles         326\n",
       "broadview and dundas          308\n",
       "exhibition loop               279\n",
       "ronc. carhouse.               271\n",
       "high park loop                256\n",
       "                             ... \n",
       "king/spadina                  124\n",
       "king and parliament           121\n",
       "dundas and broadview          119\n",
       "birchmount garage             119\n",
       "college and spadina           115\n",
       "queensway at roncesvalles     114\n",
       "dundas and parliament         113\n",
       "queen st e and leslie st      113\n",
       "king and church               112\n",
       "sunnyside loop                111\n",
       "dundas and bathurst           109\n",
       "queen and shaw                107\n",
       "king and sumach               106\n",
       "spadina/king                  103\n",
       "union station                 103\n",
       "queen and dufferin            101\n",
       "spadina and dundas            100\n",
       "scw stn                        99\n",
       "springhurst loop               98\n",
       "king and shaw                  98\n",
       "queen at broadview             97\n",
       "bathurst and dundas            97\n",
       "st clair station               96\n",
       "broadview and danforth         95\n",
       "spadina and queens quay        95\n",
       "charlotte loop                 92\n",
       "roncesvalles at queen          91\n",
       "lansdowne                      91\n",
       "queen and coxwell              91\n",
       "queen & connaught              90\n",
       "Name: Location, Length: 100, dtype: int64"
      ]
     },
     "execution_count": 111,
     "metadata": {},
     "output_type": "execute_result"
    }
   ],
   "source": [
    "# the values in the location column were entered in free form, so there are several problems to fix\n",
    "\n",
    "# start by counting the distinct values in location column before and after lowercasing\n",
    "print(\"Location count pre cleanup:\",df['Location'].nunique())\n",
    "print(\"Route count pre cleanup:\",df['Route'].nunique())\n",
    "print(\"Direction count pre cleanup:\",df['Direction'].nunique())\n",
    "print(\"Vehicle count pre cleanup:\",df['Vehicle'].nunique())\n",
    "df['Location'] = df['Location'].str.lower()\n",
    "print(\"Unique Location values after lcasing:\",df['Location'].nunique())\n",
    "df['Location'].value_counts().head(100)"
   ]
  },
  {
   "cell_type": "code",
   "execution_count": 112,
   "metadata": {},
   "outputs": [
    {
     "data": {
      "text/plain": [
       "(26537, 11)"
      ]
     },
     "execution_count": 112,
     "metadata": {},
     "output_type": "execute_result"
    }
   ],
   "source": [
    "# count subset of locations that are explicitly junctions\n",
    "# df[df['regiment'].str.contains(r\"\\bgoons\\b\", case = False)]\n",
    "df[df['Location'].str.contains(\" and \")].shape"
   ]
  },
  {
   "cell_type": "code",
   "execution_count": 113,
   "metadata": {},
   "outputs": [
    {
     "data": {
      "text/plain": [
       "(69603,)"
      ]
     },
     "execution_count": 113,
     "metadata": {},
     "output_type": "execute_result"
    }
   ],
   "source": [
    "df['Location'].shape"
   ]
  },
  {
   "cell_type": "code",
   "execution_count": 114,
   "metadata": {
    "scrolled": true
   },
   "outputs": [
    {
     "name": "stdout",
     "output_type": "stream",
     "text": [
      "Unique Location values before substitutions: 13263\n",
      "Unique Location values after substitutions: 10867\n"
     ]
    },
    {
     "data": {
      "text/plain": [
       "roncesvalles yard               3229\n",
       "queen and connaught             1840\n",
       "russell yard                    1642\n",
       "roncesvalles and queen          1423\n",
       "broadview station               1265\n",
       "queen and roncesvalles          1257\n",
       "dundas west station             1065\n",
       "leslie yard                      911\n",
       "broadview and queen              693\n",
       "cne loop                         688\n",
       "spadina and king                 628\n",
       "humber loop                      619\n",
       "king and spadina                 610\n",
       "bathurst station                 596\n",
       "queen and broadview              582\n",
       "main station                     549\n",
       "spadina station                  546\n",
       "broadview and dundas             489\n",
       "longbranch loop                  475\n",
       "coxwell and gerrard              465\n",
       "st clair west station            423\n",
       "king and bathurst                385\n",
       "neville loop                     385\n",
       "bathurst and king                368\n",
       "bingham loop                     366\n",
       "broadview and gerrard            347\n",
       "howard park and roncesvalles     296\n",
       "bathurst and fleet               291\n",
       "gerrard and coxwell              289\n",
       "exhibition loop                  279\n",
       "queen and parliament             268\n",
       "queen and spadina                265\n",
       "high park loop                   256\n",
       "fleet loop                       251\n",
       "roncesvalles and howard park     248\n",
       "gunns loop                       237\n",
       "king and church                  236\n",
       "missing                          234\n",
       "bathurst and st clair            230\n",
       "dundas and broadview             228\n",
       "queen and church                 223\n",
       "queen and bathurst               222\n",
       "king and dufferin                222\n",
       "st clair station                 221\n",
       "king and parliament              219\n",
       "st clair and bathurst            218\n",
       "neville park loop                216\n",
       "gerrard and broadview            216\n",
       "spadina and queen                213\n",
       "connaught and queen              206\n",
       "Name: Location, dtype: int64"
      ]
     },
     "execution_count": 114,
     "metadata": {},
     "output_type": "execute_result"
    }
   ],
   "source": [
    "# make substitutions to eliminate obvious duplicate tokens, counting unique values before and after\n",
    "# need to add a function to flip \"x and y\" consistently\n",
    "print(\"Unique Location values before substitutions:\",df['Location'].nunique())\n",
    "df['Location'] = df['Location'].replace({'broadviewstation':'broadview station',' at ':' and ',' stn':' station',' ave.':'','/':' and ','roncy':'roncesvalles','carhouse':'yard','yard.':'yard','st. clair':'st clair','ronc. ':'roncesvalles ','long branch':'longbranch','garage':'yard','barns':'yard',' & ':' and '}, regex=True)\n",
    "print(\"Unique Location values after substitutions:\",df['Location'].nunique())\n",
    "df['Location'].value_counts().head(50)"
   ]
  },
  {
   "cell_type": "code",
   "execution_count": 115,
   "metadata": {},
   "outputs": [
    {
     "name": "stdout",
     "output_type": "stream",
     "text": [
      "Unique Location values: 10867\n",
      "Location values post cleanup: 10074\n"
     ]
    },
    {
     "data": {
      "text/plain": [
       "roncesvalles yard               3229\n",
       "queen and roncesvalles          2680\n",
       "connaught and queen             2046\n",
       "russell yard                    1642\n",
       "broadview and queen             1275\n",
       "broadview station               1265\n",
       "king and spadina                1238\n",
       "dundas west station             1065\n",
       "leslie yard                      911\n",
       "coxwell and gerrard              754\n",
       "bathurst and king                753\n",
       "broadview and dundas             717\n",
       "cne loop                         688\n",
       "humber loop                      619\n",
       "bathurst station                 596\n",
       "broadview and gerrard            563\n",
       "main station                     549\n",
       "spadina station                  546\n",
       "howard park and roncesvalles     544\n",
       "queen and spadina                478\n",
       "longbranch loop                  475\n",
       "bathurst and st clair            448\n",
       "st clair west station            423\n",
       "bathurst and fleet               407\n",
       "bathurst and queen               395\n",
       "neville loop                     385\n",
       "bingham loop                     366\n",
       "parliament and queen             360\n",
       "bathurst and dundas              351\n",
       "king and parliament              316\n",
       "                                ... \n",
       "bay and queen                    141\n",
       "bay and king                     141\n",
       "wilson yard                      138\n",
       "jarvis and queen                 136\n",
       "leslie and queen                 135\n",
       "lansdowne and st clair           135\n",
       "college and lansdowne            131\n",
       "queen and university             130\n",
       "bay and dundas                   129\n",
       "dundas and howard park           127\n",
       "parliament                       126\n",
       "king and yonge                   125\n",
       "scw station                      123\n",
       "john and king                    122\n",
       "birchmount yard                  121\n",
       "kingston rd and queen            120\n",
       "king and queen                   118\n",
       "dundas and ossington             116\n",
       "king and portland                115\n",
       "kingston and queen               113\n",
       "leslie st and queen st e         113\n",
       "jarvis and king                  111\n",
       "sunnyside loop                   111\n",
       "queen and victoria               110\n",
       "dundas and university            110\n",
       "king and university              110\n",
       "bathurst and st.clair            108\n",
       "kipling and lakeshore            108\n",
       "oakwood and st clair             105\n",
       "dundas and mccaul                104\n",
       "Name: Location, Length: 100, dtype: int64"
      ]
     },
     "execution_count": 115,
     "metadata": {},
     "output_type": "execute_result"
    }
   ],
   "source": [
    "# put intersection values into consistent order\n",
    "print(\"Unique Location values:\",df['Location'].nunique())\n",
    "df['Location'] = df['Location'].apply(lambda x:order_location(x))\n",
    "print(\"Location values post cleanup:\",df['Location'].nunique())\n",
    "df['Location'].value_counts().head(100)"
   ]
  },
  {
   "cell_type": "code",
   "execution_count": 116,
   "metadata": {},
   "outputs": [
    {
     "data": {
      "text/plain": [
       "roncesvalles yard                           3229\n",
       "queen and roncesvalles                      2680\n",
       "connaught and queen                         2046\n",
       "russell yard                                1642\n",
       "broadview and queen                         1275\n",
       "broadview station                           1265\n",
       "king and spadina                            1238\n",
       "dundas west station                         1065\n",
       "leslie yard                                  911\n",
       "coxwell and gerrard                          754\n",
       "bathurst and king                            753\n",
       "broadview and dundas                         717\n",
       "cne loop                                     688\n",
       "humber loop                                  619\n",
       "bathurst station                             596\n",
       "broadview and gerrard                        563\n",
       "main station                                 549\n",
       "spadina station                              546\n",
       "howard park and roncesvalles                 544\n",
       "queen and spadina                            478\n",
       "longbranch loop                              475\n",
       "bathurst and st clair                        448\n",
       "st clair west station                        423\n",
       "bathurst and fleet                           407\n",
       "bathurst and queen                           395\n",
       "neville loop                                 385\n",
       "bingham loop                                 366\n",
       "parliament and queen                         360\n",
       "bathurst and dundas                          351\n",
       "king and parliament                          316\n",
       "                                            ... \n",
       "dufferin and queen                           201\n",
       "king and sumach                              193\n",
       "king and shaw                                192\n",
       "roncesvalles                                 185\n",
       "queen and yonge                              173\n",
       "dundas and lansdowne                         165\n",
       "bay and college                              164\n",
       "dundas west station to broadview station     159\n",
       "dws                                          155\n",
       "dufferin loop                                154\n",
       "king and roncesvalles                        154\n",
       "high park station                            154\n",
       "union station                                153\n",
       "gerrard and parliament                       152\n",
       "broadview and danforth                       148\n",
       "queen and river                              148\n",
       "dundas and roncesvalles                      147\n",
       "dundas and yonge                             147\n",
       "mccaul and queen                             147\n",
       "carlaw and queen                             145\n",
       "bay and queen                                141\n",
       "bay and king                                 141\n",
       "wilson yard                                  138\n",
       "jarvis and queen                             136\n",
       "leslie and queen                             135\n",
       "lansdowne and st clair                       135\n",
       "college and lansdowne                        131\n",
       "queen and university                         130\n",
       "bay and dundas                               129\n",
       "dundas and howard park                       127\n",
       "Name: Location, Length: 80, dtype: int64"
      ]
     },
     "execution_count": 116,
     "metadata": {},
     "output_type": "execute_result"
    }
   ],
   "source": [
    "df['Location'].value_counts().head(80)"
   ]
  },
  {
   "cell_type": "code",
   "execution_count": 117,
   "metadata": {},
   "outputs": [
    {
     "data": {
      "text/html": [
       "<div>\n",
       "<style scoped>\n",
       "    .dataframe tbody tr th:only-of-type {\n",
       "        vertical-align: middle;\n",
       "    }\n",
       "\n",
       "    .dataframe tbody tr th {\n",
       "        vertical-align: top;\n",
       "    }\n",
       "\n",
       "    .dataframe thead th {\n",
       "        text-align: right;\n",
       "    }\n",
       "</style>\n",
       "<table border=\"1\" class=\"dataframe\">\n",
       "  <thead>\n",
       "    <tr style=\"text-align: right;\">\n",
       "      <th></th>\n",
       "      <th>Report Date</th>\n",
       "      <th>Route</th>\n",
       "      <th>Time</th>\n",
       "      <th>Day</th>\n",
       "      <th>Location</th>\n",
       "      <th>Incident</th>\n",
       "      <th>Min Delay</th>\n",
       "      <th>Min Gap</th>\n",
       "      <th>Direction</th>\n",
       "      <th>Vehicle</th>\n",
       "      <th>Report Date Time</th>\n",
       "    </tr>\n",
       "    <tr>\n",
       "      <th>Report Date Time</th>\n",
       "      <th></th>\n",
       "      <th></th>\n",
       "      <th></th>\n",
       "      <th></th>\n",
       "      <th></th>\n",
       "      <th></th>\n",
       "      <th></th>\n",
       "      <th></th>\n",
       "      <th></th>\n",
       "      <th></th>\n",
       "      <th></th>\n",
       "    </tr>\n",
       "  </thead>\n",
       "  <tbody>\n",
       "    <tr>\n",
       "      <th>2016-01-01 00:00:00</th>\n",
       "      <td>2016-01-01</td>\n",
       "      <td>505</td>\n",
       "      <td>00:00:00</td>\n",
       "      <td>Friday</td>\n",
       "      <td>dundas west stationt to broadview station</td>\n",
       "      <td>General Delay</td>\n",
       "      <td>7.0</td>\n",
       "      <td>14.0</td>\n",
       "      <td>w</td>\n",
       "      <td>4028</td>\n",
       "      <td>2016-01-01 00:00:00</td>\n",
       "    </tr>\n",
       "    <tr>\n",
       "      <th>2016-01-01 02:14:00</th>\n",
       "      <td>2016-01-01</td>\n",
       "      <td>511</td>\n",
       "      <td>02:14:00</td>\n",
       "      <td>Friday</td>\n",
       "      <td>fleet st. and strachan</td>\n",
       "      <td>Mechanical</td>\n",
       "      <td>10.0</td>\n",
       "      <td>20.0</td>\n",
       "      <td>e</td>\n",
       "      <td>4018</td>\n",
       "      <td>2016-01-01 02:14:00</td>\n",
       "    </tr>\n",
       "    <tr>\n",
       "      <th>2016-01-01 02:22:00</th>\n",
       "      <td>2016-01-01</td>\n",
       "      <td>301</td>\n",
       "      <td>02:22:00</td>\n",
       "      <td>Friday</td>\n",
       "      <td>queen st. west and roncesvalles</td>\n",
       "      <td>Mechanical</td>\n",
       "      <td>9.0</td>\n",
       "      <td>18.0</td>\n",
       "      <td>w</td>\n",
       "      <td>4201</td>\n",
       "      <td>2016-01-01 02:22:00</td>\n",
       "    </tr>\n",
       "    <tr>\n",
       "      <th>2016-01-01 03:28:00</th>\n",
       "      <td>2016-01-01</td>\n",
       "      <td>301</td>\n",
       "      <td>03:28:00</td>\n",
       "      <td>Friday</td>\n",
       "      <td>lake shore blvd. and superior st.</td>\n",
       "      <td>Mechanical</td>\n",
       "      <td>20.0</td>\n",
       "      <td>40.0</td>\n",
       "      <td>e</td>\n",
       "      <td>4251</td>\n",
       "      <td>2016-01-01 03:28:00</td>\n",
       "    </tr>\n",
       "    <tr>\n",
       "      <th>2016-01-01 14:28:00</th>\n",
       "      <td>2016-01-01</td>\n",
       "      <td>501</td>\n",
       "      <td>14:28:00</td>\n",
       "      <td>Friday</td>\n",
       "      <td>roncesvalles to neville park</td>\n",
       "      <td>Mechanical</td>\n",
       "      <td>6.0</td>\n",
       "      <td>12.0</td>\n",
       "      <td>e</td>\n",
       "      <td>4242</td>\n",
       "      <td>2016-01-01 14:28:00</td>\n",
       "    </tr>\n",
       "  </tbody>\n",
       "</table>\n",
       "</div>"
      ],
      "text/plain": [
       "                    Report Date Route      Time     Day  \\\n",
       "Report Date Time                                          \n",
       "2016-01-01 00:00:00  2016-01-01   505  00:00:00  Friday   \n",
       "2016-01-01 02:14:00  2016-01-01   511  02:14:00  Friday   \n",
       "2016-01-01 02:22:00  2016-01-01   301  02:22:00  Friday   \n",
       "2016-01-01 03:28:00  2016-01-01   301  03:28:00  Friday   \n",
       "2016-01-01 14:28:00  2016-01-01   501  14:28:00  Friday   \n",
       "\n",
       "                                                      Location       Incident  \\\n",
       "Report Date Time                                                                \n",
       "2016-01-01 00:00:00  dundas west stationt to broadview station  General Delay   \n",
       "2016-01-01 02:14:00                     fleet st. and strachan     Mechanical   \n",
       "2016-01-01 02:22:00            queen st. west and roncesvalles     Mechanical   \n",
       "2016-01-01 03:28:00          lake shore blvd. and superior st.     Mechanical   \n",
       "2016-01-01 14:28:00               roncesvalles to neville park     Mechanical   \n",
       "\n",
       "                     Min Delay  Min Gap Direction Vehicle    Report Date Time  \n",
       "Report Date Time                                                               \n",
       "2016-01-01 00:00:00        7.0     14.0         w    4028 2016-01-01 00:00:00  \n",
       "2016-01-01 02:14:00       10.0     20.0         e    4018 2016-01-01 02:14:00  \n",
       "2016-01-01 02:22:00        9.0     18.0         w    4201 2016-01-01 02:22:00  \n",
       "2016-01-01 03:28:00       20.0     40.0         e    4251 2016-01-01 03:28:00  \n",
       "2016-01-01 14:28:00        6.0     12.0         e    4242 2016-01-01 14:28:00  "
      ]
     },
     "execution_count": 117,
     "metadata": {},
     "output_type": "execute_result"
    }
   ],
   "source": [
    "df.head()"
   ]
  },
  {
   "cell_type": "markdown",
   "metadata": {},
   "source": [
    "# Remove bad rows"
   ]
  },
  {
   "cell_type": "code",
   "execution_count": 118,
   "metadata": {},
   "outputs": [
    {
     "name": "stdout",
     "output_type": "stream",
     "text": [
      "Location count post cleanup: 10074\n",
      "Route count post cleanup: 15\n",
      "Direction count post cleanup: 6\n",
      "Vehicle count post cleanup: 1017\n",
      "Bad route count: 2370\n",
      "Bad direction count: 302\n",
      "Bad vehicle count: 11221\n"
     ]
    }
   ],
   "source": [
    "print(\"Location count post cleanup:\",df['Location'].nunique())\n",
    "print(\"Route count post cleanup:\",df['Route'].nunique())\n",
    "print(\"Direction count post cleanup:\",df['Direction'].nunique())\n",
    "print(\"Vehicle count post cleanup:\",df['Vehicle'].nunique())\n",
    "# print(\"Bad Location count\":df[df.Vehicle == 'bad vehicle'].shape[0])\n",
    "print(\"Bad route count:\",df[df.Route == 'bad route'].shape[0])\n",
    "print(\"Bad direction count:\",df[df.Direction == 'bad direction'].shape[0])\n",
    "print(\"Bad vehicle count:\",df[df.Vehicle == 'bad vehicle'].shape[0])"
   ]
  },
  {
   "cell_type": "code",
   "execution_count": 119,
   "metadata": {},
   "outputs": [],
   "source": [
    "# remove rows with bad vehicle value\n",
    "if remove_bad_values:\n",
    "    df = df[df.Vehicle != 'bad vehicle']\n",
    "    df = df[df.Direction != 'bad direction']\n",
    "    df = df[df.Route != 'bad route']"
   ]
  },
  {
   "cell_type": "code",
   "execution_count": 120,
   "metadata": {},
   "outputs": [
    {
     "data": {
      "text/plain": [
       "(56205, 11)"
      ]
     },
     "execution_count": 120,
     "metadata": {},
     "output_type": "execute_result"
    }
   ],
   "source": [
    "df.shape"
   ]
  },
  {
   "cell_type": "code",
   "execution_count": 121,
   "metadata": {},
   "outputs": [],
   "source": [
    "# pickle the cleansed dataframe\n",
    "file_name = path + pickled_output_dataframe\n",
    "df.to_pickle(file_name)"
   ]
  },
  {
   "cell_type": "code",
   "execution_count": 122,
   "metadata": {},
   "outputs": [
    {
     "data": {
      "text/html": [
       "<div>\n",
       "<style scoped>\n",
       "    .dataframe tbody tr th:only-of-type {\n",
       "        vertical-align: middle;\n",
       "    }\n",
       "\n",
       "    .dataframe tbody tr th {\n",
       "        vertical-align: top;\n",
       "    }\n",
       "\n",
       "    .dataframe thead th {\n",
       "        text-align: right;\n",
       "    }\n",
       "</style>\n",
       "<table border=\"1\" class=\"dataframe\">\n",
       "  <thead>\n",
       "    <tr style=\"text-align: right;\">\n",
       "      <th></th>\n",
       "      <th>Report Date</th>\n",
       "      <th>Route</th>\n",
       "      <th>Time</th>\n",
       "      <th>Day</th>\n",
       "      <th>Location</th>\n",
       "      <th>Incident</th>\n",
       "      <th>Min Delay</th>\n",
       "      <th>Min Gap</th>\n",
       "      <th>Direction</th>\n",
       "      <th>Vehicle</th>\n",
       "      <th>Report Date Time</th>\n",
       "    </tr>\n",
       "    <tr>\n",
       "      <th>Report Date Time</th>\n",
       "      <th></th>\n",
       "      <th></th>\n",
       "      <th></th>\n",
       "      <th></th>\n",
       "      <th></th>\n",
       "      <th></th>\n",
       "      <th></th>\n",
       "      <th></th>\n",
       "      <th></th>\n",
       "      <th></th>\n",
       "      <th></th>\n",
       "    </tr>\n",
       "  </thead>\n",
       "  <tbody>\n",
       "    <tr>\n",
       "      <th>2016-01-01 00:00:00</th>\n",
       "      <td>2016-01-01</td>\n",
       "      <td>505</td>\n",
       "      <td>00:00:00</td>\n",
       "      <td>Friday</td>\n",
       "      <td>dundas west stationt to broadview station</td>\n",
       "      <td>General Delay</td>\n",
       "      <td>7.0</td>\n",
       "      <td>14.0</td>\n",
       "      <td>w</td>\n",
       "      <td>4028</td>\n",
       "      <td>2016-01-01 00:00:00</td>\n",
       "    </tr>\n",
       "    <tr>\n",
       "      <th>2016-01-01 02:14:00</th>\n",
       "      <td>2016-01-01</td>\n",
       "      <td>511</td>\n",
       "      <td>02:14:00</td>\n",
       "      <td>Friday</td>\n",
       "      <td>fleet st. and strachan</td>\n",
       "      <td>Mechanical</td>\n",
       "      <td>10.0</td>\n",
       "      <td>20.0</td>\n",
       "      <td>e</td>\n",
       "      <td>4018</td>\n",
       "      <td>2016-01-01 02:14:00</td>\n",
       "    </tr>\n",
       "    <tr>\n",
       "      <th>2016-01-01 02:22:00</th>\n",
       "      <td>2016-01-01</td>\n",
       "      <td>301</td>\n",
       "      <td>02:22:00</td>\n",
       "      <td>Friday</td>\n",
       "      <td>queen st. west and roncesvalles</td>\n",
       "      <td>Mechanical</td>\n",
       "      <td>9.0</td>\n",
       "      <td>18.0</td>\n",
       "      <td>w</td>\n",
       "      <td>4201</td>\n",
       "      <td>2016-01-01 02:22:00</td>\n",
       "    </tr>\n",
       "    <tr>\n",
       "      <th>2016-01-01 03:28:00</th>\n",
       "      <td>2016-01-01</td>\n",
       "      <td>301</td>\n",
       "      <td>03:28:00</td>\n",
       "      <td>Friday</td>\n",
       "      <td>lake shore blvd. and superior st.</td>\n",
       "      <td>Mechanical</td>\n",
       "      <td>20.0</td>\n",
       "      <td>40.0</td>\n",
       "      <td>e</td>\n",
       "      <td>4251</td>\n",
       "      <td>2016-01-01 03:28:00</td>\n",
       "    </tr>\n",
       "    <tr>\n",
       "      <th>2016-01-01 14:28:00</th>\n",
       "      <td>2016-01-01</td>\n",
       "      <td>501</td>\n",
       "      <td>14:28:00</td>\n",
       "      <td>Friday</td>\n",
       "      <td>roncesvalles to neville park</td>\n",
       "      <td>Mechanical</td>\n",
       "      <td>6.0</td>\n",
       "      <td>12.0</td>\n",
       "      <td>e</td>\n",
       "      <td>4242</td>\n",
       "      <td>2016-01-01 14:28:00</td>\n",
       "    </tr>\n",
       "  </tbody>\n",
       "</table>\n",
       "</div>"
      ],
      "text/plain": [
       "                    Report Date Route      Time     Day  \\\n",
       "Report Date Time                                          \n",
       "2016-01-01 00:00:00  2016-01-01   505  00:00:00  Friday   \n",
       "2016-01-01 02:14:00  2016-01-01   511  02:14:00  Friday   \n",
       "2016-01-01 02:22:00  2016-01-01   301  02:22:00  Friday   \n",
       "2016-01-01 03:28:00  2016-01-01   301  03:28:00  Friday   \n",
       "2016-01-01 14:28:00  2016-01-01   501  14:28:00  Friday   \n",
       "\n",
       "                                                      Location       Incident  \\\n",
       "Report Date Time                                                                \n",
       "2016-01-01 00:00:00  dundas west stationt to broadview station  General Delay   \n",
       "2016-01-01 02:14:00                     fleet st. and strachan     Mechanical   \n",
       "2016-01-01 02:22:00            queen st. west and roncesvalles     Mechanical   \n",
       "2016-01-01 03:28:00          lake shore blvd. and superior st.     Mechanical   \n",
       "2016-01-01 14:28:00               roncesvalles to neville park     Mechanical   \n",
       "\n",
       "                     Min Delay  Min Gap Direction Vehicle    Report Date Time  \n",
       "Report Date Time                                                               \n",
       "2016-01-01 00:00:00        7.0     14.0         w    4028 2016-01-01 00:00:00  \n",
       "2016-01-01 02:14:00       10.0     20.0         e    4018 2016-01-01 02:14:00  \n",
       "2016-01-01 02:22:00        9.0     18.0         w    4201 2016-01-01 02:22:00  \n",
       "2016-01-01 03:28:00       20.0     40.0         e    4251 2016-01-01 03:28:00  \n",
       "2016-01-01 14:28:00        6.0     12.0         e    4242 2016-01-01 14:28:00  "
      ]
     },
     "execution_count": 122,
     "metadata": {},
     "output_type": "execute_result"
    }
   ],
   "source": [
    "dfn = pd.read_pickle(file_name)\n",
    "dfn.head()"
   ]
  },
  {
   "cell_type": "markdown",
   "metadata": {},
   "source": [
    "# Visualize cleaned data"
   ]
  },
  {
   "cell_type": "code",
   "execution_count": null,
   "metadata": {},
   "outputs": [],
   "source": [
    "!pip install pixiedust"
   ]
  },
  {
   "cell_type": "code",
   "execution_count": null,
   "metadata": {},
   "outputs": [],
   "source": [
    "import pixiedust"
   ]
  },
  {
   "cell_type": "code",
   "execution_count": null,
   "metadata": {
    "pixiedust": {
     "displayParams": {
      "binsize": "23",
      "chartsize": "70",
      "handlerId": "barChart",
      "keyFields": "Route",
      "mapboxtoken": "pk.eyJ1Ijoicnlhbm1hcmsiLCJhIjoiY2pvM2JnZmE0MHY5dzNxcXM0Zmw3c2RwZSJ9.k-PhU8qMVztXtdyuX2Yjpw",
      "sortby": "Values DESC",
      "stretch": "false",
      "tableFields": "Day",
      "valueFields": "Min Delay"
     }
    },
    "scrolled": false
   },
   "outputs": [],
   "source": [
    "display(df)"
   ]
  }
 ],
 "metadata": {
  "kernelspec": {
   "display_name": "Python 3",
   "language": "python",
   "name": "python3"
  },
  "language_info": {
   "codemirror_mode": {
    "name": "ipython",
    "version": 3
   },
   "file_extension": ".py",
   "mimetype": "text/x-python",
   "name": "python",
   "nbconvert_exporter": "python",
   "pygments_lexer": "ipython3",
   "version": "3.6.7"
  }
 },
 "nbformat": 4,
 "nbformat_minor": 2
}
