{
 "cells": [
  {
   "cell_type": "markdown",
   "metadata": {},
   "source": [
    "# Streetcar Delay Prediction\n",
    "\n",
    "Use dataset covering Toronto Transit Commission (TTC) streetcar delays 2014 - 2018 to predict future delays and come up with recommendations for avoiding delays.\n",
    "\n",
    "Source dataset: : https://www.toronto.ca/city-government/data-research-maps/open-data/open-data-catalogue/#e8f359f0-2f47-3058-bf64-6ec488de52da"
   ]
  },
  {
   "cell_type": "markdown",
   "metadata": {},
   "source": [
    "# Streetcar routes\n",
    "\n",
    "From https://www.ttc.ca/Routes/Streetcars.jsp\n",
    "\n",
    "<table style=\"border: none\" align=\"left\">\n",
    "   </tr>\n",
    "   <tr style=\"border: none\">\n",
    "       <th style=\"border: none\"><img src=\"https://raw.githubusercontent.com/ryanmark1867/streetcarnov3/master/streetcar%20routes.jpg\" width=\"600\" alt=\"Icon\"> </th>\n",
    "   </tr>\n",
    "</table>"
   ]
  },
  {
   "cell_type": "markdown",
   "metadata": {},
   "source": [
    "# Streetcar vehicle IDs CLRV/ALRV\n",
    "\n",
    "From https://en.wikipedia.org/wiki/Toronto_streetcar_system_rolling_stock#CLRVs_and_ALRVs\n",
    "\n",
    "<table style=\"border: none\" align=\"left\">\n",
    "   </tr>\n",
    "   <tr style=\"border: none\">\n",
    "       <th style=\"border: none\"><img src=\"https://raw.githubusercontent.com/ryanmark1867/streetcarnov3/master/streetcarCLRV.jpg\" width=\"600\" alt=\"Icon\"> </th>\n",
    "   </tr>\n",
    "</table>"
   ]
  },
  {
   "cell_type": "markdown",
   "metadata": {},
   "source": [
    "# Streetcar vehicle IDs Flexity\n",
    "\n",
    "From https://en.wikipedia.org/wiki/Toronto_streetcar_system_rolling_stock#CLRVs_and_ALRVs\n",
    "\n",
    "<table style=\"border: none\" align=\"left\">\n",
    "   </tr>\n",
    "   <tr style=\"border: none\">\n",
    "       <th style=\"border: none\"><img src=\"https://raw.githubusercontent.com/ryanmark1867/streetcarnov3/master/streetcarflexity.jpg\" width=\"600\" alt=\"Icon\"> </th>\n",
    "   </tr>\n",
    "</table>"
   ]
  },
  {
   "cell_type": "code",
   "execution_count": 41,
   "metadata": {},
   "outputs": [],
   "source": [
    "# load the valid list of TTC Streetcar routes\n",
    "valid_routes = ['501','502','503','504','505','506','509','510','511','512','301','304','306','310']"
   ]
  },
  {
   "cell_type": "code",
   "execution_count": 42,
   "metadata": {},
   "outputs": [
    {
     "data": {
      "text/plain": [
       "['501',\n",
       " '502',\n",
       " '503',\n",
       " '504',\n",
       " '505',\n",
       " '506',\n",
       " '509',\n",
       " '510',\n",
       " '511',\n",
       " '512',\n",
       " '301',\n",
       " '304',\n",
       " '306',\n",
       " '310']"
      ]
     },
     "execution_count": 42,
     "metadata": {},
     "output_type": "execute_result"
    }
   ],
   "source": [
    "valid_routes"
   ]
  },
  {
   "cell_type": "code",
   "execution_count": 43,
   "metadata": {},
   "outputs": [],
   "source": [
    "valid_directions = ['E/B','W/B','N/B','S/B']"
   ]
  },
  {
   "cell_type": "code",
   "execution_count": 44,
   "metadata": {},
   "outputs": [],
   "source": [
    "valid_days = ['Monday','Tuesday','Wednesday','Thursday','Friday','Saturday','Sunday']"
   ]
  },
  {
   "cell_type": "code",
   "execution_count": 45,
   "metadata": {},
   "outputs": [
    {
     "name": "stdout",
     "output_type": "stream",
     "text": [
      "/home/paperspace/fastai/courses/streetcar\r\n"
     ]
    }
   ],
   "source": [
    "! pwd"
   ]
  },
  {
   "cell_type": "markdown",
   "metadata": {},
   "source": [
    "# Load and Save Data\n",
    "- parse list of XLS files \n",
    "- load XLS files, tab by tab, into dataframe\n",
    "- pickle dataframe for future runs"
   ]
  },
  {
   "cell_type": "code",
   "execution_count": 7,
   "metadata": {},
   "outputs": [
    {
     "name": "stdout",
     "output_type": "stream",
     "text": [
      "Collecting statsmodels\n",
      "\u001b[?25l  Downloading https://files.pythonhosted.org/packages/85/d1/69ee7e757f657e7f527cbf500ec2d295396e5bcec873cf4eb68962c41024/statsmodels-0.9.0-cp36-cp36m-manylinux1_x86_64.whl (7.4MB)\n",
      "\u001b[K    100% |████████████████████████████████| 7.4MB 6.2MB/s eta 0:00:01\n",
      "\u001b[?25hCollecting patsy (from statsmodels)\n",
      "\u001b[?25l  Downloading https://files.pythonhosted.org/packages/ea/0c/5f61f1a3d4385d6bf83b83ea495068857ff8dfb89e74824c6e9eb63286d8/patsy-0.5.1-py2.py3-none-any.whl (231kB)\n",
      "\u001b[K    100% |████████████████████████████████| 235kB 42.3MB/s ta 0:00:01\n",
      "\u001b[?25hRequirement already satisfied: pandas in /opt/conda/envs/fastai/lib/python3.6/site-packages (from statsmodels) (0.23.4)\n",
      "Requirement already satisfied: numpy>=1.4 in /opt/conda/envs/fastai/lib/python3.6/site-packages (from patsy->statsmodels) (1.15.4)\n",
      "Requirement already satisfied: six in /opt/conda/envs/fastai/lib/python3.6/site-packages (from patsy->statsmodels) (1.12.0)\n",
      "Requirement already satisfied: pytz>=2011k in /opt/conda/envs/fastai/lib/python3.6/site-packages (from pandas->statsmodels) (2018.9)\n",
      "Requirement already satisfied: python-dateutil>=2.5.0 in /opt/conda/envs/fastai/lib/python3.6/site-packages (from pandas->statsmodels) (2.7.5)\n",
      "Installing collected packages: patsy, statsmodels\n",
      "Successfully installed patsy-0.5.1 statsmodels-0.9.0\n"
     ]
    }
   ],
   "source": [
    "! pip install statsmodels"
   ]
  },
  {
   "cell_type": "code",
   "execution_count": 8,
   "metadata": {},
   "outputs": [],
   "source": [
    "import numpy as np # linear algebra\n",
    "import pandas as pd # data processing, CSV file I/O (e.g. pd.read_csv)\n",
    "import matplotlib.pyplot as plt\n",
    "# import statsmodels.api as sm\n",
    "import statsmodels as sm\n",
    "import seaborn as sns\n",
    "import datetime\n",
    "import os\n"
   ]
  },
  {
   "cell_type": "code",
   "execution_count": 9,
   "metadata": {},
   "outputs": [
    {
     "name": "stdout",
     "output_type": "stream",
     "text": [
      "raw path is /storage/manning/notebooks\n"
     ]
    }
   ],
   "source": [
    "# get the directory for that this notebook is in\n",
    "rawpath = os.getcwd()\n",
    "print(\"raw path is\",rawpath)"
   ]
  },
  {
   "cell_type": "code",
   "execution_count": 10,
   "metadata": {},
   "outputs": [
    {
     "name": "stdout",
     "output_type": "stream",
     "text": [
      "path is /storage/manning/data/\n"
     ]
    }
   ],
   "source": [
    "# data is in a directory called \"data\" that is a sibling to the directory containing the notebook\n",
    "# this code assumes you have copied to this directory all the XLS files from the source dataset: https://www.toronto.ca/city-government/data-research-maps/open-data/open-data-catalogue/#e8f359f0-2f47-3058-bf64-6ec488de52da\n",
    "path = os.path.abspath(os.path.join(rawpath, '..', 'data')) + \"/\"\n",
    "print(\"path is\", path)"
   ]
  },
  {
   "cell_type": "code",
   "execution_count": 11,
   "metadata": {},
   "outputs": [],
   "source": [
    "# pickled_dataframe = '20142018_df.pkl'\n",
    "pickled_input_dataframe = '2014_2018.pkl'\n",
    "\n"
   ]
  },
  {
   "cell_type": "code",
   "execution_count": 12,
   "metadata": {},
   "outputs": [],
   "source": [
    "def define_feature_categories(df):\n",
    "    allcols = list(df)\n",
    "    print(\"all cols\",allcols)\n",
    "    textcols = ['Incident','Location'] # \n",
    "    continuouscols = ['Min Delay','Min Gap'] \n",
    "                      # columns to deal with as continuous values - no embeddings\n",
    "    timecols = ['Report Date','Time']\n",
    "    collist = ['Day','Vehicle','Route','Direction']\n",
    "    for col in continuouscols:\n",
    "        df[col] = df[col].astype(float)\n",
    "    print('texcols: ',textcols)\n",
    "    print('continuouscols: ',continuouscols)\n",
    "    print('timecols: ',timecols)\n",
    "    print('collist: ',collist)\n",
    "    return(allcols,textcols,continuouscols,timecols,collist)"
   ]
  },
  {
   "cell_type": "code",
   "execution_count": 13,
   "metadata": {},
   "outputs": [],
   "source": [
    "def fill_missing(dataset):\n",
    "    print(\"before mv\")\n",
    "    for col in collist:\n",
    "        dataset[col].fillna(value=\"missing\", inplace=True)\n",
    "    for col in continuouscols:\n",
    "        dataset[col].fillna(value=0.0,inplace=True)\n",
    "    for col in textcols:\n",
    "        dataset[col].fillna(value=\"missing\", inplace=True)\n",
    "    return (dataset)"
   ]
  },
  {
   "cell_type": "markdown",
   "metadata": {},
   "source": [
    "# Load dataframe and add columns for time series manipulation\n",
    "- load pickled dataframe\n",
    "- show info about the dataset\n",
    "- build index combining date+time along with labelled column date+time\n"
   ]
  },
  {
   "cell_type": "code",
   "execution_count": 15,
   "metadata": {},
   "outputs": [],
   "source": [
    "# load pickled dataframe\n",
    "df = pd.read_pickle(path+pickled_input_dataframe)"
   ]
  },
  {
   "cell_type": "code",
   "execution_count": 16,
   "metadata": {},
   "outputs": [
    {
     "data": {
      "text/html": [
       "<div>\n",
       "<style scoped>\n",
       "    .dataframe tbody tr th:only-of-type {\n",
       "        vertical-align: middle;\n",
       "    }\n",
       "\n",
       "    .dataframe tbody tr th {\n",
       "        vertical-align: top;\n",
       "    }\n",
       "\n",
       "    .dataframe thead th {\n",
       "        text-align: right;\n",
       "    }\n",
       "</style>\n",
       "<table border=\"1\" class=\"dataframe\">\n",
       "  <thead>\n",
       "    <tr style=\"text-align: right;\">\n",
       "      <th></th>\n",
       "      <th>Report Date</th>\n",
       "      <th>Route</th>\n",
       "      <th>Time</th>\n",
       "      <th>Day</th>\n",
       "      <th>Location</th>\n",
       "      <th>Incident</th>\n",
       "      <th>Min Delay</th>\n",
       "      <th>Min Gap</th>\n",
       "      <th>Direction</th>\n",
       "      <th>Vehicle</th>\n",
       "    </tr>\n",
       "  </thead>\n",
       "  <tbody>\n",
       "    <tr>\n",
       "      <th>0</th>\n",
       "      <td>2016-01-01</td>\n",
       "      <td>505</td>\n",
       "      <td>00:00:00</td>\n",
       "      <td>Friday</td>\n",
       "      <td>Dundas West stnt to Broadview stn</td>\n",
       "      <td>General Delay</td>\n",
       "      <td>7.0</td>\n",
       "      <td>14.0</td>\n",
       "      <td>W/B</td>\n",
       "      <td>4028.0</td>\n",
       "    </tr>\n",
       "    <tr>\n",
       "      <th>1</th>\n",
       "      <td>2016-01-01</td>\n",
       "      <td>511</td>\n",
       "      <td>02:14:00</td>\n",
       "      <td>Friday</td>\n",
       "      <td>Fleet St. and Strachan Ave.</td>\n",
       "      <td>Mechanical</td>\n",
       "      <td>10.0</td>\n",
       "      <td>20.0</td>\n",
       "      <td>E/B</td>\n",
       "      <td>4018.0</td>\n",
       "    </tr>\n",
       "    <tr>\n",
       "      <th>2</th>\n",
       "      <td>2016-01-01</td>\n",
       "      <td>301</td>\n",
       "      <td>02:22:00</td>\n",
       "      <td>Friday</td>\n",
       "      <td>Queen St. West and Roncesvalles Ave.</td>\n",
       "      <td>Mechanical</td>\n",
       "      <td>9.0</td>\n",
       "      <td>18.0</td>\n",
       "      <td>W/B</td>\n",
       "      <td>4201.0</td>\n",
       "    </tr>\n",
       "    <tr>\n",
       "      <th>3</th>\n",
       "      <td>2016-01-01</td>\n",
       "      <td>301</td>\n",
       "      <td>03:28:00</td>\n",
       "      <td>Friday</td>\n",
       "      <td>Lake Shore Blvd. and Superior St.</td>\n",
       "      <td>Mechanical</td>\n",
       "      <td>20.0</td>\n",
       "      <td>40.0</td>\n",
       "      <td>E/B</td>\n",
       "      <td>4251.0</td>\n",
       "    </tr>\n",
       "    <tr>\n",
       "      <th>4</th>\n",
       "      <td>2016-01-01</td>\n",
       "      <td>501</td>\n",
       "      <td>14:28:00</td>\n",
       "      <td>Friday</td>\n",
       "      <td>Roncy to Neville Park</td>\n",
       "      <td>Mechanical</td>\n",
       "      <td>6.0</td>\n",
       "      <td>12.0</td>\n",
       "      <td>E/B</td>\n",
       "      <td>4242.0</td>\n",
       "    </tr>\n",
       "  </tbody>\n",
       "</table>\n",
       "</div>"
      ],
      "text/plain": [
       "  Report Date  Route      Time     Day                              Location  \\\n",
       "0  2016-01-01    505  00:00:00  Friday     Dundas West stnt to Broadview stn   \n",
       "1  2016-01-01    511  02:14:00  Friday           Fleet St. and Strachan Ave.   \n",
       "2  2016-01-01    301  02:22:00  Friday  Queen St. West and Roncesvalles Ave.   \n",
       "3  2016-01-01    301  03:28:00  Friday     Lake Shore Blvd. and Superior St.   \n",
       "4  2016-01-01    501  14:28:00  Friday                 Roncy to Neville Park   \n",
       "\n",
       "        Incident  Min Delay  Min Gap Direction  Vehicle  \n",
       "0  General Delay        7.0     14.0       W/B   4028.0  \n",
       "1     Mechanical       10.0     20.0       E/B   4018.0  \n",
       "2     Mechanical        9.0     18.0       W/B   4201.0  \n",
       "3     Mechanical       20.0     40.0       E/B   4251.0  \n",
       "4     Mechanical        6.0     12.0       E/B   4242.0  "
      ]
     },
     "execution_count": 16,
     "metadata": {},
     "output_type": "execute_result"
    }
   ],
   "source": [
    "df.head()"
   ]
  },
  {
   "cell_type": "code",
   "execution_count": 17,
   "metadata": {},
   "outputs": [],
   "source": [
    "# ensure Route and Vehicle are strings, not numeric\n",
    "# df = df.astype({\"Route\": str, \"Vehicle\": int})\n",
    "df['Route'] = df['Route'].astype(str)\n",
    "df['Vehicle'] = df['Vehicle'].astype(str)\n",
    "# df['filename'] = df['filename'].str[:-4]\n",
    "df['Vehicle'] = df['Vehicle'].str[:-2]"
   ]
  },
  {
   "cell_type": "code",
   "execution_count": 18,
   "metadata": {},
   "outputs": [
    {
     "name": "stdout",
     "output_type": "stream",
     "text": [
      "all cols ['Report Date', 'Route', 'Time', 'Day', 'Location', 'Incident', 'Min Delay', 'Min Gap', 'Direction', 'Vehicle']\n",
      "texcols:  ['Incident', 'Location']\n",
      "continuouscols:  ['Min Delay', 'Min Gap']\n",
      "timecols:  ['Report Date', 'Time']\n",
      "collist:  ['Day', 'Vehicle', 'Route', 'Direction']\n"
     ]
    }
   ],
   "source": [
    "# define categories\n",
    "allcols,textcols,continuouscols,timecols,collist = define_feature_categories(df) "
   ]
  },
  {
   "cell_type": "code",
   "execution_count": 19,
   "metadata": {},
   "outputs": [
    {
     "name": "stdout",
     "output_type": "stream",
     "text": [
      "before mv\n"
     ]
    }
   ],
   "source": [
    "# fill in missing values\n",
    "df = fill_missing(df)"
   ]
  },
  {
   "cell_type": "code",
   "execution_count": 20,
   "metadata": {},
   "outputs": [
    {
     "name": "stdout",
     "output_type": "stream",
     "text": [
      "<class 'pandas.core.frame.DataFrame'>\n",
      "Int64Index: 69603 entries, 0 to 873\n",
      "Data columns (total 10 columns):\n",
      "Report Date    69603 non-null datetime64[ns]\n",
      "Route          69603 non-null object\n",
      "Time           69603 non-null object\n",
      "Day            69603 non-null object\n",
      "Location       69603 non-null object\n",
      "Incident       69603 non-null object\n",
      "Min Delay      69603 non-null float64\n",
      "Min Gap        69603 non-null float64\n",
      "Direction      69603 non-null object\n",
      "Vehicle        69603 non-null object\n",
      "dtypes: datetime64[ns](1), float64(2), object(7)\n",
      "memory usage: 5.8+ MB\n"
     ]
    }
   ],
   "source": [
    "# getting some information about dataset\n",
    "df.info()"
   ]
  },
  {
   "cell_type": "code",
   "execution_count": 21,
   "metadata": {},
   "outputs": [
    {
     "data": {
      "text/plain": [
       "(69603, 10)"
      ]
     },
     "execution_count": 21,
     "metadata": {},
     "output_type": "execute_result"
    }
   ],
   "source": [
    "# getting some information about dataset\n",
    "df.shape"
   ]
  },
  {
   "cell_type": "code",
   "execution_count": 22,
   "metadata": {},
   "outputs": [
    {
     "data": {
      "text/html": [
       "<div>\n",
       "<style scoped>\n",
       "    .dataframe tbody tr th:only-of-type {\n",
       "        vertical-align: middle;\n",
       "    }\n",
       "\n",
       "    .dataframe tbody tr th {\n",
       "        vertical-align: top;\n",
       "    }\n",
       "\n",
       "    .dataframe thead th {\n",
       "        text-align: right;\n",
       "    }\n",
       "</style>\n",
       "<table border=\"1\" class=\"dataframe\">\n",
       "  <thead>\n",
       "    <tr style=\"text-align: right;\">\n",
       "      <th></th>\n",
       "      <th>Min Delay</th>\n",
       "      <th>Min Gap</th>\n",
       "    </tr>\n",
       "  </thead>\n",
       "  <tbody>\n",
       "    <tr>\n",
       "      <th>count</th>\n",
       "      <td>69603.000000</td>\n",
       "      <td>69603.000000</td>\n",
       "    </tr>\n",
       "    <tr>\n",
       "      <th>mean</th>\n",
       "      <td>12.687672</td>\n",
       "      <td>18.127926</td>\n",
       "    </tr>\n",
       "    <tr>\n",
       "      <th>std</th>\n",
       "      <td>29.772404</td>\n",
       "      <td>33.610537</td>\n",
       "    </tr>\n",
       "    <tr>\n",
       "      <th>min</th>\n",
       "      <td>0.000000</td>\n",
       "      <td>0.000000</td>\n",
       "    </tr>\n",
       "    <tr>\n",
       "      <th>25%</th>\n",
       "      <td>5.000000</td>\n",
       "      <td>9.000000</td>\n",
       "    </tr>\n",
       "    <tr>\n",
       "      <th>50%</th>\n",
       "      <td>6.000000</td>\n",
       "      <td>12.000000</td>\n",
       "    </tr>\n",
       "    <tr>\n",
       "      <th>75%</th>\n",
       "      <td>12.000000</td>\n",
       "      <td>20.000000</td>\n",
       "    </tr>\n",
       "    <tr>\n",
       "      <th>max</th>\n",
       "      <td>1400.000000</td>\n",
       "      <td>4216.000000</td>\n",
       "    </tr>\n",
       "  </tbody>\n",
       "</table>\n",
       "</div>"
      ],
      "text/plain": [
       "          Min Delay       Min Gap\n",
       "count  69603.000000  69603.000000\n",
       "mean      12.687672     18.127926\n",
       "std       29.772404     33.610537\n",
       "min        0.000000      0.000000\n",
       "25%        5.000000      9.000000\n",
       "50%        6.000000     12.000000\n",
       "75%       12.000000     20.000000\n",
       "max     1400.000000   4216.000000"
      ]
     },
     "execution_count": 22,
     "metadata": {},
     "output_type": "execute_result"
    }
   ],
   "source": [
    "# further Analysis \n",
    "df.describe()"
   ]
  },
  {
   "cell_type": "code",
   "execution_count": 23,
   "metadata": {},
   "outputs": [
    {
     "data": {
      "text/plain": [
       "Report Date    datetime64[ns]\n",
       "Route                  object\n",
       "Time                   object\n",
       "Day                    object\n",
       "Location               object\n",
       "Incident               object\n",
       "Min Delay             float64\n",
       "Min Gap               float64\n",
       "Direction              object\n",
       "Vehicle                object\n",
       "dtype: object"
      ]
     },
     "execution_count": 23,
     "metadata": {},
     "output_type": "execute_result"
    }
   ],
   "source": [
    "df.dtypes"
   ]
  },
  {
   "cell_type": "code",
   "execution_count": 24,
   "metadata": {},
   "outputs": [
    {
     "data": {
      "text/html": [
       "<div>\n",
       "<style scoped>\n",
       "    .dataframe tbody tr th:only-of-type {\n",
       "        vertical-align: middle;\n",
       "    }\n",
       "\n",
       "    .dataframe tbody tr th {\n",
       "        vertical-align: top;\n",
       "    }\n",
       "\n",
       "    .dataframe thead th {\n",
       "        text-align: right;\n",
       "    }\n",
       "</style>\n",
       "<table border=\"1\" class=\"dataframe\">\n",
       "  <thead>\n",
       "    <tr style=\"text-align: right;\">\n",
       "      <th></th>\n",
       "      <th>Report Date</th>\n",
       "      <th>Route</th>\n",
       "      <th>Time</th>\n",
       "      <th>Day</th>\n",
       "      <th>Location</th>\n",
       "      <th>Incident</th>\n",
       "      <th>Min Delay</th>\n",
       "      <th>Min Gap</th>\n",
       "      <th>Direction</th>\n",
       "      <th>Vehicle</th>\n",
       "      <th>Report Date Time</th>\n",
       "    </tr>\n",
       "    <tr>\n",
       "      <th>Report Date Time</th>\n",
       "      <th></th>\n",
       "      <th></th>\n",
       "      <th></th>\n",
       "      <th></th>\n",
       "      <th></th>\n",
       "      <th></th>\n",
       "      <th></th>\n",
       "      <th></th>\n",
       "      <th></th>\n",
       "      <th></th>\n",
       "      <th></th>\n",
       "    </tr>\n",
       "  </thead>\n",
       "  <tbody>\n",
       "    <tr>\n",
       "      <th>2016-01-01 00:00:00</th>\n",
       "      <td>2016-01-01</td>\n",
       "      <td>505</td>\n",
       "      <td>00:00:00</td>\n",
       "      <td>Friday</td>\n",
       "      <td>Dundas West stnt to Broadview stn</td>\n",
       "      <td>General Delay</td>\n",
       "      <td>7.0</td>\n",
       "      <td>14.0</td>\n",
       "      <td>W/B</td>\n",
       "      <td>4028</td>\n",
       "      <td>2016-01-01 00:00:00</td>\n",
       "    </tr>\n",
       "    <tr>\n",
       "      <th>2016-01-01 02:14:00</th>\n",
       "      <td>2016-01-01</td>\n",
       "      <td>511</td>\n",
       "      <td>02:14:00</td>\n",
       "      <td>Friday</td>\n",
       "      <td>Fleet St. and Strachan Ave.</td>\n",
       "      <td>Mechanical</td>\n",
       "      <td>10.0</td>\n",
       "      <td>20.0</td>\n",
       "      <td>E/B</td>\n",
       "      <td>4018</td>\n",
       "      <td>2016-01-01 02:14:00</td>\n",
       "    </tr>\n",
       "    <tr>\n",
       "      <th>2016-01-01 02:22:00</th>\n",
       "      <td>2016-01-01</td>\n",
       "      <td>301</td>\n",
       "      <td>02:22:00</td>\n",
       "      <td>Friday</td>\n",
       "      <td>Queen St. West and Roncesvalles Ave.</td>\n",
       "      <td>Mechanical</td>\n",
       "      <td>9.0</td>\n",
       "      <td>18.0</td>\n",
       "      <td>W/B</td>\n",
       "      <td>4201</td>\n",
       "      <td>2016-01-01 02:22:00</td>\n",
       "    </tr>\n",
       "    <tr>\n",
       "      <th>2016-01-01 03:28:00</th>\n",
       "      <td>2016-01-01</td>\n",
       "      <td>301</td>\n",
       "      <td>03:28:00</td>\n",
       "      <td>Friday</td>\n",
       "      <td>Lake Shore Blvd. and Superior St.</td>\n",
       "      <td>Mechanical</td>\n",
       "      <td>20.0</td>\n",
       "      <td>40.0</td>\n",
       "      <td>E/B</td>\n",
       "      <td>4251</td>\n",
       "      <td>2016-01-01 03:28:00</td>\n",
       "    </tr>\n",
       "    <tr>\n",
       "      <th>2016-01-01 14:28:00</th>\n",
       "      <td>2016-01-01</td>\n",
       "      <td>501</td>\n",
       "      <td>14:28:00</td>\n",
       "      <td>Friday</td>\n",
       "      <td>Roncy to Neville Park</td>\n",
       "      <td>Mechanical</td>\n",
       "      <td>6.0</td>\n",
       "      <td>12.0</td>\n",
       "      <td>E/B</td>\n",
       "      <td>4242</td>\n",
       "      <td>2016-01-01 14:28:00</td>\n",
       "    </tr>\n",
       "  </tbody>\n",
       "</table>\n",
       "</div>"
      ],
      "text/plain": [
       "                    Report Date Route      Time     Day  \\\n",
       "Report Date Time                                          \n",
       "2016-01-01 00:00:00  2016-01-01   505  00:00:00  Friday   \n",
       "2016-01-01 02:14:00  2016-01-01   511  02:14:00  Friday   \n",
       "2016-01-01 02:22:00  2016-01-01   301  02:22:00  Friday   \n",
       "2016-01-01 03:28:00  2016-01-01   301  03:28:00  Friday   \n",
       "2016-01-01 14:28:00  2016-01-01   501  14:28:00  Friday   \n",
       "\n",
       "                                                 Location       Incident  \\\n",
       "Report Date Time                                                           \n",
       "2016-01-01 00:00:00     Dundas West stnt to Broadview stn  General Delay   \n",
       "2016-01-01 02:14:00           Fleet St. and Strachan Ave.     Mechanical   \n",
       "2016-01-01 02:22:00  Queen St. West and Roncesvalles Ave.     Mechanical   \n",
       "2016-01-01 03:28:00     Lake Shore Blvd. and Superior St.     Mechanical   \n",
       "2016-01-01 14:28:00                 Roncy to Neville Park     Mechanical   \n",
       "\n",
       "                     Min Delay  Min Gap Direction Vehicle    Report Date Time  \n",
       "Report Date Time                                                               \n",
       "2016-01-01 00:00:00        7.0     14.0       W/B    4028 2016-01-01 00:00:00  \n",
       "2016-01-01 02:14:00       10.0     20.0       E/B    4018 2016-01-01 02:14:00  \n",
       "2016-01-01 02:22:00        9.0     18.0       W/B    4201 2016-01-01 02:22:00  \n",
       "2016-01-01 03:28:00       20.0     40.0       E/B    4251 2016-01-01 03:28:00  \n",
       "2016-01-01 14:28:00        6.0     12.0       E/B    4242 2016-01-01 14:28:00  "
      ]
     },
     "execution_count": 24,
     "metadata": {},
     "output_type": "execute_result"
    }
   ],
   "source": [
    "# create new column combing date + time (needed for resampling) and make it the index\n",
    "\n",
    "df['Report Date Time'] = pd.to_datetime(df['Report Date'].astype(str) + ' ' + df['Time'].astype(str))\n",
    "df.index = df['Report Date Time']\n",
    "df.head()"
   ]
  },
  {
   "cell_type": "markdown",
   "metadata": {},
   "source": [
    "# Create dataframes for delay-duration based forecasting\n",
    "- create a dataframe with just index and delay\n",
    "- resample to get mean by month in year"
   ]
  },
  {
   "cell_type": "code",
   "execution_count": 25,
   "metadata": {},
   "outputs": [
    {
     "data": {
      "text/html": [
       "<div>\n",
       "<style scoped>\n",
       "    .dataframe tbody tr th:only-of-type {\n",
       "        vertical-align: middle;\n",
       "    }\n",
       "\n",
       "    .dataframe tbody tr th {\n",
       "        vertical-align: top;\n",
       "    }\n",
       "\n",
       "    .dataframe thead th {\n",
       "        text-align: right;\n",
       "    }\n",
       "</style>\n",
       "<table border=\"1\" class=\"dataframe\">\n",
       "  <thead>\n",
       "    <tr style=\"text-align: right;\">\n",
       "      <th></th>\n",
       "      <th>Min Delay</th>\n",
       "    </tr>\n",
       "    <tr>\n",
       "      <th>Report Date Time</th>\n",
       "      <th></th>\n",
       "    </tr>\n",
       "  </thead>\n",
       "  <tbody>\n",
       "    <tr>\n",
       "      <th>2016-01-01 00:00:00</th>\n",
       "      <td>7.0</td>\n",
       "    </tr>\n",
       "    <tr>\n",
       "      <th>2016-01-01 02:14:00</th>\n",
       "      <td>10.0</td>\n",
       "    </tr>\n",
       "    <tr>\n",
       "      <th>2016-01-01 02:22:00</th>\n",
       "      <td>9.0</td>\n",
       "    </tr>\n",
       "    <tr>\n",
       "      <th>2016-01-01 03:28:00</th>\n",
       "      <td>20.0</td>\n",
       "    </tr>\n",
       "    <tr>\n",
       "      <th>2016-01-01 14:28:00</th>\n",
       "      <td>6.0</td>\n",
       "    </tr>\n",
       "  </tbody>\n",
       "</table>\n",
       "</div>"
      ],
      "text/plain": [
       "                     Min Delay\n",
       "Report Date Time              \n",
       "2016-01-01 00:00:00        7.0\n",
       "2016-01-01 02:14:00       10.0\n",
       "2016-01-01 02:22:00        9.0\n",
       "2016-01-01 03:28:00       20.0\n",
       "2016-01-01 14:28:00        6.0"
      ]
     },
     "execution_count": 25,
     "metadata": {},
     "output_type": "execute_result"
    }
   ],
   "source": [
    "# new = old[['A', 'C', 'D']].copy()\n",
    "# new dataframe with just Min Delay column\n",
    "dfstrip = df[['Min Delay']].copy()\n",
    "dfstrip.head()"
   ]
  },
  {
   "cell_type": "code",
   "execution_count": 26,
   "metadata": {},
   "outputs": [
    {
     "data": {
      "text/html": [
       "<div>\n",
       "<style scoped>\n",
       "    .dataframe tbody tr th:only-of-type {\n",
       "        vertical-align: middle;\n",
       "    }\n",
       "\n",
       "    .dataframe tbody tr th {\n",
       "        vertical-align: top;\n",
       "    }\n",
       "\n",
       "    .dataframe thead th {\n",
       "        text-align: right;\n",
       "    }\n",
       "</style>\n",
       "<table border=\"1\" class=\"dataframe\">\n",
       "  <thead>\n",
       "    <tr style=\"text-align: right;\">\n",
       "      <th></th>\n",
       "      <th>Min Delay</th>\n",
       "    </tr>\n",
       "    <tr>\n",
       "      <th>Report Date Time</th>\n",
       "      <th></th>\n",
       "    </tr>\n",
       "  </thead>\n",
       "  <tbody>\n",
       "    <tr>\n",
       "      <th>2014-01-31</th>\n",
       "      <td>7.862069</td>\n",
       "    </tr>\n",
       "    <tr>\n",
       "      <th>2014-02-28</th>\n",
       "      <td>14.117978</td>\n",
       "    </tr>\n",
       "    <tr>\n",
       "      <th>2014-03-31</th>\n",
       "      <td>12.580595</td>\n",
       "    </tr>\n",
       "    <tr>\n",
       "      <th>2014-04-30</th>\n",
       "      <td>12.624365</td>\n",
       "    </tr>\n",
       "    <tr>\n",
       "      <th>2014-05-31</th>\n",
       "      <td>12.280083</td>\n",
       "    </tr>\n",
       "  </tbody>\n",
       "</table>\n",
       "</div>"
      ],
      "text/plain": [
       "                  Min Delay\n",
       "Report Date Time           \n",
       "2014-01-31         7.862069\n",
       "2014-02-28        14.117978\n",
       "2014-03-31        12.580595\n",
       "2014-04-30        12.624365\n",
       "2014-05-31        12.280083"
      ]
     },
     "execution_count": 26,
     "metadata": {},
     "output_type": "execute_result"
    }
   ],
   "source": [
    "dfmonthav = dfstrip.resample('M').mean()\n",
    "dfmonthav.head()"
   ]
  },
  {
   "cell_type": "code",
   "execution_count": 27,
   "metadata": {},
   "outputs": [],
   "source": [
    "# df3['new'] = df3.index\n",
    "dfmonthav['Report Date Time'] = dfmonthav.index"
   ]
  },
  {
   "cell_type": "code",
   "execution_count": 28,
   "metadata": {},
   "outputs": [
    {
     "data": {
      "text/html": [
       "<div>\n",
       "<style scoped>\n",
       "    .dataframe tbody tr th:only-of-type {\n",
       "        vertical-align: middle;\n",
       "    }\n",
       "\n",
       "    .dataframe tbody tr th {\n",
       "        vertical-align: top;\n",
       "    }\n",
       "\n",
       "    .dataframe thead th {\n",
       "        text-align: right;\n",
       "    }\n",
       "</style>\n",
       "<table border=\"1\" class=\"dataframe\">\n",
       "  <thead>\n",
       "    <tr style=\"text-align: right;\">\n",
       "      <th></th>\n",
       "      <th>Min Delay</th>\n",
       "      <th>Report Date Time</th>\n",
       "    </tr>\n",
       "    <tr>\n",
       "      <th>Report Date Time</th>\n",
       "      <th></th>\n",
       "      <th></th>\n",
       "    </tr>\n",
       "  </thead>\n",
       "  <tbody>\n",
       "    <tr>\n",
       "      <th>2018-10-31</th>\n",
       "      <td>11.875000</td>\n",
       "      <td>2018-10-31</td>\n",
       "    </tr>\n",
       "    <tr>\n",
       "      <th>2018-11-30</th>\n",
       "      <td>12.415046</td>\n",
       "      <td>2018-11-30</td>\n",
       "    </tr>\n",
       "    <tr>\n",
       "      <th>2018-12-31</th>\n",
       "      <td>13.820569</td>\n",
       "      <td>2018-12-31</td>\n",
       "    </tr>\n",
       "    <tr>\n",
       "      <th>2019-01-31</th>\n",
       "      <td>12.309718</td>\n",
       "      <td>2019-01-31</td>\n",
       "    </tr>\n",
       "    <tr>\n",
       "      <th>2019-02-28</th>\n",
       "      <td>13.105495</td>\n",
       "      <td>2019-02-28</td>\n",
       "    </tr>\n",
       "  </tbody>\n",
       "</table>\n",
       "</div>"
      ],
      "text/plain": [
       "                  Min Delay Report Date Time\n",
       "Report Date Time                            \n",
       "2018-10-31        11.875000       2018-10-31\n",
       "2018-11-30        12.415046       2018-11-30\n",
       "2018-12-31        13.820569       2018-12-31\n",
       "2019-01-31        12.309718       2019-01-31\n",
       "2019-02-28        13.105495       2019-02-28"
      ]
     },
     "execution_count": 28,
     "metadata": {},
     "output_type": "execute_result"
    }
   ],
   "source": [
    "dfmonthav.tail()"
   ]
  },
  {
   "cell_type": "markdown",
   "metadata": {},
   "source": [
    "# Create dataframe for delay count based forecasting\n"
   ]
  },
  {
   "cell_type": "code",
   "execution_count": 29,
   "metadata": {},
   "outputs": [
    {
     "data": {
      "text/html": [
       "<div>\n",
       "<style scoped>\n",
       "    .dataframe tbody tr th:only-of-type {\n",
       "        vertical-align: middle;\n",
       "    }\n",
       "\n",
       "    .dataframe tbody tr th {\n",
       "        vertical-align: top;\n",
       "    }\n",
       "\n",
       "    .dataframe thead th {\n",
       "        text-align: right;\n",
       "    }\n",
       "</style>\n",
       "<table border=\"1\" class=\"dataframe\">\n",
       "  <thead>\n",
       "    <tr style=\"text-align: right;\">\n",
       "      <th></th>\n",
       "      <th>Report Date</th>\n",
       "      <th>Route</th>\n",
       "      <th>Time</th>\n",
       "      <th>Day</th>\n",
       "      <th>Location</th>\n",
       "      <th>Incident</th>\n",
       "      <th>Min Delay</th>\n",
       "      <th>Min Gap</th>\n",
       "      <th>Direction</th>\n",
       "      <th>Vehicle</th>\n",
       "      <th>Report Date Time</th>\n",
       "    </tr>\n",
       "    <tr>\n",
       "      <th>Report Date Time</th>\n",
       "      <th></th>\n",
       "      <th></th>\n",
       "      <th></th>\n",
       "      <th></th>\n",
       "      <th></th>\n",
       "      <th></th>\n",
       "      <th></th>\n",
       "      <th></th>\n",
       "      <th></th>\n",
       "      <th></th>\n",
       "      <th></th>\n",
       "    </tr>\n",
       "  </thead>\n",
       "  <tbody>\n",
       "    <tr>\n",
       "      <th>2016-01-01 00:00:00</th>\n",
       "      <td>2016-01-01</td>\n",
       "      <td>505</td>\n",
       "      <td>00:00:00</td>\n",
       "      <td>Friday</td>\n",
       "      <td>Dundas West stnt to Broadview stn</td>\n",
       "      <td>General Delay</td>\n",
       "      <td>7.0</td>\n",
       "      <td>14.0</td>\n",
       "      <td>W/B</td>\n",
       "      <td>4028</td>\n",
       "      <td>2016-01-01 00:00:00</td>\n",
       "    </tr>\n",
       "    <tr>\n",
       "      <th>2016-01-01 02:14:00</th>\n",
       "      <td>2016-01-01</td>\n",
       "      <td>511</td>\n",
       "      <td>02:14:00</td>\n",
       "      <td>Friday</td>\n",
       "      <td>Fleet St. and Strachan Ave.</td>\n",
       "      <td>Mechanical</td>\n",
       "      <td>10.0</td>\n",
       "      <td>20.0</td>\n",
       "      <td>E/B</td>\n",
       "      <td>4018</td>\n",
       "      <td>2016-01-01 02:14:00</td>\n",
       "    </tr>\n",
       "    <tr>\n",
       "      <th>2016-01-01 02:22:00</th>\n",
       "      <td>2016-01-01</td>\n",
       "      <td>301</td>\n",
       "      <td>02:22:00</td>\n",
       "      <td>Friday</td>\n",
       "      <td>Queen St. West and Roncesvalles Ave.</td>\n",
       "      <td>Mechanical</td>\n",
       "      <td>9.0</td>\n",
       "      <td>18.0</td>\n",
       "      <td>W/B</td>\n",
       "      <td>4201</td>\n",
       "      <td>2016-01-01 02:22:00</td>\n",
       "    </tr>\n",
       "    <tr>\n",
       "      <th>2016-01-01 03:28:00</th>\n",
       "      <td>2016-01-01</td>\n",
       "      <td>301</td>\n",
       "      <td>03:28:00</td>\n",
       "      <td>Friday</td>\n",
       "      <td>Lake Shore Blvd. and Superior St.</td>\n",
       "      <td>Mechanical</td>\n",
       "      <td>20.0</td>\n",
       "      <td>40.0</td>\n",
       "      <td>E/B</td>\n",
       "      <td>4251</td>\n",
       "      <td>2016-01-01 03:28:00</td>\n",
       "    </tr>\n",
       "    <tr>\n",
       "      <th>2016-01-01 14:28:00</th>\n",
       "      <td>2016-01-01</td>\n",
       "      <td>501</td>\n",
       "      <td>14:28:00</td>\n",
       "      <td>Friday</td>\n",
       "      <td>Roncy to Neville Park</td>\n",
       "      <td>Mechanical</td>\n",
       "      <td>6.0</td>\n",
       "      <td>12.0</td>\n",
       "      <td>E/B</td>\n",
       "      <td>4242</td>\n",
       "      <td>2016-01-01 14:28:00</td>\n",
       "    </tr>\n",
       "  </tbody>\n",
       "</table>\n",
       "</div>"
      ],
      "text/plain": [
       "                    Report Date Route      Time     Day  \\\n",
       "Report Date Time                                          \n",
       "2016-01-01 00:00:00  2016-01-01   505  00:00:00  Friday   \n",
       "2016-01-01 02:14:00  2016-01-01   511  02:14:00  Friday   \n",
       "2016-01-01 02:22:00  2016-01-01   301  02:22:00  Friday   \n",
       "2016-01-01 03:28:00  2016-01-01   301  03:28:00  Friday   \n",
       "2016-01-01 14:28:00  2016-01-01   501  14:28:00  Friday   \n",
       "\n",
       "                                                 Location       Incident  \\\n",
       "Report Date Time                                                           \n",
       "2016-01-01 00:00:00     Dundas West stnt to Broadview stn  General Delay   \n",
       "2016-01-01 02:14:00           Fleet St. and Strachan Ave.     Mechanical   \n",
       "2016-01-01 02:22:00  Queen St. West and Roncesvalles Ave.     Mechanical   \n",
       "2016-01-01 03:28:00     Lake Shore Blvd. and Superior St.     Mechanical   \n",
       "2016-01-01 14:28:00                 Roncy to Neville Park     Mechanical   \n",
       "\n",
       "                     Min Delay  Min Gap Direction Vehicle    Report Date Time  \n",
       "Report Date Time                                                               \n",
       "2016-01-01 00:00:00        7.0     14.0       W/B    4028 2016-01-01 00:00:00  \n",
       "2016-01-01 02:14:00       10.0     20.0       E/B    4018 2016-01-01 02:14:00  \n",
       "2016-01-01 02:22:00        9.0     18.0       W/B    4201 2016-01-01 02:22:00  \n",
       "2016-01-01 03:28:00       20.0     40.0       E/B    4251 2016-01-01 03:28:00  \n",
       "2016-01-01 14:28:00        6.0     12.0       E/B    4242 2016-01-01 14:28:00  "
      ]
     },
     "execution_count": 29,
     "metadata": {},
     "output_type": "execute_result"
    }
   ],
   "source": [
    "df.head()"
   ]
  },
  {
   "cell_type": "code",
   "execution_count": 30,
   "metadata": {},
   "outputs": [
    {
     "data": {
      "text/html": [
       "<div>\n",
       "<style scoped>\n",
       "    .dataframe tbody tr th:only-of-type {\n",
       "        vertical-align: middle;\n",
       "    }\n",
       "\n",
       "    .dataframe tbody tr th {\n",
       "        vertical-align: top;\n",
       "    }\n",
       "\n",
       "    .dataframe thead th {\n",
       "        text-align: right;\n",
       "    }\n",
       "</style>\n",
       "<table border=\"1\" class=\"dataframe\">\n",
       "  <thead>\n",
       "    <tr style=\"text-align: right;\">\n",
       "      <th></th>\n",
       "      <th>Min Delay</th>\n",
       "    </tr>\n",
       "    <tr>\n",
       "      <th>Report Date Time</th>\n",
       "      <th></th>\n",
       "    </tr>\n",
       "  </thead>\n",
       "  <tbody>\n",
       "    <tr>\n",
       "      <th>2016-01-01 00:00:00</th>\n",
       "      <td>7.0</td>\n",
       "    </tr>\n",
       "    <tr>\n",
       "      <th>2016-01-01 02:14:00</th>\n",
       "      <td>10.0</td>\n",
       "    </tr>\n",
       "    <tr>\n",
       "      <th>2016-01-01 02:22:00</th>\n",
       "      <td>9.0</td>\n",
       "    </tr>\n",
       "    <tr>\n",
       "      <th>2016-01-01 03:28:00</th>\n",
       "      <td>20.0</td>\n",
       "    </tr>\n",
       "    <tr>\n",
       "      <th>2016-01-01 14:28:00</th>\n",
       "      <td>6.0</td>\n",
       "    </tr>\n",
       "  </tbody>\n",
       "</table>\n",
       "</div>"
      ],
      "text/plain": [
       "                     Min Delay\n",
       "Report Date Time              \n",
       "2016-01-01 00:00:00        7.0\n",
       "2016-01-01 02:14:00       10.0\n",
       "2016-01-01 02:22:00        9.0\n",
       "2016-01-01 03:28:00       20.0\n",
       "2016-01-01 14:28:00        6.0"
      ]
     },
     "execution_count": 30,
     "metadata": {},
     "output_type": "execute_result"
    }
   ],
   "source": [
    "dfstrip.head()"
   ]
  },
  {
   "cell_type": "code",
   "execution_count": 31,
   "metadata": {},
   "outputs": [
    {
     "data": {
      "text/html": [
       "<div>\n",
       "<style scoped>\n",
       "    .dataframe tbody tr th:only-of-type {\n",
       "        vertical-align: middle;\n",
       "    }\n",
       "\n",
       "    .dataframe tbody tr th {\n",
       "        vertical-align: top;\n",
       "    }\n",
       "\n",
       "    .dataframe thead th {\n",
       "        text-align: right;\n",
       "    }\n",
       "</style>\n",
       "<table border=\"1\" class=\"dataframe\">\n",
       "  <thead>\n",
       "    <tr style=\"text-align: right;\">\n",
       "      <th></th>\n",
       "      <th>Delay Count</th>\n",
       "    </tr>\n",
       "    <tr>\n",
       "      <th>Report Date Time</th>\n",
       "      <th></th>\n",
       "    </tr>\n",
       "  </thead>\n",
       "  <tbody>\n",
       "    <tr>\n",
       "      <th>2014-01-31</th>\n",
       "      <td>319</td>\n",
       "    </tr>\n",
       "    <tr>\n",
       "      <th>2014-02-28</th>\n",
       "      <td>178</td>\n",
       "    </tr>\n",
       "    <tr>\n",
       "      <th>2014-03-31</th>\n",
       "      <td>1278</td>\n",
       "    </tr>\n",
       "    <tr>\n",
       "      <th>2014-04-30</th>\n",
       "      <td>1182</td>\n",
       "    </tr>\n",
       "    <tr>\n",
       "      <th>2014-05-31</th>\n",
       "      <td>964</td>\n",
       "    </tr>\n",
       "  </tbody>\n",
       "</table>\n",
       "</div>"
      ],
      "text/plain": [
       "                  Delay Count\n",
       "Report Date Time             \n",
       "2014-01-31                319\n",
       "2014-02-28                178\n",
       "2014-03-31               1278\n",
       "2014-04-30               1182\n",
       "2014-05-31                964"
      ]
     },
     "execution_count": 31,
     "metadata": {},
     "output_type": "execute_result"
    }
   ],
   "source": [
    "dfmonthcount = dfstrip.resample('M').count()\n",
    "# df = df.rename(columns={'oldName1': 'newName1', 'oldName2': 'newName2'})\n",
    "dfmonthcount = dfmonthcount.rename(columns={'Min Delay':'Delay Count'})\n",
    "dfmonthcount.head()"
   ]
  },
  {
   "cell_type": "code",
   "execution_count": 32,
   "metadata": {},
   "outputs": [
    {
     "data": {
      "text/html": [
       "<div>\n",
       "<style scoped>\n",
       "    .dataframe tbody tr th:only-of-type {\n",
       "        vertical-align: middle;\n",
       "    }\n",
       "\n",
       "    .dataframe tbody tr th {\n",
       "        vertical-align: top;\n",
       "    }\n",
       "\n",
       "    .dataframe thead th {\n",
       "        text-align: right;\n",
       "    }\n",
       "</style>\n",
       "<table border=\"1\" class=\"dataframe\">\n",
       "  <thead>\n",
       "    <tr style=\"text-align: right;\">\n",
       "      <th></th>\n",
       "      <th>Delay Count</th>\n",
       "      <th>Report Date Time</th>\n",
       "    </tr>\n",
       "    <tr>\n",
       "      <th>Report Date Time</th>\n",
       "      <th></th>\n",
       "      <th></th>\n",
       "    </tr>\n",
       "  </thead>\n",
       "  <tbody>\n",
       "    <tr>\n",
       "      <th>2014-01-31</th>\n",
       "      <td>319</td>\n",
       "      <td>2014-01-31</td>\n",
       "    </tr>\n",
       "    <tr>\n",
       "      <th>2014-02-28</th>\n",
       "      <td>178</td>\n",
       "      <td>2014-02-28</td>\n",
       "    </tr>\n",
       "    <tr>\n",
       "      <th>2014-03-31</th>\n",
       "      <td>1278</td>\n",
       "      <td>2014-03-31</td>\n",
       "    </tr>\n",
       "    <tr>\n",
       "      <th>2014-04-30</th>\n",
       "      <td>1182</td>\n",
       "      <td>2014-04-30</td>\n",
       "    </tr>\n",
       "    <tr>\n",
       "      <th>2014-05-31</th>\n",
       "      <td>964</td>\n",
       "      <td>2014-05-31</td>\n",
       "    </tr>\n",
       "  </tbody>\n",
       "</table>\n",
       "</div>"
      ],
      "text/plain": [
       "                  Delay Count Report Date Time\n",
       "Report Date Time                              \n",
       "2014-01-31                319       2014-01-31\n",
       "2014-02-28                178       2014-02-28\n",
       "2014-03-31               1278       2014-03-31\n",
       "2014-04-30               1182       2014-04-30\n",
       "2014-05-31                964       2014-05-31"
      ]
     },
     "execution_count": 32,
     "metadata": {},
     "output_type": "execute_result"
    }
   ],
   "source": [
    "dfmonthcount['Report Date Time'] = dfmonthcount.index\n",
    "dfmonthcount.head()"
   ]
  },
  {
   "cell_type": "code",
   "execution_count": 33,
   "metadata": {},
   "outputs": [
    {
     "name": "stderr",
     "output_type": "stream",
     "text": [
      "/opt/conda/envs/fastai/lib/python3.6/site-packages/pandas/core/frame.py:6336: FutureWarning: 'Report Date Time' is both an index level and a column label.\n",
      "Defaulting to column, but this will raise an ambiguity error in a future version\n",
      "  rsuffix=rsuffix, sort=sort)\n"
     ]
    },
    {
     "data": {
      "text/html": [
       "<div>\n",
       "<style scoped>\n",
       "    .dataframe tbody tr th:only-of-type {\n",
       "        vertical-align: middle;\n",
       "    }\n",
       "\n",
       "    .dataframe tbody tr th {\n",
       "        vertical-align: top;\n",
       "    }\n",
       "\n",
       "    .dataframe thead th {\n",
       "        text-align: right;\n",
       "    }\n",
       "</style>\n",
       "<table border=\"1\" class=\"dataframe\">\n",
       "  <thead>\n",
       "    <tr style=\"text-align: right;\">\n",
       "      <th></th>\n",
       "      <th>Min Delay</th>\n",
       "      <th>Report Date Time_left</th>\n",
       "      <th>Delay Count</th>\n",
       "      <th>Report Date Time_right</th>\n",
       "    </tr>\n",
       "    <tr>\n",
       "      <th>Report Date Time</th>\n",
       "      <th></th>\n",
       "      <th></th>\n",
       "      <th></th>\n",
       "      <th></th>\n",
       "    </tr>\n",
       "  </thead>\n",
       "  <tbody>\n",
       "    <tr>\n",
       "      <th>2014-01-31</th>\n",
       "      <td>7.862069</td>\n",
       "      <td>2014-01-31</td>\n",
       "      <td>319</td>\n",
       "      <td>2014-01-31</td>\n",
       "    </tr>\n",
       "    <tr>\n",
       "      <th>2014-02-28</th>\n",
       "      <td>14.117978</td>\n",
       "      <td>2014-02-28</td>\n",
       "      <td>178</td>\n",
       "      <td>2014-02-28</td>\n",
       "    </tr>\n",
       "    <tr>\n",
       "      <th>2014-03-31</th>\n",
       "      <td>12.580595</td>\n",
       "      <td>2014-03-31</td>\n",
       "      <td>1278</td>\n",
       "      <td>2014-03-31</td>\n",
       "    </tr>\n",
       "    <tr>\n",
       "      <th>2014-04-30</th>\n",
       "      <td>12.624365</td>\n",
       "      <td>2014-04-30</td>\n",
       "      <td>1182</td>\n",
       "      <td>2014-04-30</td>\n",
       "    </tr>\n",
       "    <tr>\n",
       "      <th>2014-05-31</th>\n",
       "      <td>12.280083</td>\n",
       "      <td>2014-05-31</td>\n",
       "      <td>964</td>\n",
       "      <td>2014-05-31</td>\n",
       "    </tr>\n",
       "  </tbody>\n",
       "</table>\n",
       "</div>"
      ],
      "text/plain": [
       "                  Min Delay Report Date Time_left  Delay Count  \\\n",
       "Report Date Time                                                 \n",
       "2014-01-31         7.862069            2014-01-31          319   \n",
       "2014-02-28        14.117978            2014-02-28          178   \n",
       "2014-03-31        12.580595            2014-03-31         1278   \n",
       "2014-04-30        12.624365            2014-04-30         1182   \n",
       "2014-05-31        12.280083            2014-05-31          964   \n",
       "\n",
       "                 Report Date Time_right  \n",
       "Report Date Time                         \n",
       "2014-01-31                   2014-01-31  \n",
       "2014-02-28                   2014-02-28  \n",
       "2014-03-31                   2014-03-31  \n",
       "2014-04-30                   2014-04-30  \n",
       "2014-05-31                   2014-05-31  "
      ]
     },
     "execution_count": 33,
     "metadata": {},
     "output_type": "execute_result"
    }
   ],
   "source": [
    "# merged_data = merged_data.join(dm_cases.set_index('CASE_NUMBER'), on = 'CASE_NUMBER')\n",
    "dfmonthav = dfmonthav.join(dfmonthcount, on='Report Date Time',lsuffix='_left', rsuffix='_right')\n",
    "dfmonthav.head()"
   ]
  },
  {
   "cell_type": "code",
   "execution_count": 34,
   "metadata": {},
   "outputs": [
    {
     "data": {
      "text/html": [
       "<div>\n",
       "<style scoped>\n",
       "    .dataframe tbody tr th:only-of-type {\n",
       "        vertical-align: middle;\n",
       "    }\n",
       "\n",
       "    .dataframe tbody tr th {\n",
       "        vertical-align: top;\n",
       "    }\n",
       "\n",
       "    .dataframe thead th {\n",
       "        text-align: right;\n",
       "    }\n",
       "</style>\n",
       "<table border=\"1\" class=\"dataframe\">\n",
       "  <thead>\n",
       "    <tr style=\"text-align: right;\">\n",
       "      <th></th>\n",
       "      <th>Min Delay</th>\n",
       "      <th>Report Date Time_left</th>\n",
       "      <th>Delay Count</th>\n",
       "      <th>Report Date Time_right</th>\n",
       "    </tr>\n",
       "    <tr>\n",
       "      <th>Report Date Time</th>\n",
       "      <th></th>\n",
       "      <th></th>\n",
       "      <th></th>\n",
       "      <th></th>\n",
       "    </tr>\n",
       "  </thead>\n",
       "  <tbody>\n",
       "    <tr>\n",
       "      <th>2014-01-31</th>\n",
       "      <td>7.862069</td>\n",
       "      <td>2014-01-31</td>\n",
       "      <td>319</td>\n",
       "      <td>2014-01-31</td>\n",
       "    </tr>\n",
       "    <tr>\n",
       "      <th>2014-02-28</th>\n",
       "      <td>14.117978</td>\n",
       "      <td>2014-02-28</td>\n",
       "      <td>178</td>\n",
       "      <td>2014-02-28</td>\n",
       "    </tr>\n",
       "    <tr>\n",
       "      <th>2014-03-31</th>\n",
       "      <td>12.580595</td>\n",
       "      <td>2014-03-31</td>\n",
       "      <td>1278</td>\n",
       "      <td>2014-03-31</td>\n",
       "    </tr>\n",
       "    <tr>\n",
       "      <th>2014-04-30</th>\n",
       "      <td>12.624365</td>\n",
       "      <td>2014-04-30</td>\n",
       "      <td>1182</td>\n",
       "      <td>2014-04-30</td>\n",
       "    </tr>\n",
       "    <tr>\n",
       "      <th>2014-05-31</th>\n",
       "      <td>12.280083</td>\n",
       "      <td>2014-05-31</td>\n",
       "      <td>964</td>\n",
       "      <td>2014-05-31</td>\n",
       "    </tr>\n",
       "  </tbody>\n",
       "</table>\n",
       "</div>"
      ],
      "text/plain": [
       "                  Min Delay Report Date Time_left  Delay Count  \\\n",
       "Report Date Time                                                 \n",
       "2014-01-31         7.862069            2014-01-31          319   \n",
       "2014-02-28        14.117978            2014-02-28          178   \n",
       "2014-03-31        12.580595            2014-03-31         1278   \n",
       "2014-04-30        12.624365            2014-04-30         1182   \n",
       "2014-05-31        12.280083            2014-05-31          964   \n",
       "\n",
       "                 Report Date Time_right  \n",
       "Report Date Time                         \n",
       "2014-01-31                   2014-01-31  \n",
       "2014-02-28                   2014-02-28  \n",
       "2014-03-31                   2014-03-31  \n",
       "2014-04-30                   2014-04-30  \n",
       "2014-05-31                   2014-05-31  "
      ]
     },
     "execution_count": 34,
     "metadata": {},
     "output_type": "execute_result"
    }
   ],
   "source": [
    "dfmonthav.head()"
   ]
  },
  {
   "cell_type": "code",
   "execution_count": 35,
   "metadata": {},
   "outputs": [
    {
     "data": {
      "text/html": [
       "<div>\n",
       "<style scoped>\n",
       "    .dataframe tbody tr th:only-of-type {\n",
       "        vertical-align: middle;\n",
       "    }\n",
       "\n",
       "    .dataframe tbody tr th {\n",
       "        vertical-align: top;\n",
       "    }\n",
       "\n",
       "    .dataframe thead th {\n",
       "        text-align: right;\n",
       "    }\n",
       "</style>\n",
       "<table border=\"1\" class=\"dataframe\">\n",
       "  <thead>\n",
       "    <tr style=\"text-align: right;\">\n",
       "      <th></th>\n",
       "      <th>Min Delay</th>\n",
       "      <th>Report Date Time</th>\n",
       "      <th>Delay Count</th>\n",
       "      <th>Report Date Time_right</th>\n",
       "    </tr>\n",
       "    <tr>\n",
       "      <th>Report Date Time</th>\n",
       "      <th></th>\n",
       "      <th></th>\n",
       "      <th></th>\n",
       "      <th></th>\n",
       "    </tr>\n",
       "  </thead>\n",
       "  <tbody>\n",
       "    <tr>\n",
       "      <th>2014-01-31</th>\n",
       "      <td>7.862069</td>\n",
       "      <td>2014-01-31</td>\n",
       "      <td>319</td>\n",
       "      <td>2014-01-31</td>\n",
       "    </tr>\n",
       "    <tr>\n",
       "      <th>2014-02-28</th>\n",
       "      <td>14.117978</td>\n",
       "      <td>2014-02-28</td>\n",
       "      <td>178</td>\n",
       "      <td>2014-02-28</td>\n",
       "    </tr>\n",
       "    <tr>\n",
       "      <th>2014-03-31</th>\n",
       "      <td>12.580595</td>\n",
       "      <td>2014-03-31</td>\n",
       "      <td>1278</td>\n",
       "      <td>2014-03-31</td>\n",
       "    </tr>\n",
       "    <tr>\n",
       "      <th>2014-04-30</th>\n",
       "      <td>12.624365</td>\n",
       "      <td>2014-04-30</td>\n",
       "      <td>1182</td>\n",
       "      <td>2014-04-30</td>\n",
       "    </tr>\n",
       "    <tr>\n",
       "      <th>2014-05-31</th>\n",
       "      <td>12.280083</td>\n",
       "      <td>2014-05-31</td>\n",
       "      <td>964</td>\n",
       "      <td>2014-05-31</td>\n",
       "    </tr>\n",
       "  </tbody>\n",
       "</table>\n",
       "</div>"
      ],
      "text/plain": [
       "                  Min Delay Report Date Time  Delay Count  \\\n",
       "Report Date Time                                            \n",
       "2014-01-31         7.862069       2014-01-31          319   \n",
       "2014-02-28        14.117978       2014-02-28          178   \n",
       "2014-03-31        12.580595       2014-03-31         1278   \n",
       "2014-04-30        12.624365       2014-04-30         1182   \n",
       "2014-05-31        12.280083       2014-05-31          964   \n",
       "\n",
       "                 Report Date Time_right  \n",
       "Report Date Time                         \n",
       "2014-01-31                   2014-01-31  \n",
       "2014-02-28                   2014-02-28  \n",
       "2014-03-31                   2014-03-31  \n",
       "2014-04-30                   2014-04-30  \n",
       "2014-05-31                   2014-05-31  "
      ]
     },
     "execution_count": 35,
     "metadata": {},
     "output_type": "execute_result"
    }
   ],
   "source": [
    "dfmonthav = dfmonthav.rename(columns={'Report Date Time_left':'Report Date Time'})\n",
    "dfmonthav.drop(['Report Date Time_right'],axis=1)\n",
    "dfmonthav.head()"
   ]
  },
  {
   "cell_type": "code",
   "execution_count": 36,
   "metadata": {},
   "outputs": [
    {
     "data": {
      "text/html": [
       "<div>\n",
       "<style scoped>\n",
       "    .dataframe tbody tr th:only-of-type {\n",
       "        vertical-align: middle;\n",
       "    }\n",
       "\n",
       "    .dataframe tbody tr th {\n",
       "        vertical-align: top;\n",
       "    }\n",
       "\n",
       "    .dataframe thead th {\n",
       "        text-align: right;\n",
       "    }\n",
       "</style>\n",
       "<table border=\"1\" class=\"dataframe\">\n",
       "  <thead>\n",
       "    <tr style=\"text-align: right;\">\n",
       "      <th></th>\n",
       "      <th>Min Delay</th>\n",
       "      <th>Report Date Time</th>\n",
       "      <th>Delay Count</th>\n",
       "      <th>Report Date Time_right</th>\n",
       "    </tr>\n",
       "    <tr>\n",
       "      <th>Report Date Time</th>\n",
       "      <th></th>\n",
       "      <th></th>\n",
       "      <th></th>\n",
       "      <th></th>\n",
       "    </tr>\n",
       "  </thead>\n",
       "  <tbody>\n",
       "    <tr>\n",
       "      <th>2014-01-31</th>\n",
       "      <td>7.862069</td>\n",
       "      <td>2014-01-31</td>\n",
       "      <td>319</td>\n",
       "      <td>2014-01-31</td>\n",
       "    </tr>\n",
       "    <tr>\n",
       "      <th>2014-02-28</th>\n",
       "      <td>14.117978</td>\n",
       "      <td>2014-02-28</td>\n",
       "      <td>178</td>\n",
       "      <td>2014-02-28</td>\n",
       "    </tr>\n",
       "    <tr>\n",
       "      <th>2014-03-31</th>\n",
       "      <td>12.580595</td>\n",
       "      <td>2014-03-31</td>\n",
       "      <td>1278</td>\n",
       "      <td>2014-03-31</td>\n",
       "    </tr>\n",
       "    <tr>\n",
       "      <th>2014-04-30</th>\n",
       "      <td>12.624365</td>\n",
       "      <td>2014-04-30</td>\n",
       "      <td>1182</td>\n",
       "      <td>2014-04-30</td>\n",
       "    </tr>\n",
       "    <tr>\n",
       "      <th>2014-05-31</th>\n",
       "      <td>12.280083</td>\n",
       "      <td>2014-05-31</td>\n",
       "      <td>964</td>\n",
       "      <td>2014-05-31</td>\n",
       "    </tr>\n",
       "  </tbody>\n",
       "</table>\n",
       "</div>"
      ],
      "text/plain": [
       "                  Min Delay Report Date Time  Delay Count  \\\n",
       "Report Date Time                                            \n",
       "2014-01-31         7.862069       2014-01-31          319   \n",
       "2014-02-28        14.117978       2014-02-28          178   \n",
       "2014-03-31        12.580595       2014-03-31         1278   \n",
       "2014-04-30        12.624365       2014-04-30         1182   \n",
       "2014-05-31        12.280083       2014-05-31          964   \n",
       "\n",
       "                 Report Date Time_right  \n",
       "Report Date Time                         \n",
       "2014-01-31                   2014-01-31  \n",
       "2014-02-28                   2014-02-28  \n",
       "2014-03-31                   2014-03-31  \n",
       "2014-04-30                   2014-04-30  \n",
       "2014-05-31                   2014-05-31  "
      ]
     },
     "execution_count": 36,
     "metadata": {},
     "output_type": "execute_result"
    }
   ],
   "source": [
    "dfmonthav.drop(['Report Date Time_right'],axis=1)\n",
    "dfmonthav.head()"
   ]
  },
  {
   "cell_type": "code",
   "execution_count": 37,
   "metadata": {},
   "outputs": [
    {
     "data": {
      "text/plain": [
       "<matplotlib.axes._subplots.AxesSubplot at 0x7f18cbc98048>"
      ]
     },
     "execution_count": 37,
     "metadata": {},
     "output_type": "execute_result"
    },
    {
     "data": {
      "image/png": "[encoded data removed]",
      "text/plain": [
       "<Figure size 432x288 with 2 Axes>"
      ]
     },
     "metadata": {
      "needs_background": "light"
     },
     "output_type": "display_data"
    }
   ],
   "source": [
    "dfmonthav['Min Delay'].plot(legend=True)\n",
    "# df.B.plot(secondary_y=True, style='g')\n",
    "dfmonthav['Delay Count'].plot(secondary_y=True, style='g',legend=True)"
   ]
  },
  {
   "cell_type": "code",
   "execution_count": 38,
   "metadata": {
    "scrolled": true
   },
   "outputs": [],
   "source": [
    "#ax.set_ylabel('Average Delay')\n",
    "#ax.right_ax.set_ylabel('Number of delays')\n",
    "plt.rcParams[\"figure.figsize\"] = [8,4]\n",
    "plt.show()"
   ]
  },
  {
   "attachments": {},
   "cell_type": "markdown",
   "metadata": {},
   "source": [
    "# Time Series Forecasting\n",
    "**Trend** - Trend shows the variation in the output as time increases, often in a non-linear fashion. \n",
    "\n",
    "**Level** - The baseline value for a time series.\n",
    "\n",
    "**Seasonality** - is a characteristic of a time series in which the data experiences regular and predictable changes that recur every calendar year. Any predictable fluctuation or pattern that recurs or repeats over a one-year period is said to be seasonal - from https://www.investopedia.com/terms/s/seasonality.asp\n",
    "\n",
    "**Noise** - Random variation in the data."
   ]
  },
  {
   "cell_type": "code",
   "execution_count": 39,
   "metadata": {},
   "outputs": [
    {
     "name": "stdout",
     "output_type": "stream",
     "text": [
      "<class 'pandas.core.frame.DataFrame'>\n",
      "DatetimeIndex: 62 entries, 2014-01-31 to 2019-02-28\n",
      "Freq: M\n",
      "Data columns (total 4 columns):\n",
      "Min Delay                 62 non-null float64\n",
      "Report Date Time          62 non-null datetime64[ns]\n",
      "Delay Count               62 non-null int64\n",
      "Report Date Time_right    62 non-null datetime64[ns]\n",
      "dtypes: datetime64[ns](2), float64(1), int64(1)\n",
      "memory usage: 2.4 KB\n"
     ]
    }
   ],
   "source": [
    "dfmonthav.info()"
   ]
  },
  {
   "cell_type": "code",
   "execution_count": 40,
   "metadata": {},
   "outputs": [
    {
     "data": {
      "text/html": [
       "<div>\n",
       "<style scoped>\n",
       "    .dataframe tbody tr th:only-of-type {\n",
       "        vertical-align: middle;\n",
       "    }\n",
       "\n",
       "    .dataframe tbody tr th {\n",
       "        vertical-align: top;\n",
       "    }\n",
       "\n",
       "    .dataframe thead th {\n",
       "        text-align: right;\n",
       "    }\n",
       "</style>\n",
       "<table border=\"1\" class=\"dataframe\">\n",
       "  <thead>\n",
       "    <tr style=\"text-align: right;\">\n",
       "      <th></th>\n",
       "      <th>Min Delay</th>\n",
       "      <th>Report Date Time</th>\n",
       "      <th>Delay Count</th>\n",
       "      <th>Report Date Time_right</th>\n",
       "      <th>Month</th>\n",
       "    </tr>\n",
       "    <tr>\n",
       "      <th>Report Date Time</th>\n",
       "      <th></th>\n",
       "      <th></th>\n",
       "      <th></th>\n",
       "      <th></th>\n",
       "      <th></th>\n",
       "    </tr>\n",
       "  </thead>\n",
       "  <tbody>\n",
       "    <tr>\n",
       "      <th>2014-01-31</th>\n",
       "      <td>7.862069</td>\n",
       "      <td>2014-01-31</td>\n",
       "      <td>319</td>\n",
       "      <td>2014-01-31</td>\n",
       "      <td>1</td>\n",
       "    </tr>\n",
       "    <tr>\n",
       "      <th>2014-02-28</th>\n",
       "      <td>14.117978</td>\n",
       "      <td>2014-02-28</td>\n",
       "      <td>178</td>\n",
       "      <td>2014-02-28</td>\n",
       "      <td>2</td>\n",
       "    </tr>\n",
       "    <tr>\n",
       "      <th>2014-03-31</th>\n",
       "      <td>12.580595</td>\n",
       "      <td>2014-03-31</td>\n",
       "      <td>1278</td>\n",
       "      <td>2014-03-31</td>\n",
       "      <td>3</td>\n",
       "    </tr>\n",
       "    <tr>\n",
       "      <th>2014-04-30</th>\n",
       "      <td>12.624365</td>\n",
       "      <td>2014-04-30</td>\n",
       "      <td>1182</td>\n",
       "      <td>2014-04-30</td>\n",
       "      <td>4</td>\n",
       "    </tr>\n",
       "    <tr>\n",
       "      <th>2014-05-31</th>\n",
       "      <td>12.280083</td>\n",
       "      <td>2014-05-31</td>\n",
       "      <td>964</td>\n",
       "      <td>2014-05-31</td>\n",
       "      <td>5</td>\n",
       "    </tr>\n",
       "    <tr>\n",
       "      <th>2014-06-30</th>\n",
       "      <td>15.066437</td>\n",
       "      <td>2014-06-30</td>\n",
       "      <td>1159</td>\n",
       "      <td>2014-06-30</td>\n",
       "      <td>6</td>\n",
       "    </tr>\n",
       "    <tr>\n",
       "      <th>2014-07-31</th>\n",
       "      <td>13.701789</td>\n",
       "      <td>2014-07-31</td>\n",
       "      <td>1006</td>\n",
       "      <td>2014-07-31</td>\n",
       "      <td>7</td>\n",
       "    </tr>\n",
       "    <tr>\n",
       "      <th>2014-08-31</th>\n",
       "      <td>12.505335</td>\n",
       "      <td>2014-08-31</td>\n",
       "      <td>1031</td>\n",
       "      <td>2014-08-31</td>\n",
       "      <td>8</td>\n",
       "    </tr>\n",
       "    <tr>\n",
       "      <th>2014-09-30</th>\n",
       "      <td>13.930567</td>\n",
       "      <td>2014-09-30</td>\n",
       "      <td>1181</td>\n",
       "      <td>2014-09-30</td>\n",
       "      <td>9</td>\n",
       "    </tr>\n",
       "    <tr>\n",
       "      <th>2014-10-31</th>\n",
       "      <td>16.803625</td>\n",
       "      <td>2014-10-31</td>\n",
       "      <td>993</td>\n",
       "      <td>2014-10-31</td>\n",
       "      <td>10</td>\n",
       "    </tr>\n",
       "    <tr>\n",
       "      <th>2014-11-30</th>\n",
       "      <td>15.501160</td>\n",
       "      <td>2014-11-30</td>\n",
       "      <td>862</td>\n",
       "      <td>2014-11-30</td>\n",
       "      <td>11</td>\n",
       "    </tr>\n",
       "    <tr>\n",
       "      <th>2014-12-31</th>\n",
       "      <td>13.972540</td>\n",
       "      <td>2014-12-31</td>\n",
       "      <td>874</td>\n",
       "      <td>2014-12-31</td>\n",
       "      <td>12</td>\n",
       "    </tr>\n",
       "    <tr>\n",
       "      <th>2015-01-31</th>\n",
       "      <td>11.913779</td>\n",
       "      <td>2015-01-31</td>\n",
       "      <td>1241</td>\n",
       "      <td>2015-01-31</td>\n",
       "      <td>1</td>\n",
       "    </tr>\n",
       "    <tr>\n",
       "      <th>2015-02-28</th>\n",
       "      <td>11.418465</td>\n",
       "      <td>2015-02-28</td>\n",
       "      <td>1668</td>\n",
       "      <td>2015-02-28</td>\n",
       "      <td>2</td>\n",
       "    </tr>\n",
       "    <tr>\n",
       "      <th>2015-03-31</th>\n",
       "      <td>13.610687</td>\n",
       "      <td>2015-03-31</td>\n",
       "      <td>1048</td>\n",
       "      <td>2015-03-31</td>\n",
       "      <td>3</td>\n",
       "    </tr>\n",
       "    <tr>\n",
       "      <th>2015-04-30</th>\n",
       "      <td>13.791139</td>\n",
       "      <td>2015-04-30</td>\n",
       "      <td>948</td>\n",
       "      <td>2015-04-30</td>\n",
       "      <td>4</td>\n",
       "    </tr>\n",
       "    <tr>\n",
       "      <th>2015-05-31</th>\n",
       "      <td>16.212888</td>\n",
       "      <td>2015-05-31</td>\n",
       "      <td>869</td>\n",
       "      <td>2015-05-31</td>\n",
       "      <td>5</td>\n",
       "    </tr>\n",
       "    <tr>\n",
       "      <th>2015-06-30</th>\n",
       "      <td>16.766834</td>\n",
       "      <td>2015-06-30</td>\n",
       "      <td>995</td>\n",
       "      <td>2015-06-30</td>\n",
       "      <td>6</td>\n",
       "    </tr>\n",
       "    <tr>\n",
       "      <th>2015-07-31</th>\n",
       "      <td>11.854423</td>\n",
       "      <td>2015-07-31</td>\n",
       "      <td>893</td>\n",
       "      <td>2015-07-31</td>\n",
       "      <td>7</td>\n",
       "    </tr>\n",
       "    <tr>\n",
       "      <th>2015-08-31</th>\n",
       "      <td>12.429012</td>\n",
       "      <td>2015-08-31</td>\n",
       "      <td>972</td>\n",
       "      <td>2015-08-31</td>\n",
       "      <td>8</td>\n",
       "    </tr>\n",
       "  </tbody>\n",
       "</table>\n",
       "</div>"
      ],
      "text/plain": [
       "                  Min Delay Report Date Time  Delay Count  \\\n",
       "Report Date Time                                            \n",
       "2014-01-31         7.862069       2014-01-31          319   \n",
       "2014-02-28        14.117978       2014-02-28          178   \n",
       "2014-03-31        12.580595       2014-03-31         1278   \n",
       "2014-04-30        12.624365       2014-04-30         1182   \n",
       "2014-05-31        12.280083       2014-05-31          964   \n",
       "2014-06-30        15.066437       2014-06-30         1159   \n",
       "2014-07-31        13.701789       2014-07-31         1006   \n",
       "2014-08-31        12.505335       2014-08-31         1031   \n",
       "2014-09-30        13.930567       2014-09-30         1181   \n",
       "2014-10-31        16.803625       2014-10-31          993   \n",
       "2014-11-30        15.501160       2014-11-30          862   \n",
       "2014-12-31        13.972540       2014-12-31          874   \n",
       "2015-01-31        11.913779       2015-01-31         1241   \n",
       "2015-02-28        11.418465       2015-02-28         1668   \n",
       "2015-03-31        13.610687       2015-03-31         1048   \n",
       "2015-04-30        13.791139       2015-04-30          948   \n",
       "2015-05-31        16.212888       2015-05-31          869   \n",
       "2015-06-30        16.766834       2015-06-30          995   \n",
       "2015-07-31        11.854423       2015-07-31          893   \n",
       "2015-08-31        12.429012       2015-08-31          972   \n",
       "\n",
       "                 Report Date Time_right  Month  \n",
       "Report Date Time                                \n",
       "2014-01-31                   2014-01-31      1  \n",
       "2014-02-28                   2014-02-28      2  \n",
       "2014-03-31                   2014-03-31      3  \n",
       "2014-04-30                   2014-04-30      4  \n",
       "2014-05-31                   2014-05-31      5  \n",
       "2014-06-30                   2014-06-30      6  \n",
       "2014-07-31                   2014-07-31      7  \n",
       "2014-08-31                   2014-08-31      8  \n",
       "2014-09-30                   2014-09-30      9  \n",
       "2014-10-31                   2014-10-31     10  \n",
       "2014-11-30                   2014-11-30     11  \n",
       "2014-12-31                   2014-12-31     12  \n",
       "2015-01-31                   2015-01-31      1  \n",
       "2015-02-28                   2015-02-28      2  \n",
       "2015-03-31                   2015-03-31      3  \n",
       "2015-04-30                   2015-04-30      4  \n",
       "2015-05-31                   2015-05-31      5  \n",
       "2015-06-30                   2015-06-30      6  \n",
       "2015-07-31                   2015-07-31      7  \n",
       "2015-08-31                   2015-08-31      8  "
      ]
     },
     "execution_count": 40,
     "metadata": {},
     "output_type": "execute_result"
    }
   ],
   "source": [
    "# add a column to make scatter plot by month convenient\n",
    "dfmonthav['Month'] = dfmonthav['Report Date Time'].dt.month\n",
    "dfmonthav.head(20)"
   ]
  },
  {
   "cell_type": "code",
   "execution_count": 41,
   "metadata": {},
   "outputs": [
    {
     "data": {
      "text/html": [
       "<div>\n",
       "<style scoped>\n",
       "    .dataframe tbody tr th:only-of-type {\n",
       "        vertical-align: middle;\n",
       "    }\n",
       "\n",
       "    .dataframe tbody tr th {\n",
       "        vertical-align: top;\n",
       "    }\n",
       "\n",
       "    .dataframe thead th {\n",
       "        text-align: right;\n",
       "    }\n",
       "</style>\n",
       "<table border=\"1\" class=\"dataframe\">\n",
       "  <thead>\n",
       "    <tr style=\"text-align: right;\">\n",
       "      <th></th>\n",
       "      <th>Min Delay</th>\n",
       "      <th>Report Date Time</th>\n",
       "      <th>Delay Count</th>\n",
       "      <th>Report Date Time_right</th>\n",
       "      <th>Month</th>\n",
       "    </tr>\n",
       "    <tr>\n",
       "      <th>Report Date Time</th>\n",
       "      <th></th>\n",
       "      <th></th>\n",
       "      <th></th>\n",
       "      <th></th>\n",
       "      <th></th>\n",
       "    </tr>\n",
       "  </thead>\n",
       "  <tbody>\n",
       "    <tr>\n",
       "      <th>2014-01-31</th>\n",
       "      <td>7.862069</td>\n",
       "      <td>2014-01-31</td>\n",
       "      <td>319</td>\n",
       "      <td>2014-01-31</td>\n",
       "      <td>1</td>\n",
       "    </tr>\n",
       "    <tr>\n",
       "      <th>2014-02-28</th>\n",
       "      <td>14.117978</td>\n",
       "      <td>2014-02-28</td>\n",
       "      <td>178</td>\n",
       "      <td>2014-02-28</td>\n",
       "      <td>2</td>\n",
       "    </tr>\n",
       "    <tr>\n",
       "      <th>2014-03-31</th>\n",
       "      <td>12.580595</td>\n",
       "      <td>2014-03-31</td>\n",
       "      <td>1278</td>\n",
       "      <td>2014-03-31</td>\n",
       "      <td>3</td>\n",
       "    </tr>\n",
       "    <tr>\n",
       "      <th>2014-04-30</th>\n",
       "      <td>12.624365</td>\n",
       "      <td>2014-04-30</td>\n",
       "      <td>1182</td>\n",
       "      <td>2014-04-30</td>\n",
       "      <td>4</td>\n",
       "    </tr>\n",
       "    <tr>\n",
       "      <th>2014-05-31</th>\n",
       "      <td>12.280083</td>\n",
       "      <td>2014-05-31</td>\n",
       "      <td>964</td>\n",
       "      <td>2014-05-31</td>\n",
       "      <td>5</td>\n",
       "    </tr>\n",
       "    <tr>\n",
       "      <th>2014-06-30</th>\n",
       "      <td>15.066437</td>\n",
       "      <td>2014-06-30</td>\n",
       "      <td>1159</td>\n",
       "      <td>2014-06-30</td>\n",
       "      <td>6</td>\n",
       "    </tr>\n",
       "    <tr>\n",
       "      <th>2014-07-31</th>\n",
       "      <td>13.701789</td>\n",
       "      <td>2014-07-31</td>\n",
       "      <td>1006</td>\n",
       "      <td>2014-07-31</td>\n",
       "      <td>7</td>\n",
       "    </tr>\n",
       "    <tr>\n",
       "      <th>2014-08-31</th>\n",
       "      <td>12.505335</td>\n",
       "      <td>2014-08-31</td>\n",
       "      <td>1031</td>\n",
       "      <td>2014-08-31</td>\n",
       "      <td>8</td>\n",
       "    </tr>\n",
       "    <tr>\n",
       "      <th>2014-09-30</th>\n",
       "      <td>13.930567</td>\n",
       "      <td>2014-09-30</td>\n",
       "      <td>1181</td>\n",
       "      <td>2014-09-30</td>\n",
       "      <td>9</td>\n",
       "    </tr>\n",
       "    <tr>\n",
       "      <th>2014-10-31</th>\n",
       "      <td>16.803625</td>\n",
       "      <td>2014-10-31</td>\n",
       "      <td>993</td>\n",
       "      <td>2014-10-31</td>\n",
       "      <td>10</td>\n",
       "    </tr>\n",
       "    <tr>\n",
       "      <th>2014-11-30</th>\n",
       "      <td>15.501160</td>\n",
       "      <td>2014-11-30</td>\n",
       "      <td>862</td>\n",
       "      <td>2014-11-30</td>\n",
       "      <td>11</td>\n",
       "    </tr>\n",
       "    <tr>\n",
       "      <th>2014-12-31</th>\n",
       "      <td>13.972540</td>\n",
       "      <td>2014-12-31</td>\n",
       "      <td>874</td>\n",
       "      <td>2014-12-31</td>\n",
       "      <td>12</td>\n",
       "    </tr>\n",
       "    <tr>\n",
       "      <th>2015-01-31</th>\n",
       "      <td>11.913779</td>\n",
       "      <td>2015-01-31</td>\n",
       "      <td>1241</td>\n",
       "      <td>2015-01-31</td>\n",
       "      <td>1</td>\n",
       "    </tr>\n",
       "    <tr>\n",
       "      <th>2015-02-28</th>\n",
       "      <td>11.418465</td>\n",
       "      <td>2015-02-28</td>\n",
       "      <td>1668</td>\n",
       "      <td>2015-02-28</td>\n",
       "      <td>2</td>\n",
       "    </tr>\n",
       "    <tr>\n",
       "      <th>2015-03-31</th>\n",
       "      <td>13.610687</td>\n",
       "      <td>2015-03-31</td>\n",
       "      <td>1048</td>\n",
       "      <td>2015-03-31</td>\n",
       "      <td>3</td>\n",
       "    </tr>\n",
       "    <tr>\n",
       "      <th>2015-04-30</th>\n",
       "      <td>13.791139</td>\n",
       "      <td>2015-04-30</td>\n",
       "      <td>948</td>\n",
       "      <td>2015-04-30</td>\n",
       "      <td>4</td>\n",
       "    </tr>\n",
       "    <tr>\n",
       "      <th>2015-05-31</th>\n",
       "      <td>16.212888</td>\n",
       "      <td>2015-05-31</td>\n",
       "      <td>869</td>\n",
       "      <td>2015-05-31</td>\n",
       "      <td>5</td>\n",
       "    </tr>\n",
       "    <tr>\n",
       "      <th>2015-06-30</th>\n",
       "      <td>16.766834</td>\n",
       "      <td>2015-06-30</td>\n",
       "      <td>995</td>\n",
       "      <td>2015-06-30</td>\n",
       "      <td>6</td>\n",
       "    </tr>\n",
       "    <tr>\n",
       "      <th>2015-07-31</th>\n",
       "      <td>11.854423</td>\n",
       "      <td>2015-07-31</td>\n",
       "      <td>893</td>\n",
       "      <td>2015-07-31</td>\n",
       "      <td>7</td>\n",
       "    </tr>\n",
       "    <tr>\n",
       "      <th>2015-08-31</th>\n",
       "      <td>12.429012</td>\n",
       "      <td>2015-08-31</td>\n",
       "      <td>972</td>\n",
       "      <td>2015-08-31</td>\n",
       "      <td>8</td>\n",
       "    </tr>\n",
       "  </tbody>\n",
       "</table>\n",
       "</div>"
      ],
      "text/plain": [
       "                  Min Delay Report Date Time  Delay Count  \\\n",
       "Report Date Time                                            \n",
       "2014-01-31         7.862069       2014-01-31          319   \n",
       "2014-02-28        14.117978       2014-02-28          178   \n",
       "2014-03-31        12.580595       2014-03-31         1278   \n",
       "2014-04-30        12.624365       2014-04-30         1182   \n",
       "2014-05-31        12.280083       2014-05-31          964   \n",
       "2014-06-30        15.066437       2014-06-30         1159   \n",
       "2014-07-31        13.701789       2014-07-31         1006   \n",
       "2014-08-31        12.505335       2014-08-31         1031   \n",
       "2014-09-30        13.930567       2014-09-30         1181   \n",
       "2014-10-31        16.803625       2014-10-31          993   \n",
       "2014-11-30        15.501160       2014-11-30          862   \n",
       "2014-12-31        13.972540       2014-12-31          874   \n",
       "2015-01-31        11.913779       2015-01-31         1241   \n",
       "2015-02-28        11.418465       2015-02-28         1668   \n",
       "2015-03-31        13.610687       2015-03-31         1048   \n",
       "2015-04-30        13.791139       2015-04-30          948   \n",
       "2015-05-31        16.212888       2015-05-31          869   \n",
       "2015-06-30        16.766834       2015-06-30          995   \n",
       "2015-07-31        11.854423       2015-07-31          893   \n",
       "2015-08-31        12.429012       2015-08-31          972   \n",
       "\n",
       "                 Report Date Time_right  Month  \n",
       "Report Date Time                                \n",
       "2014-01-31                   2014-01-31      1  \n",
       "2014-02-28                   2014-02-28      2  \n",
       "2014-03-31                   2014-03-31      3  \n",
       "2014-04-30                   2014-04-30      4  \n",
       "2014-05-31                   2014-05-31      5  \n",
       "2014-06-30                   2014-06-30      6  \n",
       "2014-07-31                   2014-07-31      7  \n",
       "2014-08-31                   2014-08-31      8  \n",
       "2014-09-30                   2014-09-30      9  \n",
       "2014-10-31                   2014-10-31     10  \n",
       "2014-11-30                   2014-11-30     11  \n",
       "2014-12-31                   2014-12-31     12  \n",
       "2015-01-31                   2015-01-31      1  \n",
       "2015-02-28                   2015-02-28      2  \n",
       "2015-03-31                   2015-03-31      3  \n",
       "2015-04-30                   2015-04-30      4  \n",
       "2015-05-31                   2015-05-31      5  \n",
       "2015-06-30                   2015-06-30      6  \n",
       "2015-07-31                   2015-07-31      7  \n",
       "2015-08-31                   2015-08-31      8  "
      ]
     },
     "execution_count": 41,
     "metadata": {},
     "output_type": "execute_result"
    }
   ],
   "source": [
    "dfmonthav.head(20)"
   ]
  },
  {
   "cell_type": "code",
   "execution_count": 42,
   "metadata": {},
   "outputs": [
    {
     "data": {
      "image/png": "[encoded data removed]",
      "text/plain": [
       "<Figure size 576x288 with 1 Axes>"
      ]
     },
     "metadata": {
      "needs_background": "light"
     },
     "output_type": "display_data"
    }
   ],
   "source": [
    "# scatter plot to show mean delay in same month across years\n",
    "dfmonthav.plot.scatter(x = 'Month', y = 'Min Delay')\n",
    "plt.show()"
   ]
  },
  {
   "cell_type": "code",
   "execution_count": 43,
   "metadata": {},
   "outputs": [
    {
     "data": {
      "image/png": "[encoded data removed]",
      "text/plain": [
       "<Figure size 576x288 with 1 Axes>"
      ]
     },
     "metadata": {
      "needs_background": "light"
     },
     "output_type": "display_data"
    }
   ],
   "source": [
    "# scatter plot to show delay count in same month across years\n",
    "dfmonthav.plot.scatter(x = 'Month', y = 'Delay Count')\n",
    "plt.show()"
   ]
  },
  {
   "cell_type": "markdown",
   "metadata": {},
   "source": [
    "# Trend Analysis\n",
    "\n",
    "Use the built-in Pandas rolling function to smooth the data.\n",
    "\n",
    "For trend analysis, we use smoothing techniques. \n",
    "- In statistics smoothing a data set means to create an approximating function that attempts to capture important patterns in the data, while leaving out noise or other fine-scale structures/rapid phenomena. \n",
    "- In smoothing, the data points of a signal are modified so individual points (presumably because of noise) are reduced, and points that are lower than the adjacent points are increased leading to a smoother signal. \n",
    "\n",
    "We implement smoothing by taking moving averages. [Exponential moving average](https://www.investopedia.com/terms/e/ema.asp) is frequently used to compute smoothed function."
   ]
  },
  {
   "cell_type": "code",
   "execution_count": 44,
   "metadata": {},
   "outputs": [],
   "source": [
    "mean_delay = dfmonthav[['Min Delay']]\n",
    "count_delay = dfmonthav[['Delay Count']]"
   ]
  },
  {
   "cell_type": "code",
   "execution_count": 45,
   "metadata": {
    "scrolled": true
   },
   "outputs": [
    {
     "data": {
      "image/png": "[encoded data removed]",
      "text/plain": [
       "<Figure size 1440x720 with 1 Axes>"
      ]
     },
     "metadata": {
      "needs_background": "light"
     },
     "output_type": "display_data"
    }
   ],
   "source": [
    "mean_delay.rolling(6).mean().plot(figsize=(20,10), linewidth=5, fontsize=20)\n",
    "plt.show()"
   ]
  },
  {
   "cell_type": "code",
   "execution_count": 46,
   "metadata": {},
   "outputs": [
    {
     "data": {
      "image/png": "[encoded data removed]",
      "text/plain": [
       "<Figure size 1440x720 with 1 Axes>"
      ]
     },
     "metadata": {
      "needs_background": "light"
     },
     "output_type": "display_data"
    }
   ],
   "source": [
    "count_delay.rolling(6).mean().plot(figsize=(20,10), linewidth=5, fontsize=20)\n",
    "plt.show()"
   ]
  },
  {
   "cell_type": "markdown",
   "metadata": {},
   "source": [
    "# Seasonality Analysis\n",
    "\n",
    "Two examples of seasonality analysis algorithms are:\n",
    "\n",
    "[Using 1st discrete difference of object](https://machinelearningmastery.com/difference-time-series-dataset-python/)\n",
    "\n",
    "[Periodicity and Autocorrelation](https://machinelearningmastery.com/gentle-introduction-autocorrelation-partial-autocorrelation/)"
   ]
  },
  {
   "cell_type": "code",
   "execution_count": 47,
   "metadata": {},
   "outputs": [
    {
     "data": {
      "image/png": "[encoded data removed]",
      "text/plain": [
       "<Figure size 1440x720 with 1 Axes>"
      ]
     },
     "metadata": {
      "needs_background": "light"
     },
     "output_type": "display_data"
    }
   ],
   "source": [
    "# using 1st discrete difference of object\n",
    "# This gives us idea about variation of data for a period of time.\n",
    "mean_delay.diff(periods=4).plot(figsize=(20,10), linewidth=5, fontsize=20)\n",
    "plt.show()"
   ]
  },
  {
   "cell_type": "code",
   "execution_count": 48,
   "metadata": {},
   "outputs": [
    {
     "data": {
      "image/png": "[encoded data removed]",
      "text/plain": [
       "<Figure size 1440x720 with 1 Axes>"
      ]
     },
     "metadata": {
      "needs_background": "light"
     },
     "output_type": "display_data"
    }
   ],
   "source": [
    "count_delay.diff(periods=4).plot(figsize=(20,10), linewidth=5, fontsize=20)\n",
    "plt.show()"
   ]
  },
  {
   "cell_type": "markdown",
   "metadata": {},
   "source": [
    "Auto correlation is the most famous way to understand seasonal variation till now. We can calculate the correlation for time series observations with observations with previous time steps, called lags. Because the correlation of the time series observations is calculated with values of the same series at previous times, this is called a serial correlation, or an autocorrelation.In this plot vertical axis is represented by the following equations:-\n",
    "\n",
    "> $C_n = \\sum_{t = 1}^{n - h} (y(t) - \\hat{y}) (y(t + n) - \\hat{y}) / n$\n",
    "\n",
    "> $C_0 = \\sum_{t = 1}^{n} (y(t) - \\hat{y})^2 / n$\n",
    "\n",
    "Horizontal axis represents time lag(previous time steps)  h"
   ]
  },
  {
   "cell_type": "code",
   "execution_count": 49,
   "metadata": {},
   "outputs": [
    {
     "data": {
      "image/png": "[encoded data removed]",
      "text/plain": [
       "<Figure size 576x288 with 1 Axes>"
      ]
     },
     "metadata": {
      "needs_background": "light"
     },
     "output_type": "display_data"
    }
   ],
   "source": [
    "# mean_delay = dfmonthav[['Min Delay']]\n",
    "# count_delay = dfmonthav[['Delay Count']]\n",
    "\n",
    "\n",
    "pd.plotting.autocorrelation_plot(dfmonthav['Min Delay'])\n",
    "plt.show()\n",
    "# The following curve represents the relation between current time step and its previous time step"
   ]
  },
  {
   "cell_type": "code",
   "execution_count": 50,
   "metadata": {},
   "outputs": [
    {
     "data": {
      "image/png": "[encoded data removed]",
      "text/plain": [
       "<Figure size 576x288 with 1 Axes>"
      ]
     },
     "metadata": {
      "needs_background": "light"
     },
     "output_type": "display_data"
    }
   ],
   "source": [
    "pd.plotting.autocorrelation_plot(dfmonthav['Delay Count'])\n",
    "plt.show()\n",
    "# The following curve represents the relation between current time step and its previous time step"
   ]
  },
  {
   "cell_type": "code",
   "execution_count": 51,
   "metadata": {},
   "outputs": [
    {
     "data": {
      "image/png": "[encoded data removed]",
      "text/plain": [
       "<Figure size 576x288 with 1 Axes>"
      ]
     },
     "metadata": {
      "needs_background": "light"
     },
     "output_type": "display_data"
    }
   ],
   "source": [
    "pd.plotting.lag_plot(dfmonthav['Min Delay'])\n",
    "plt.show()"
   ]
  },
  {
   "cell_type": "code",
   "execution_count": 52,
   "metadata": {},
   "outputs": [
    {
     "data": {
      "image/png": "[encoded data removed]",
      "text/plain": [
       "<Figure size 576x288 with 1 Axes>"
      ]
     },
     "metadata": {
      "needs_background": "light"
     },
     "output_type": "display_data"
    }
   ],
   "source": [
    "pd.plotting.lag_plot(dfmonthav['Delay Count'])\n",
    "plt.show()"
   ]
  },
  {
   "cell_type": "code",
   "execution_count": 71,
   "metadata": {},
   "outputs": [
    {
     "name": "stdout",
     "output_type": "stream",
     "text": [
      "Pixiedust database opened successfully\n"
     ]
    },
    {
     "data": {
      "text/html": [
       "\n",
       "        <div style=\"margin:10px\">\n",
       "            <a href=\"https://github.com/ibm-watson-data-lab/pixiedust\" target=\"_new\">\n",
       "                <img src=\"https://github.com/ibm-watson-data-lab/pixiedust/raw/master/docs/_static/pd_icon32.png\" style=\"float:left;margin-right:10px\"/>\n",
       "            </a>\n",
       "            <span>Pixiedust version 1.1.14</span>\n",
       "        </div>\n",
       "        "
      ],
      "text/plain": [
       "<IPython.core.display.HTML object>"
      ]
     },
     "metadata": {},
     "output_type": "display_data"
    }
   ],
   "source": [
    "import pixiedust"
   ]
  },
  {
   "cell_type": "code",
   "execution_count": null,
   "metadata": {
    "pixiedust": {
     "displayParams": {
      "binsize": "23",
      "chartsize": "70",
      "handlerId": "barChart",
      "keyFields": "Route",
      "mapboxtoken": "pk.eyJ1Ijoicnlhbm1hcmsiLCJhIjoiY2pvM2JnZmE0MHY5dzNxcXM0Zmw3c2RwZSJ9.k-PhU8qMVztXtdyuX2Yjpw",
      "sortby": "Values DESC",
      "stretch": "false",
      "tableFields": "Day",
      "valueFields": "Min Delay"
     }
    },
    "scrolled": false
   },
   "outputs": [
    {
     "data": {
      "text/html": [
       "<style type=\"text/css\">.pd_warning{display:none;}</style><div class=\"pd_warning\"><em>Hey, there's something awesome here! To see it, open this notebook outside GitHub, in a viewer like Jupyter</em></div>\n",
       "        <div class=\"pd_save is-viewer-good\" style=\"padding-right:10px;text-align: center;line-height:initial !important;font-size: xx-large;font-weight: 500;color: coral;\">\n",
       "            \n",
       "        </div>\n",
       "    <div id=\"chartFiguref30ddda1\" class=\"pd_save is-viewer-good\" style=\"overflow-x:auto\">\n",
       "            \n",
       "                    \n",
       "                            <center><img style=\"max-width:initial !important\" src=\"data:image/png;base64,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\" class=\"pd_save\"></center>\n",
       "                        \n",
       "                    \n",
       "                \n",
       "        </div>"
      ],
      "text/plain": [
       "<IPython.core.display.HTML object>"
      ]
     },
     "metadata": {},
     "output_type": "display_data"
    }
   ],
   "source": [
    "display(df)"
   ]
  }
 ],
 "metadata": {
  "kernelspec": {
   "display_name": "Python 3",
   "language": "python",
   "name": "python3"
  },
  "language_info": {
   "codemirror_mode": {
    "name": "ipython",
    "version": 3
   },
   "file_extension": ".py",
   "mimetype": "text/x-python",
   "name": "python",
   "nbconvert_exporter": "python",
   "pygments_lexer": "ipython3",
   "version": "3.6.7"
  }
 },
 "nbformat": 4,
 "nbformat_minor": 2
}
